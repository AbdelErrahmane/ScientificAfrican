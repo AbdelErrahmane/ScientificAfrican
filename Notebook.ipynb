{
 "cells": [
  {
   "cell_type": "code",
   "execution_count": null,
   "metadata": {},
   "outputs": [],
   "source": []
  },
  {
   "cell_type": "markdown",
   "metadata": {},
   "source": [
    "# Notebook Overview\n",
    "\n",
    "This notebook performs data preprocessing and feature selection on the NF-ToN-IoT-v2 dataset. The steps are as follows:"
   ]
  },
  {
   "cell_type": "markdown",
   "metadata": {},
   "source": [
    "\n",
    "1. **Importing Libraries and Loading Data**:\n",
    "    - Import necessary libraries such as pandas and warnings.\n",
    "    - Load the dataset from a CSV file."
   ]
  },
  {
   "cell_type": "code",
   "execution_count": 1,
   "metadata": {},
   "outputs": [],
   "source": [
    "import pandas as pd\n",
    "import warnings\n",
    "warnings.filterwarnings('ignore')\n",
    "\n",
    "ton_iot = pd.read_csv('NF-ToN-IoT-v2.csv')\n"
   ]
  },
  {
   "cell_type": "markdown",
   "metadata": {},
   "source": [
    "2. **Feature Deletion**:\n",
    "    - Define lists of features to be deleted based on different criteria such as categorical features, unused features, target features, and features to be dropped due to high correlation or high variance inflation factor (VIF).\n",
    "    - Drop the specified features from the dataset."
   ]
  },
  {
   "cell_type": "markdown",
   "metadata": {},
   "source": [
    "### Deletes features from "
   ]
  },
  {
   "cell_type": "code",
   "execution_count": 2,
   "metadata": {},
   "outputs": [],
   "source": [
    "categorical_feature = ['L4_SRC_PORT','L4_DST_PORT','IPV4_SRC_ADDR',\n",
    "                       'IPV4_DST_ADDR','PROTOCOL',\n",
    "                       'L7_PROTO','DNS_QUERY_TYPE','ICMP_TYPE'\n",
    "                        ,'ICMP_IPV4_TYPE','DNS_TTL_ANSWER']\n",
    "\n",
    "\n",
    "not_used = ['DNS_QUERY_ID','FTP_COMMAND_RET_CODE']\n",
    "\n",
    "tagets = ['Attack','Label']\n",
    "\n",
    "to_drop_corr_col = ['SERVER_TCP_FLAGS', 'MAX_TTL', 'MAX_IP_PKT_LEN', 'RETRANSMITTED_OUT_PKTS']\n",
    "\n",
    "to_drop_VIF = ['NUM_PKTS_1024_TO_1514_BYTES', 'CLIENT_TCP_FLAGS']\n",
    "\n",
    "#to_drop = categorical_feature+not_used+tagets + to_drop_corr_col + to_drop_VIF\n",
    "\n",
    "#X_Numerical = ton_iot.drop(columns=to_drop)\n",
    "\n",
    "to_drop = not_used+tagets + to_drop_corr_col + to_drop_VIF\n",
    "\n",
    "X = ton_iot.drop(columns=to_drop)\n"
   ]
  },
  {
   "cell_type": "code",
   "execution_count": 3,
   "metadata": {},
   "outputs": [],
   "source": [
    "X['SRC_TO_DST_SECOND_BYTES'] = X['SRC_TO_DST_SECOND_BYTES'].astype(int)\n",
    "X['DST_TO_SRC_SECOND_BYTES'] = X['DST_TO_SRC_SECOND_BYTES'].astype(int)\n",
    "\n",
    "y_b = ton_iot['Label']\n"
   ]
  },
  {
   "cell_type": "code",
   "execution_count": null,
   "metadata": {},
   "outputs": [],
   "source": []
  },
  {
   "cell_type": "code",
   "execution_count": 4,
   "metadata": {},
   "outputs": [
    {
     "data": {
      "text/plain": [
       "(16940496, 35)"
      ]
     },
     "execution_count": 4,
     "metadata": {},
     "output_type": "execute_result"
    }
   ],
   "source": [
    "X.shape"
   ]
  },
  {
   "cell_type": "markdown",
   "metadata": {},
   "source": [
    "## Scaling of Numerical value using  quantile"
   ]
  },
  {
   "cell_type": "code",
   "execution_count": 5,
   "metadata": {},
   "outputs": [],
   "source": [
    "from sklearn.model_selection import train_test_split\n",
    "\n",
    "\n",
    "\n",
    "X_train, X, y_train, y_b = train_test_split(X, y_b, test_size=0.1, random_state=42)\n",
    "\n"
   ]
  },
  {
   "cell_type": "code",
   "execution_count": 6,
   "metadata": {},
   "outputs": [],
   "source": [
    "del ton_iot\n",
    "del X_train\n",
    "del y_train\n"
   ]
  },
  {
   "cell_type": "code",
   "execution_count": 7,
   "metadata": {},
   "outputs": [],
   "source": [
    "X = X.reset_index()\n",
    "y_b = y_b.reset_index()\n"
   ]
  },
  {
   "cell_type": "code",
   "execution_count": 8,
   "metadata": {},
   "outputs": [],
   "source": [
    "\n",
    "X = X.drop(columns='index')\n",
    "y_b = y_b.drop(columns='index')"
   ]
  },
  {
   "cell_type": "code",
   "execution_count": 9,
   "metadata": {},
   "outputs": [],
   "source": [
    "X_Numerical = X.drop(columns=categorical_feature)"
   ]
  },
  {
   "cell_type": "code",
   "execution_count": 10,
   "metadata": {},
   "outputs": [
    {
     "data": {
      "text/html": [
       "<div>\n",
       "<style scoped>\n",
       "    .dataframe tbody tr th:only-of-type {\n",
       "        vertical-align: middle;\n",
       "    }\n",
       "\n",
       "    .dataframe tbody tr th {\n",
       "        vertical-align: top;\n",
       "    }\n",
       "\n",
       "    .dataframe thead th {\n",
       "        text-align: right;\n",
       "    }\n",
       "</style>\n",
       "<table border=\"1\" class=\"dataframe\">\n",
       "  <thead>\n",
       "    <tr style=\"text-align: right;\">\n",
       "      <th></th>\n",
       "      <th>IN_BYTES</th>\n",
       "      <th>IN_PKTS</th>\n",
       "      <th>OUT_BYTES</th>\n",
       "      <th>OUT_PKTS</th>\n",
       "      <th>TCP_FLAGS</th>\n",
       "      <th>FLOW_DURATION_MILLISECONDS</th>\n",
       "      <th>DURATION_IN</th>\n",
       "      <th>DURATION_OUT</th>\n",
       "      <th>MIN_TTL</th>\n",
       "      <th>LONGEST_FLOW_PKT</th>\n",
       "      <th>...</th>\n",
       "      <th>RETRANSMITTED_IN_PKTS</th>\n",
       "      <th>RETRANSMITTED_OUT_BYTES</th>\n",
       "      <th>SRC_TO_DST_AVG_THROUGHPUT</th>\n",
       "      <th>DST_TO_SRC_AVG_THROUGHPUT</th>\n",
       "      <th>NUM_PKTS_UP_TO_128_BYTES</th>\n",
       "      <th>NUM_PKTS_128_TO_256_BYTES</th>\n",
       "      <th>NUM_PKTS_256_TO_512_BYTES</th>\n",
       "      <th>NUM_PKTS_512_TO_1024_BYTES</th>\n",
       "      <th>TCP_WIN_MAX_IN</th>\n",
       "      <th>TCP_WIN_MAX_OUT</th>\n",
       "    </tr>\n",
       "  </thead>\n",
       "  <tbody>\n",
       "    <tr>\n",
       "      <th>0</th>\n",
       "      <td>661</td>\n",
       "      <td>10</td>\n",
       "      <td>2234</td>\n",
       "      <td>8</td>\n",
       "      <td>27</td>\n",
       "      <td>4294733</td>\n",
       "      <td>234</td>\n",
       "      <td>234</td>\n",
       "      <td>64</td>\n",
       "      <td>1500</td>\n",
       "      <td>...</td>\n",
       "      <td>0</td>\n",
       "      <td>0</td>\n",
       "      <td>16000</td>\n",
       "      <td>72000</td>\n",
       "      <td>15</td>\n",
       "      <td>0</td>\n",
       "      <td>2</td>\n",
       "      <td>0</td>\n",
       "      <td>29200</td>\n",
       "      <td>65535</td>\n",
       "    </tr>\n",
       "    <tr>\n",
       "      <th>1</th>\n",
       "      <td>112</td>\n",
       "      <td>2</td>\n",
       "      <td>112</td>\n",
       "      <td>2</td>\n",
       "      <td>19</td>\n",
       "      <td>4294904</td>\n",
       "      <td>0</td>\n",
       "      <td>63</td>\n",
       "      <td>64</td>\n",
       "      <td>60</td>\n",
       "      <td>...</td>\n",
       "      <td>0</td>\n",
       "      <td>0</td>\n",
       "      <td>896000</td>\n",
       "      <td>8000</td>\n",
       "      <td>4</td>\n",
       "      <td>0</td>\n",
       "      <td>0</td>\n",
       "      <td>0</td>\n",
       "      <td>29200</td>\n",
       "      <td>28960</td>\n",
       "    </tr>\n",
       "    <tr>\n",
       "      <th>2</th>\n",
       "      <td>48</td>\n",
       "      <td>1</td>\n",
       "      <td>0</td>\n",
       "      <td>0</td>\n",
       "      <td>2</td>\n",
       "      <td>0</td>\n",
       "      <td>0</td>\n",
       "      <td>0</td>\n",
       "      <td>0</td>\n",
       "      <td>48</td>\n",
       "      <td>...</td>\n",
       "      <td>0</td>\n",
       "      <td>0</td>\n",
       "      <td>384000</td>\n",
       "      <td>0</td>\n",
       "      <td>1</td>\n",
       "      <td>0</td>\n",
       "      <td>0</td>\n",
       "      <td>0</td>\n",
       "      <td>4096</td>\n",
       "      <td>0</td>\n",
       "    </tr>\n",
       "    <tr>\n",
       "      <th>3</th>\n",
       "      <td>4106</td>\n",
       "      <td>8</td>\n",
       "      <td>2132</td>\n",
       "      <td>7</td>\n",
       "      <td>27</td>\n",
       "      <td>0</td>\n",
       "      <td>0</td>\n",
       "      <td>0</td>\n",
       "      <td>64</td>\n",
       "      <td>1500</td>\n",
       "      <td>...</td>\n",
       "      <td>0</td>\n",
       "      <td>0</td>\n",
       "      <td>32848000</td>\n",
       "      <td>17056000</td>\n",
       "      <td>10</td>\n",
       "      <td>0</td>\n",
       "      <td>1</td>\n",
       "      <td>1</td>\n",
       "      <td>29200</td>\n",
       "      <td>26847</td>\n",
       "    </tr>\n",
       "  </tbody>\n",
       "</table>\n",
       "<p>4 rows × 25 columns</p>\n",
       "</div>"
      ],
      "text/plain": [
       "   IN_BYTES  IN_PKTS  OUT_BYTES  OUT_PKTS  TCP_FLAGS  \\\n",
       "0       661       10       2234         8         27   \n",
       "1       112        2        112         2         19   \n",
       "2        48        1          0         0          2   \n",
       "3      4106        8       2132         7         27   \n",
       "\n",
       "   FLOW_DURATION_MILLISECONDS  DURATION_IN  DURATION_OUT  MIN_TTL  \\\n",
       "0                     4294733          234           234       64   \n",
       "1                     4294904            0            63       64   \n",
       "2                           0            0             0        0   \n",
       "3                           0            0             0       64   \n",
       "\n",
       "   LONGEST_FLOW_PKT  ...  RETRANSMITTED_IN_PKTS  RETRANSMITTED_OUT_BYTES  \\\n",
       "0              1500  ...                      0                        0   \n",
       "1                60  ...                      0                        0   \n",
       "2                48  ...                      0                        0   \n",
       "3              1500  ...                      0                        0   \n",
       "\n",
       "   SRC_TO_DST_AVG_THROUGHPUT  DST_TO_SRC_AVG_THROUGHPUT  \\\n",
       "0                      16000                      72000   \n",
       "1                     896000                       8000   \n",
       "2                     384000                          0   \n",
       "3                   32848000                   17056000   \n",
       "\n",
       "   NUM_PKTS_UP_TO_128_BYTES  NUM_PKTS_128_TO_256_BYTES  \\\n",
       "0                        15                          0   \n",
       "1                         4                          0   \n",
       "2                         1                          0   \n",
       "3                        10                          0   \n",
       "\n",
       "   NUM_PKTS_256_TO_512_BYTES  NUM_PKTS_512_TO_1024_BYTES  TCP_WIN_MAX_IN  \\\n",
       "0                          2                           0           29200   \n",
       "1                          0                           0           29200   \n",
       "2                          0                           0            4096   \n",
       "3                          1                           1           29200   \n",
       "\n",
       "   TCP_WIN_MAX_OUT  \n",
       "0            65535  \n",
       "1            28960  \n",
       "2                0  \n",
       "3            26847  \n",
       "\n",
       "[4 rows x 25 columns]"
      ]
     },
     "execution_count": 10,
     "metadata": {},
     "output_type": "execute_result"
    }
   ],
   "source": [
    "X_Numerical.head(4)"
   ]
  },
  {
   "cell_type": "code",
   "execution_count": 11,
   "metadata": {},
   "outputs": [],
   "source": [
    "from sklearn.preprocessing import StandardScaler\n",
    "\n",
    "scaler = StandardScaler()\n",
    "\n",
    "X_Numerical_sc = pd.DataFrame()\n",
    "\n",
    "scaler.fit(X_Numerical)\n",
    "\n",
    "X_Numerical_sc[X_Numerical.columns] = scaler.transform(X_Numerical)"
   ]
  },
  {
   "cell_type": "code",
   "execution_count": 12,
   "metadata": {},
   "outputs": [
    {
     "data": {
      "text/plain": [
       "(1694050, 25)"
      ]
     },
     "execution_count": 12,
     "metadata": {},
     "output_type": "execute_result"
    }
   ],
   "source": [
    "X_Numerical_sc.shape"
   ]
  },
  {
   "cell_type": "code",
   "execution_count": 13,
   "metadata": {},
   "outputs": [
    {
     "data": {
      "text/html": [
       "<div>\n",
       "<style scoped>\n",
       "    .dataframe tbody tr th:only-of-type {\n",
       "        vertical-align: middle;\n",
       "    }\n",
       "\n",
       "    .dataframe tbody tr th {\n",
       "        vertical-align: top;\n",
       "    }\n",
       "\n",
       "    .dataframe thead th {\n",
       "        text-align: right;\n",
       "    }\n",
       "</style>\n",
       "<table border=\"1\" class=\"dataframe\">\n",
       "  <thead>\n",
       "    <tr style=\"text-align: right;\">\n",
       "      <th></th>\n",
       "      <th>Label</th>\n",
       "    </tr>\n",
       "  </thead>\n",
       "  <tbody>\n",
       "    <tr>\n",
       "      <th>0</th>\n",
       "      <td>1</td>\n",
       "    </tr>\n",
       "    <tr>\n",
       "      <th>1</th>\n",
       "      <td>1</td>\n",
       "    </tr>\n",
       "  </tbody>\n",
       "</table>\n",
       "</div>"
      ],
      "text/plain": [
       "   Label\n",
       "0      1\n",
       "1      1"
      ]
     },
     "execution_count": 13,
     "metadata": {},
     "output_type": "execute_result"
    }
   ],
   "source": [
    "y_b.head(2)"
   ]
  },
  {
   "cell_type": "code",
   "execution_count": 14,
   "metadata": {},
   "outputs": [
    {
     "name": "stdout",
     "output_type": "stream",
     "text": [
      "Numerical\n",
      "20.0\n",
      "12.5\n",
      "5.0\n",
      "categorical\n",
      "8.0\n",
      "5.0\n",
      "2.0\n"
     ]
    }
   ],
   "source": [
    "print('Numerical')\n",
    "print(25*0.8)\n",
    "print(25*0.5)\n",
    "print(25*0.2)\n",
    "print('categorical')\n",
    "print(10*0.8)\n",
    "print(10*0.5)\n",
    "print(10*0.2)"
   ]
  },
  {
   "cell_type": "raw",
   "metadata": {},
   "source": [
    "y_b = ton_iot['Label']\n",
    "\n",
    "y_multi =  ton_iot['Attack']\n",
    "print(y_b.value_counts())\n",
    "print(y_multi.value_counts())"
   ]
  },
  {
   "cell_type": "code",
   "execution_count": null,
   "metadata": {},
   "outputs": [],
   "source": []
  },
  {
   "cell_type": "markdown",
   "metadata": {},
   "source": [
    "## Scale data"
   ]
  },
  {
   "cell_type": "code",
   "execution_count": 15,
   "metadata": {},
   "outputs": [],
   "source": [
    "from sklearn.feature_selection import f_classif, SelectKBest\n",
    "\n",
    "sb = SelectKBest(f_classif, k=5)\n",
    "sb.fit(X_Numerical_sc,y_b)\n",
    "col_anova_20 = sb.get_feature_names_out()\n",
    "\n",
    "##########################\n",
    "sb = SelectKBest(f_classif, k=10)\n",
    "sb.fit(X_Numerical_sc,y_b)\n",
    "col_anova_40 = sb.get_feature_names_out()\n",
    "\n",
    "##########################\n",
    "sb = SelectKBest(f_classif, k=15)\n",
    "sb.fit(X_Numerical_sc,y_b)\n",
    "col_anova_60 = sb.get_feature_names_out()"
   ]
  },
  {
   "cell_type": "code",
   "execution_count": 16,
   "metadata": {},
   "outputs": [
    {
     "data": {
      "text/plain": [
       "array([False, False, False, False,  True,  True,  True,  True,  True,\n",
       "        True,  True,  True,  True,  True, False, False, False,  True,\n",
       "        True,  True, False, False, False,  True,  True])"
      ]
     },
     "execution_count": 16,
     "metadata": {},
     "output_type": "execute_result"
    }
   ],
   "source": [
    "sb.get_support()"
   ]
  },
  {
   "cell_type": "code",
   "execution_count": 17,
   "metadata": {},
   "outputs": [],
   "source": [
    "X_A_20 = X_Numerical_sc[col_anova_20]\n",
    "X_A_40 = X_Numerical_sc[col_anova_40]\n",
    "X_A_60 = X_Numerical_sc[col_anova_60]"
   ]
  },
  {
   "cell_type": "code",
   "execution_count": null,
   "metadata": {},
   "outputs": [],
   "source": []
  },
  {
   "cell_type": "code",
   "execution_count": null,
   "metadata": {},
   "outputs": [],
   "source": []
  },
  {
   "cell_type": "code",
   "execution_count": 18,
   "metadata": {},
   "outputs": [],
   "source": [
    "X_cat = X[categorical_feature]"
   ]
  },
  {
   "cell_type": "code",
   "execution_count": null,
   "metadata": {},
   "outputs": [],
   "source": []
  },
  {
   "cell_type": "markdown",
   "metadata": {},
   "source": [
    "# Optimize the features"
   ]
  },
  {
   "cell_type": "markdown",
   "metadata": {},
   "source": [
    "### L4_SRC_PORT & L4_DST_PORT"
   ]
  },
  {
   "cell_type": "markdown",
   "metadata": {},
   "source": [
    "Ports with numbers 0–1023 are called system or well-known ports; ports with numbers 1024-49151 are called user or registered ports, and ports with numbers 49152-65535 are called dynamic, private or ephemeral ports.[2] Both system and user ports are used by transport protocols (TCP, UDP, DCCP, SCTP) to identify an application or service."
   ]
  },
  {
   "cell_type": "code",
   "execution_count": 19,
   "metadata": {},
   "outputs": [],
   "source": [
    "well_known_port = list(range(1024))\n",
    "registered_ports = list(range(1024,49152))\n",
    "ephemeral_ports = list(range(49152,65535))"
   ]
  },
  {
   "cell_type": "code",
   "execution_count": 20,
   "metadata": {},
   "outputs": [
    {
     "name": "stdout",
     "output_type": "stream",
     "text": [
      "(1694050, 10)\n"
     ]
    }
   ],
   "source": [
    "X_cat['L4_SRC_PORT_C'] = 'Others'\n",
    "X_cat['L4_SRC_PORT_C'][X_cat['L4_SRC_PORT'].isin(well_known_port)] = 'well_known_port'\n",
    "X_cat['L4_SRC_PORT_C'][X_cat['L4_SRC_PORT'].isin(registered_ports)] = 'registered_ports'\n",
    "X_cat['L4_SRC_PORT_C'][X_cat['L4_SRC_PORT'].isin(ephemeral_ports)] = 'ephemeral_ports'\n",
    "\n",
    "X_cat.drop(columns=['L4_SRC_PORT'],inplace=True)\n",
    "\n",
    "X_cat['L4_SRC_PORT_C'].value_counts()\n",
    "\n",
    "print(X_cat.shape)"
   ]
  },
  {
   "cell_type": "code",
   "execution_count": null,
   "metadata": {},
   "outputs": [],
   "source": []
  },
  {
   "cell_type": "code",
   "execution_count": 21,
   "metadata": {},
   "outputs": [
    {
     "data": {
      "text/plain": [
       "well_known_port     923533\n",
       "registered_ports    653980\n",
       "ephemeral_ports     116531\n",
       "Others                   6\n",
       "Name: L4_DST_PORT_C, dtype: int64"
      ]
     },
     "execution_count": 21,
     "metadata": {},
     "output_type": "execute_result"
    }
   ],
   "source": [
    "X_cat['L4_DST_PORT_C'] = 'Others'\n",
    "X_cat['L4_DST_PORT_C'][X_cat['L4_DST_PORT'].isin(well_known_port)] = 'well_known_port'\n",
    "X_cat['L4_DST_PORT_C'][X_cat['L4_DST_PORT'].isin(registered_ports)] = 'registered_ports'\n",
    "X_cat['L4_DST_PORT_C'][X_cat['L4_DST_PORT'].isin(ephemeral_ports)] = 'ephemeral_ports'\n",
    "\n",
    "X_cat.drop(columns=['L4_DST_PORT'],inplace=True)\n",
    "X_cat['L4_DST_PORT_C'].value_counts()\n"
   ]
  },
  {
   "cell_type": "markdown",
   "metadata": {},
   "source": [
    "#### Removerd features are :\n",
    "\n",
    "to_drop_zero = ['RETRANSMITTED_IN_BYTES','RETRANSMITTED_IN_PKTS','RETRANSMITTED_OUT_BYTES','FTP_COMMAND_RET_CODE','ICMP_TYPE','DNS_TTL_ANSWER']\n",
    "&&\n",
    "\n",
    "['SERVER_TCP_FLAGS', 'MAX_TTL', 'MAX_IP_PKT_LEN', 'RETRANSMITTED_OUT_PKTS', 'ICMP_IPV4_TYPE']"
   ]
  },
  {
   "cell_type": "markdown",
   "metadata": {},
   "source": [
    "## DNS"
   ]
  },
  {
   "cell_type": "raw",
   "metadata": {},
   "source": [
    "DNS type"
   ]
  },
  {
   "cell_type": "code",
   "execution_count": 22,
   "metadata": {},
   "outputs": [
    {
     "data": {
      "text/plain": [
       "0        1454488\n",
       "1         156701\n",
       "Other      74277\n",
       "12          8105\n",
       "2            479\n",
       "Name: DNS_QUERY_TYPE, dtype: int64"
      ]
     },
     "execution_count": 22,
     "metadata": {},
     "output_type": "execute_result"
    }
   ],
   "source": [
    "X_cat['DNS_QUERY_TYPE'] = X_cat['DNS_QUERY_TYPE'].astype('O')\n",
    "list_proto = [0,1,2,12]\n",
    "X_cat['DNS_QUERY_TYPE'][~X_cat['DNS_QUERY_TYPE'].isin(list_proto)] = 'Other'\n",
    "X_cat['DNS_QUERY_TYPE'].value_counts()"
   ]
  },
  {
   "cell_type": "raw",
   "metadata": {},
   "source": [
    "### TCP"
   ]
  },
  {
   "cell_type": "markdown",
   "metadata": {},
   "source": [
    "### PROTOCOL"
   ]
  },
  {
   "cell_type": "code",
   "execution_count": 23,
   "metadata": {},
   "outputs": [
    {
     "data": {
      "text/plain": [
       "6     1443022\n",
       "17     248755\n",
       "1        1864\n",
       "2         282\n",
       "58        126\n",
       "44          1\n",
       "Name: PROTOCOL, dtype: int64"
      ]
     },
     "execution_count": 23,
     "metadata": {},
     "output_type": "execute_result"
    }
   ],
   "source": [
    "X_cat['PROTOCOL'] = X_cat['PROTOCOL'].astype(int)\n",
    "\n",
    "X_cat['PROTOCOL'].value_counts()"
   ]
  },
  {
   "cell_type": "code",
   "execution_count": 24,
   "metadata": {},
   "outputs": [
    {
     "name": "stdout",
     "output_type": "stream",
     "text": [
      "(1694050, 10)\n"
     ]
    }
   ],
   "source": [
    "print(X_cat.shape)"
   ]
  },
  {
   "cell_type": "code",
   "execution_count": 25,
   "metadata": {},
   "outputs": [
    {
     "data": {
      "text/plain": [
       "6     1443022\n",
       "17     248755\n",
       "1        1864\n",
       "2         282\n",
       "58        126\n",
       "44          1\n",
       "Name: PROTOCOL, dtype: int64"
      ]
     },
     "execution_count": 25,
     "metadata": {},
     "output_type": "execute_result"
    }
   ],
   "source": [
    "X_cat['PROTOCOL'].value_counts()"
   ]
  },
  {
   "cell_type": "markdown",
   "metadata": {},
   "source": [
    "### L7_PROTO"
   ]
  },
  {
   "cell_type": "code",
   "execution_count": 26,
   "metadata": {},
   "outputs": [
    {
     "data": {
      "text/plain": [
       "0.0      1028224\n",
       "7.0       400678\n",
       "91.0      173755\n",
       "Other      48772\n",
       "7.178      19971\n",
       "1.0        13031\n",
       "92.0        3793\n",
       "131.0       3020\n",
       "5.178       2806\n",
       "Name: L7_PROTO, dtype: int64"
      ]
     },
     "execution_count": 26,
     "metadata": {},
     "output_type": "execute_result"
    }
   ],
   "source": [
    "X_cat['L7_PROTO'] = X_cat['L7_PROTO'].astype('O')\n",
    "list_proto = [0,7,91,7.178,1,92,131,5.178]\n",
    "X_cat['L7_PROTO'][~X_cat['L7_PROTO'].isin(list_proto)] = 'Other'\n",
    "X_cat['L7_PROTO'].value_counts()"
   ]
  },
  {
   "cell_type": "markdown",
   "metadata": {},
   "source": [
    "#### Adresses"
   ]
  },
  {
   "cell_type": "markdown",
   "metadata": {},
   "source": [
    "### Adress Range"
   ]
  },
  {
   "cell_type": "code",
   "execution_count": 27,
   "metadata": {},
   "outputs": [
    {
     "name": "stdout",
     "output_type": "stream",
     "text": [
      "classe_a process ------------------------------->\n",
      "classe_b process ------------------------------->\n",
      "classe_c process ------------------------------->\n"
     ]
    }
   ],
   "source": [
    "# Private adresses\n",
    "# Class A: 10.0.0.0 to 10.255.255.255\n",
    "# Class B: 172.16.0.0 to 172.31.255.255\n",
    "# Class C: 192.168.0.0 to 192.168.255.255\n",
    "from ipaddress import ip_address\n",
    "\n",
    "\n",
    "def findIPs(start, end):\n",
    "    start = ip_address(start)\n",
    "    end = ip_address(end)\n",
    "    result = []\n",
    "    while start <= end:\n",
    "        result.append(str(start))\n",
    "        start += 1\n",
    "    return result\n",
    "print('classe_a process ------------------------------->')\n",
    "plage_classe_a=findIPs('10.0.0.0', '10.255.255.255')\n",
    "print('classe_b process ------------------------------->')\n",
    "plage_classe_b=findIPs('172.16.0.0', '172.31.255.255')\n",
    "print('classe_c process ------------------------------->')\n",
    "plage_classe_c=findIPs('192.168.0.0', '192.168.255.255')"
   ]
  },
  {
   "cell_type": "raw",
   "metadata": {},
   "source": [
    "#### IPV4_DST_ADDR"
   ]
  },
  {
   "cell_type": "code",
   "execution_count": 28,
   "metadata": {},
   "outputs": [
    {
     "name": "stdout",
     "output_type": "stream",
     "text": [
      "classe_c process ------------------------------->\n",
      "classe_b process ------------------------------->\n",
      "classe_a process ------------------------------->\n",
      "localhost process ------------------------------->\n",
      "public/other process ------------------------------->\n"
     ]
    },
    {
     "data": {
      "text/plain": [
       "classe_c        1600718\n",
       "public/other      92888\n",
       "localhost           442\n",
       "classe_a              1\n",
       "classe_b              1\n",
       "Name: IPV4_DST_ADDR_CLASSE, dtype: int64"
      ]
     },
     "execution_count": 28,
     "metadata": {},
     "output_type": "execute_result"
    }
   ],
   "source": [
    "import numpy as np\n",
    "X_cat['IPV4_DST_ADDR_CLASSE'] = 'None'\n",
    "print('classe_c process ------------------------------->')\n",
    "X_cat['IPV4_DST_ADDR_CLASSE'][X_cat['IPV4_DST_ADDR'].isin(plage_classe_c)] = 'classe_c'\n",
    "print('classe_b process ------------------------------->')\n",
    "X_cat['IPV4_DST_ADDR_CLASSE'][X_cat['IPV4_DST_ADDR'].isin(plage_classe_b)] = 'classe_b'\n",
    "print('classe_a process ------------------------------->')\n",
    "X_cat['IPV4_DST_ADDR_CLASSE'][X_cat['IPV4_DST_ADDR'].isin(plage_classe_a)] = 'classe_a'\n",
    "print('localhost process ------------------------------->')\n",
    "X_cat['IPV4_DST_ADDR_CLASSE'][X_cat['IPV4_DST_ADDR'] == '127.0.0.1'] = 'localhost'\n",
    "print('public/other process ------------------------------->')\n",
    "X_cat['IPV4_DST_ADDR_CLASSE'][X_cat['IPV4_DST_ADDR_CLASSE'] == 'None'] = 'public/other'\n",
    "X_cat['IPV4_DST_ADDR_CLASSE'].value_counts()"
   ]
  },
  {
   "cell_type": "raw",
   "metadata": {},
   "source": [
    "### IPV4_SRC_ADDR_CLASSE"
   ]
  },
  {
   "cell_type": "code",
   "execution_count": 29,
   "metadata": {},
   "outputs": [
    {
     "name": "stdout",
     "output_type": "stream",
     "text": [
      "classe_c process ------------------------------->\n",
      "classe_b process ------------------------------->\n",
      "classe_a process ------------------------------->\n",
      "localhost process ------------------------------->\n",
      "public/other process ------------------------------->\n"
     ]
    },
    {
     "data": {
      "text/plain": [
       "classe_c        1678881\n",
       "classe_b          10354\n",
       "public/other       4360\n",
       "localhost           443\n",
       "classe_a             12\n",
       "Name: IPV4_SRC_ADDR_CLASSE, dtype: int64"
      ]
     },
     "execution_count": 29,
     "metadata": {},
     "output_type": "execute_result"
    }
   ],
   "source": [
    "import numpy as np\n",
    "X_cat['IPV4_SRC_ADDR_CLASSE'] = 'None'\n",
    "print('classe_c process ------------------------------->')\n",
    "X_cat['IPV4_SRC_ADDR_CLASSE'][X_cat['IPV4_SRC_ADDR'].isin(plage_classe_c)] = 'classe_c'\n",
    "print('classe_b process ------------------------------->')\n",
    "X_cat['IPV4_SRC_ADDR_CLASSE'][X_cat['IPV4_SRC_ADDR'].isin(plage_classe_b)] = 'classe_b'\n",
    "print('classe_a process ------------------------------->')\n",
    "X_cat['IPV4_SRC_ADDR_CLASSE'][X_cat['IPV4_SRC_ADDR'].isin(plage_classe_a)] = 'classe_a'\n",
    "print('localhost process ------------------------------->')\n",
    "X_cat['IPV4_SRC_ADDR_CLASSE'][X_cat['IPV4_SRC_ADDR'] == '127.0.0.1'] = 'localhost'\n",
    "print('public/other process ------------------------------->')\n",
    "X_cat['IPV4_SRC_ADDR_CLASSE'][X_cat['IPV4_SRC_ADDR_CLASSE'] == 'None'] = 'public/other'\n",
    "X_cat['IPV4_SRC_ADDR_CLASSE'].value_counts()"
   ]
  },
  {
   "cell_type": "markdown",
   "metadata": {},
   "source": [
    "Remove IPV4_SRC_ADDR & IPV4_DST_ADDR and Keep IPV4_SRC_ADDR IPV4_DST_ADDR"
   ]
  },
  {
   "cell_type": "code",
   "execution_count": 30,
   "metadata": {},
   "outputs": [],
   "source": [
    "X_cat.drop(columns=['IPV4_SRC_ADDR','IPV4_DST_ADDR'], inplace=True)\n",
    "X.drop(columns=['IPV4_SRC_ADDR','IPV4_DST_ADDR'], inplace=True)"
   ]
  },
  {
   "cell_type": "code",
   "execution_count": null,
   "metadata": {},
   "outputs": [],
   "source": []
  },
  {
   "cell_type": "code",
   "execution_count": 31,
   "metadata": {},
   "outputs": [
    {
     "data": {
      "text/html": [
       "<div>\n",
       "<style scoped>\n",
       "    .dataframe tbody tr th:only-of-type {\n",
       "        vertical-align: middle;\n",
       "    }\n",
       "\n",
       "    .dataframe tbody tr th {\n",
       "        vertical-align: top;\n",
       "    }\n",
       "\n",
       "    .dataframe thead th {\n",
       "        text-align: right;\n",
       "    }\n",
       "</style>\n",
       "<table border=\"1\" class=\"dataframe\">\n",
       "  <thead>\n",
       "    <tr style=\"text-align: right;\">\n",
       "      <th></th>\n",
       "      <th>PROTOCOL</th>\n",
       "      <th>L7_PROTO</th>\n",
       "      <th>DNS_QUERY_TYPE</th>\n",
       "      <th>ICMP_TYPE</th>\n",
       "      <th>ICMP_IPV4_TYPE</th>\n",
       "      <th>DNS_TTL_ANSWER</th>\n",
       "      <th>L4_SRC_PORT_C</th>\n",
       "      <th>L4_DST_PORT_C</th>\n",
       "      <th>IPV4_DST_ADDR_CLASSE</th>\n",
       "      <th>IPV4_SRC_ADDR_CLASSE</th>\n",
       "    </tr>\n",
       "  </thead>\n",
       "  <tbody>\n",
       "    <tr>\n",
       "      <th>0</th>\n",
       "      <td>6</td>\n",
       "      <td>7.0</td>\n",
       "      <td>0</td>\n",
       "      <td>0</td>\n",
       "      <td>0</td>\n",
       "      <td>0</td>\n",
       "      <td>ephemeral_ports</td>\n",
       "      <td>well_known_port</td>\n",
       "      <td>classe_c</td>\n",
       "      <td>classe_c</td>\n",
       "    </tr>\n",
       "    <tr>\n",
       "      <th>1</th>\n",
       "      <td>6</td>\n",
       "      <td>91.0</td>\n",
       "      <td>0</td>\n",
       "      <td>0</td>\n",
       "      <td>0</td>\n",
       "      <td>0</td>\n",
       "      <td>registered_ports</td>\n",
       "      <td>well_known_port</td>\n",
       "      <td>classe_c</td>\n",
       "      <td>classe_c</td>\n",
       "    </tr>\n",
       "  </tbody>\n",
       "</table>\n",
       "</div>"
      ],
      "text/plain": [
       "   PROTOCOL L7_PROTO DNS_QUERY_TYPE  ICMP_TYPE  ICMP_IPV4_TYPE  \\\n",
       "0         6      7.0              0          0               0   \n",
       "1         6     91.0              0          0               0   \n",
       "\n",
       "   DNS_TTL_ANSWER     L4_SRC_PORT_C    L4_DST_PORT_C IPV4_DST_ADDR_CLASSE  \\\n",
       "0               0   ephemeral_ports  well_known_port             classe_c   \n",
       "1               0  registered_ports  well_known_port             classe_c   \n",
       "\n",
       "  IPV4_SRC_ADDR_CLASSE  \n",
       "0             classe_c  \n",
       "1             classe_c  "
      ]
     },
     "execution_count": 31,
     "metadata": {},
     "output_type": "execute_result"
    }
   ],
   "source": [
    "X_cat.head(2)"
   ]
  },
  {
   "cell_type": "markdown",
   "metadata": {},
   "source": [
    "## Optimze the 3 features ICMP_TYPE, ICMP_IPV4_TYPE, DNS_TTL_ANSWER"
   ]
  },
  {
   "cell_type": "code",
   "execution_count": 32,
   "metadata": {},
   "outputs": [
    {
     "name": "stdout",
     "output_type": "stream",
     "text": [
      "ICMPTYPE 0    1665723\n",
      "1      28327\n",
      "Name: ICMP_TYPE, dtype: int64, \n",
      " ICMP_IPV4_TYPE  0    1665723\n",
      "1      28327\n",
      "Name: ICMP_IPV4_TYPE, dtype: int64, \n",
      "  DNS_TTL_ANSWER  0    1583674\n",
      "1     110376\n",
      "Name: DNS_TTL_ANSWER, dtype: int64\n"
     ]
    }
   ],
   "source": [
    "import math\n",
    "infini = math.inf\n",
    "\n",
    "X_cat['ICMP_TYPE'] = X_cat['ICMP_TYPE'].astype('O')\n",
    "X_cat['ICMP_IPV4_TYPE'] = X_cat['ICMP_IPV4_TYPE'].astype('O')\n",
    "X_cat['DNS_TTL_ANSWER'] = X_cat['DNS_TTL_ANSWER'].astype('O')\n",
    "\n",
    "X_cat['ICMP_TYPE'][~(X_cat['ICMP_TYPE']==0)]=1\n",
    "X_cat['ICMP_IPV4_TYPE'][~(X_cat['ICMP_IPV4_TYPE']==0)]=1\n",
    "X_cat['DNS_TTL_ANSWER'][~(X_cat['DNS_TTL_ANSWER']==0)]=1\n",
    "\n",
    "print(f\"ICMPTYPE {X_cat['ICMP_TYPE'].value_counts()}, \\n ICMP_IPV4_TYPE  {X_cat['ICMP_IPV4_TYPE'].value_counts()}, \\n  DNS_TTL_ANSWER  {X_cat['DNS_TTL_ANSWER'].value_counts()}\")\n",
    "\n"
   ]
  },
  {
   "cell_type": "code",
   "execution_count": 33,
   "metadata": {},
   "outputs": [
    {
     "data": {
      "text/html": [
       "<div>\n",
       "<style scoped>\n",
       "    .dataframe tbody tr th:only-of-type {\n",
       "        vertical-align: middle;\n",
       "    }\n",
       "\n",
       "    .dataframe tbody tr th {\n",
       "        vertical-align: top;\n",
       "    }\n",
       "\n",
       "    .dataframe thead th {\n",
       "        text-align: right;\n",
       "    }\n",
       "</style>\n",
       "<table border=\"1\" class=\"dataframe\">\n",
       "  <thead>\n",
       "    <tr style=\"text-align: right;\">\n",
       "      <th></th>\n",
       "      <th>PROTOCOL</th>\n",
       "      <th>L7_PROTO</th>\n",
       "      <th>DNS_QUERY_TYPE</th>\n",
       "      <th>ICMP_TYPE</th>\n",
       "      <th>ICMP_IPV4_TYPE</th>\n",
       "      <th>DNS_TTL_ANSWER</th>\n",
       "      <th>L4_SRC_PORT_C</th>\n",
       "      <th>L4_DST_PORT_C</th>\n",
       "      <th>IPV4_DST_ADDR_CLASSE</th>\n",
       "      <th>IPV4_SRC_ADDR_CLASSE</th>\n",
       "    </tr>\n",
       "  </thead>\n",
       "  <tbody>\n",
       "    <tr>\n",
       "      <th>0</th>\n",
       "      <td>6</td>\n",
       "      <td>7.0</td>\n",
       "      <td>0</td>\n",
       "      <td>0</td>\n",
       "      <td>0</td>\n",
       "      <td>0</td>\n",
       "      <td>ephemeral_ports</td>\n",
       "      <td>well_known_port</td>\n",
       "      <td>classe_c</td>\n",
       "      <td>classe_c</td>\n",
       "    </tr>\n",
       "    <tr>\n",
       "      <th>1</th>\n",
       "      <td>6</td>\n",
       "      <td>91.0</td>\n",
       "      <td>0</td>\n",
       "      <td>0</td>\n",
       "      <td>0</td>\n",
       "      <td>0</td>\n",
       "      <td>registered_ports</td>\n",
       "      <td>well_known_port</td>\n",
       "      <td>classe_c</td>\n",
       "      <td>classe_c</td>\n",
       "    </tr>\n",
       "    <tr>\n",
       "      <th>2</th>\n",
       "      <td>6</td>\n",
       "      <td>0.0</td>\n",
       "      <td>0</td>\n",
       "      <td>0</td>\n",
       "      <td>0</td>\n",
       "      <td>0</td>\n",
       "      <td>registered_ports</td>\n",
       "      <td>registered_ports</td>\n",
       "      <td>classe_c</td>\n",
       "      <td>classe_c</td>\n",
       "    </tr>\n",
       "    <tr>\n",
       "      <th>3</th>\n",
       "      <td>6</td>\n",
       "      <td>7.178</td>\n",
       "      <td>0</td>\n",
       "      <td>0</td>\n",
       "      <td>0</td>\n",
       "      <td>0</td>\n",
       "      <td>ephemeral_ports</td>\n",
       "      <td>well_known_port</td>\n",
       "      <td>public/other</td>\n",
       "      <td>classe_c</td>\n",
       "    </tr>\n",
       "  </tbody>\n",
       "</table>\n",
       "</div>"
      ],
      "text/plain": [
       "   PROTOCOL L7_PROTO DNS_QUERY_TYPE ICMP_TYPE ICMP_IPV4_TYPE DNS_TTL_ANSWER  \\\n",
       "0         6      7.0              0         0              0              0   \n",
       "1         6     91.0              0         0              0              0   \n",
       "2         6      0.0              0         0              0              0   \n",
       "3         6    7.178              0         0              0              0   \n",
       "\n",
       "      L4_SRC_PORT_C     L4_DST_PORT_C IPV4_DST_ADDR_CLASSE  \\\n",
       "0   ephemeral_ports   well_known_port             classe_c   \n",
       "1  registered_ports   well_known_port             classe_c   \n",
       "2  registered_ports  registered_ports             classe_c   \n",
       "3   ephemeral_ports   well_known_port         public/other   \n",
       "\n",
       "  IPV4_SRC_ADDR_CLASSE  \n",
       "0             classe_c  \n",
       "1             classe_c  \n",
       "2             classe_c  \n",
       "3             classe_c  "
      ]
     },
     "execution_count": 33,
     "metadata": {},
     "output_type": "execute_result"
    }
   ],
   "source": [
    "X_cat.head(4)"
   ]
  },
  {
   "cell_type": "markdown",
   "metadata": {},
   "source": [
    "# Feature Selection Filter-based"
   ]
  },
  {
   "cell_type": "code",
   "execution_count": 34,
   "metadata": {},
   "outputs": [],
   "source": [
    "from sklearn.feature_selection import chi2\n",
    "\n",
    "# Convert string values in categorical features to numerical\n",
    "X_cat = X_cat.replace('Other',999)\n",
    "X_cat = X_cat.replace('Others',999)\n",
    "X_cat = X_cat.replace('well_known_port',0)\n",
    "X_cat = X_cat.replace('registered_ports',1)\n",
    "X_cat = X_cat.replace('ephemeral_ports',2)\n",
    "\n",
    "\n",
    "\n",
    "X_cat = X_cat.replace('localhost',0)\n",
    "X_cat = X_cat.replace('classe_a',1)\n",
    "X_cat = X_cat.replace('classe_b',2)\n",
    "X_cat = X_cat.replace('classe_c',3)\n",
    "X_cat = X_cat.replace('public/other',4)\n",
    "\n",
    "\n",
    "X_cat = X_cat.astype(int)\n",
    "\n",
    "\n",
    "\n",
    "#X.dropna(inplace=True)\n",
    "\n",
    "#X = X.astype(int)\n",
    "\n",
    "\n"
   ]
  },
  {
   "cell_type": "code",
   "execution_count": 35,
   "metadata": {},
   "outputs": [],
   "source": [
    "X_cat_int = X_cat.astype(int)"
   ]
  },
  {
   "cell_type": "code",
   "execution_count": 36,
   "metadata": {},
   "outputs": [
    {
     "data": {
      "text/html": [
       "<div>\n",
       "<style scoped>\n",
       "    .dataframe tbody tr th:only-of-type {\n",
       "        vertical-align: middle;\n",
       "    }\n",
       "\n",
       "    .dataframe tbody tr th {\n",
       "        vertical-align: top;\n",
       "    }\n",
       "\n",
       "    .dataframe thead th {\n",
       "        text-align: right;\n",
       "    }\n",
       "</style>\n",
       "<table border=\"1\" class=\"dataframe\">\n",
       "  <thead>\n",
       "    <tr style=\"text-align: right;\">\n",
       "      <th></th>\n",
       "      <th>PROTOCOL</th>\n",
       "      <th>L7_PROTO</th>\n",
       "      <th>DNS_QUERY_TYPE</th>\n",
       "      <th>ICMP_TYPE</th>\n",
       "      <th>ICMP_IPV4_TYPE</th>\n",
       "      <th>DNS_TTL_ANSWER</th>\n",
       "      <th>L4_SRC_PORT_C</th>\n",
       "      <th>L4_DST_PORT_C</th>\n",
       "      <th>IPV4_DST_ADDR_CLASSE</th>\n",
       "      <th>IPV4_SRC_ADDR_CLASSE</th>\n",
       "    </tr>\n",
       "  </thead>\n",
       "  <tbody>\n",
       "    <tr>\n",
       "      <th>0</th>\n",
       "      <td>6</td>\n",
       "      <td>7</td>\n",
       "      <td>0</td>\n",
       "      <td>0</td>\n",
       "      <td>0</td>\n",
       "      <td>0</td>\n",
       "      <td>2</td>\n",
       "      <td>0</td>\n",
       "      <td>3</td>\n",
       "      <td>3</td>\n",
       "    </tr>\n",
       "    <tr>\n",
       "      <th>1</th>\n",
       "      <td>6</td>\n",
       "      <td>91</td>\n",
       "      <td>0</td>\n",
       "      <td>0</td>\n",
       "      <td>0</td>\n",
       "      <td>0</td>\n",
       "      <td>1</td>\n",
       "      <td>0</td>\n",
       "      <td>3</td>\n",
       "      <td>3</td>\n",
       "    </tr>\n",
       "  </tbody>\n",
       "</table>\n",
       "</div>"
      ],
      "text/plain": [
       "   PROTOCOL  L7_PROTO  DNS_QUERY_TYPE  ICMP_TYPE  ICMP_IPV4_TYPE  \\\n",
       "0         6         7               0          0               0   \n",
       "1         6        91               0          0               0   \n",
       "\n",
       "   DNS_TTL_ANSWER  L4_SRC_PORT_C  L4_DST_PORT_C  IPV4_DST_ADDR_CLASSE  \\\n",
       "0               0              2              0                     3   \n",
       "1               0              1              0                     3   \n",
       "\n",
       "   IPV4_SRC_ADDR_CLASSE  \n",
       "0                     3  \n",
       "1                     3  "
      ]
     },
     "execution_count": 36,
     "metadata": {},
     "output_type": "execute_result"
    }
   ],
   "source": [
    "X_cat_int.head(2)"
   ]
  },
  {
   "cell_type": "code",
   "execution_count": 37,
   "metadata": {},
   "outputs": [],
   "source": [
    "chi2_corr = chi2(X_cat,y_b)"
   ]
  },
  {
   "cell_type": "code",
   "execution_count": 38,
   "metadata": {},
   "outputs": [
    {
     "data": {
      "text/plain": [
       "['DNS_QUERY_TYPE',\n",
       " 'L7_PROTO',\n",
       " 'L4_DST_PORT_C',\n",
       " 'PROTOCOL',\n",
       " 'ICMP_TYPE',\n",
       " 'ICMP_IPV4_TYPE',\n",
       " 'L4_SRC_PORT_C',\n",
       " 'DNS_TTL_ANSWER',\n",
       " 'IPV4_DST_ADDR_CLASSE',\n",
       " 'IPV4_SRC_ADDR_CLASSE']"
      ]
     },
     "execution_count": 38,
     "metadata": {},
     "output_type": "execute_result"
    }
   ],
   "source": [
    "list(X_cat.columns[np.argsort(-chi2_corr[0])])"
   ]
  },
  {
   "cell_type": "code",
   "execution_count": 39,
   "metadata": {},
   "outputs": [],
   "source": [
    "columns_ranked_chi2 = list(X_cat.columns[np.argsort(-chi2_corr[0])])"
   ]
  },
  {
   "cell_type": "markdown",
   "metadata": {},
   "source": [
    "## Ranking of features using CHI2"
   ]
  },
  {
   "cell_type": "markdown",
   "metadata": {},
   "source": [
    "# We will select 3 pourcentage from the rest of the features\n",
    "categorical\n",
    "- 6.0\n",
    "- 4.0\n",
    "- 2.0"
   ]
  },
  {
   "cell_type": "markdown",
   "metadata": {},
   "source": [
    "### Generate the 3 databases for chi 2"
   ]
  },
  {
   "cell_type": "code",
   "execution_count": 40,
   "metadata": {},
   "outputs": [],
   "source": [
    "X_chi2_20 = X_cat[columns_ranked_chi2[:2]]\n",
    "X_chi2_40 =  X_cat[columns_ranked_chi2[:4]]\n",
    "X_chi2_60 =  X_cat[columns_ranked_chi2[:6]]\n",
    "\n",
    "dummy_feature = ['L4_SRC_PORT_C','L4_DST_PORT_C','IPV4_SRC_ADDR_CLASSE',\n",
    "                 'IPV4_DST_ADDR_CLASSE','PROTOCOL','L7_PROTO']\n",
    "list_dummy_20 = list(set( list(X_chi2_20.columns)).intersection(dummy_feature))\n",
    "list_dummy_40 = list(set( list(X_chi2_40.columns)).intersection(dummy_feature))\n",
    "list_dummy_60 = list(set( list(X_chi2_60.columns)).intersection(dummy_feature))\n",
    "\n",
    "\n",
    "X_chi2_20 = pd.get_dummies(X_chi2_20, columns=list_dummy_20)\n",
    "X_chi2_40 = pd.get_dummies(X_chi2_40, columns=list_dummy_40)\n",
    "X_chi2_60 = pd.get_dummies(X_chi2_60, columns=list_dummy_60)"
   ]
  },
  {
   "cell_type": "code",
   "execution_count": 67,
   "metadata": {},
   "outputs": [
    {
     "data": {
      "text/plain": [
       "(1694050, 61)"
      ]
     },
     "execution_count": 67,
     "metadata": {},
     "output_type": "execute_result"
    }
   ],
   "source": [
    "dummy_feature = ['L4_SRC_PORT_C','L4_DST_PORT_C','IPV4_SRC_ADDR_CLASSE',\n",
    "                 'IPV4_DST_ADDR_CLASSE','PROTOCOL','L7_PROTO']\n",
    "X_cat_dm = pd.get_dummies(X_cat, columns=dummy_feature)\n",
    "X =  pd.concat([X_Numerical_sc,X_cat_dm],axis=1)\n",
    "X.shape"
   ]
  },
  {
   "cell_type": "code",
   "execution_count": 71,
   "metadata": {},
   "outputs": [
    {
     "data": {
      "text/plain": [
       "array([[-0.00052403,  0.00380084,  0.01705831,  0.01051408,  1.2586783 ,\n",
       "         2.10222856,  1.22817558,  1.43894656,  1.17535253,  2.56122665,\n",
       "        -0.50352044,  0.30280669,  0.00554996, -0.00670462, -0.00355231,\n",
       "        -0.01049777, -0.01220704, -0.21898712, -0.14969287, -0.02305039,\n",
       "        -0.01411548,  0.11311792, -0.0123667 ,  1.36834717,  3.0584768 ,\n",
       "         0.        ,  0.        ,  0.        ,  0.        ,  0.        ,\n",
       "         0.        ,  1.        ,  0.        ,  1.        ,  0.        ,\n",
       "         0.        ,  0.        ,  0.        ,  0.        ,  0.        ,\n",
       "         1.        ,  0.        ,  0.        ,  0.        ,  0.        ,\n",
       "         1.        ,  0.        ,  0.        ,  0.        ,  1.        ,\n",
       "         0.        ,  0.        ,  0.        ,  0.        ,  0.        ,\n",
       "         0.        ,  1.        ,  0.        ,  0.        ,  0.        ,\n",
       "         0.        ],\n",
       "       [-0.00777851, -0.00660258, -0.00801201, -0.00333475,  0.54988744,\n",
       "         2.1023312 , -0.26040787,  0.18423392,  1.17535253, -0.43810428,\n",
       "         0.1135058 ,  0.76373518,  0.00553256, -0.00680031, -0.00355231,\n",
       "        -0.01049777, -0.01220704, -0.13645276, -0.15312442, -0.02646807,\n",
       "        -0.01411548, -0.03045784, -0.0123667 ,  1.36834717,  1.03013394,\n",
       "         0.        ,  0.        ,  0.        ,  0.        ,  0.        ,\n",
       "         1.        ,  0.        ,  0.        ,  1.        ,  0.        ,\n",
       "         0.        ,  0.        ,  0.        ,  0.        ,  0.        ,\n",
       "         1.        ,  0.        ,  0.        ,  0.        ,  0.        ,\n",
       "         1.        ,  0.        ,  0.        ,  0.        ,  1.        ,\n",
       "         0.        ,  0.        ,  0.        ,  0.        ,  0.        ,\n",
       "         0.        ,  0.        ,  1.        ,  0.        ,  0.        ,\n",
       "         0.        ],\n",
       "       [-0.00862421, -0.007903  , -0.00933523, -0.00795103, -0.95629315,\n",
       "        -0.47568569, -0.26040787, -0.27802863, -0.69937616, -0.4630987 ,\n",
       "        -0.09216961, -1.23362164,  0.00553053, -0.00680536, -0.00355231,\n",
       "        -0.01049777, -0.01220704, -0.18447275, -0.15355336, -0.02740016,\n",
       "        -0.01411548, -0.03045784, -0.0123667 , -0.48416051, -0.57590322,\n",
       "         0.        ,  0.        ,  0.        ,  0.        ,  0.        ,\n",
       "         1.        ,  0.        ,  0.        ,  0.        ,  1.        ,\n",
       "         0.        ,  0.        ,  0.        ,  0.        ,  0.        ,\n",
       "         1.        ,  0.        ,  0.        ,  0.        ,  0.        ,\n",
       "         1.        ,  0.        ,  0.        ,  0.        ,  1.        ,\n",
       "         0.        ,  0.        ,  0.        ,  1.        ,  0.        ,\n",
       "         0.        ,  0.        ,  0.        ,  0.        ,  0.        ,\n",
       "         0.        ],\n",
       "       [ 0.04499816,  0.00119998,  0.01585323,  0.00820594,  1.2586783 ,\n",
       "        -0.47568569, -0.26040787, -0.27802863,  1.17535253,  2.56122665,\n",
       "         0.1135058 ,  0.76373518,  0.00565916, -0.00670922, -0.00355231,\n",
       "        -0.01049777, -0.01220704,  2.86029498,  0.76095504, -0.02460388,\n",
       "        -0.01411548,  0.04133004,  0.05188903,  1.36834717,  0.91295312,\n",
       "         0.        ,  0.        ,  0.        ,  0.        ,  0.        ,\n",
       "         0.        ,  1.        ,  0.        ,  1.        ,  0.        ,\n",
       "         0.        ,  0.        ,  0.        ,  0.        ,  0.        ,\n",
       "         1.        ,  0.        ,  0.        ,  0.        ,  0.        ,\n",
       "         0.        ,  1.        ,  0.        ,  0.        ,  1.        ,\n",
       "         0.        ,  0.        ,  0.        ,  0.        ,  0.        ,\n",
       "         0.        ,  1.        ,  0.        ,  0.        ,  0.        ,\n",
       "         0.        ],\n",
       "       [-0.00867707, -0.007903  , -0.00933523, -0.00795103, -0.95629315,\n",
       "        -0.47568569, -0.26040787, -0.27802863, -0.69937616, -0.47143018,\n",
       "        -0.29784503, -1.23362164,  0.0055304 , -0.00680536, -0.00355231,\n",
       "        -0.01049777, -0.01220704, -0.187474  , -0.15355336, -0.02740016,\n",
       "        -0.01411548, -0.03045784, -0.0123667 , -0.71085361, -0.57590322,\n",
       "         0.        ,  0.        ,  0.        ,  0.        ,  0.        ,\n",
       "         1.        ,  0.        ,  0.        ,  0.        ,  1.        ,\n",
       "         0.        ,  0.        ,  0.        ,  0.        ,  0.        ,\n",
       "         1.        ,  0.        ,  0.        ,  0.        ,  0.        ,\n",
       "         1.        ,  0.        ,  0.        ,  0.        ,  1.        ,\n",
       "         0.        ,  0.        ,  0.        ,  1.        ,  0.        ,\n",
       "         0.        ,  0.        ,  0.        ,  0.        ,  0.        ,\n",
       "         0.        ]])"
      ]
     },
     "execution_count": 71,
     "metadata": {},
     "output_type": "execute_result"
    }
   ],
   "source": [
    "np.set_printoptions(suppress = True)\n",
    "a = X.head(5).to_numpy()\n",
    "\n",
    "a"
   ]
  },
  {
   "cell_type": "code",
   "execution_count": null,
   "metadata": {},
   "outputs": [],
   "source": []
  },
  {
   "cell_type": "code",
   "execution_count": 43,
   "metadata": {},
   "outputs": [
    {
     "data": {
      "text/html": [
       "<div>\n",
       "<style scoped>\n",
       "    .dataframe tbody tr th:only-of-type {\n",
       "        vertical-align: middle;\n",
       "    }\n",
       "\n",
       "    .dataframe tbody tr th {\n",
       "        vertical-align: top;\n",
       "    }\n",
       "\n",
       "    .dataframe thead th {\n",
       "        text-align: right;\n",
       "    }\n",
       "</style>\n",
       "<table border=\"1\" class=\"dataframe\">\n",
       "  <thead>\n",
       "    <tr style=\"text-align: right;\">\n",
       "      <th></th>\n",
       "      <th>TCP_FLAGS</th>\n",
       "      <th>FLOW_DURATION_MILLISECONDS</th>\n",
       "      <th>DURATION_IN</th>\n",
       "      <th>DURATION_OUT</th>\n",
       "      <th>MIN_TTL</th>\n",
       "      <th>LONGEST_FLOW_PKT</th>\n",
       "      <th>MIN_IP_PKT_LEN</th>\n",
       "      <th>SRC_TO_DST_AVG_THROUGHPUT</th>\n",
       "      <th>TCP_WIN_MAX_IN</th>\n",
       "      <th>TCP_WIN_MAX_OUT</th>\n",
       "    </tr>\n",
       "  </thead>\n",
       "  <tbody>\n",
       "    <tr>\n",
       "      <th>0</th>\n",
       "      <td>1.258678</td>\n",
       "      <td>2.102229</td>\n",
       "      <td>1.228176</td>\n",
       "      <td>1.438947</td>\n",
       "      <td>1.175353</td>\n",
       "      <td>2.561227</td>\n",
       "      <td>0.302807</td>\n",
       "      <td>-0.218987</td>\n",
       "      <td>1.368347</td>\n",
       "      <td>3.058477</td>\n",
       "    </tr>\n",
       "    <tr>\n",
       "      <th>1</th>\n",
       "      <td>0.549887</td>\n",
       "      <td>2.102331</td>\n",
       "      <td>-0.260408</td>\n",
       "      <td>0.184234</td>\n",
       "      <td>1.175353</td>\n",
       "      <td>-0.438104</td>\n",
       "      <td>0.763735</td>\n",
       "      <td>-0.136453</td>\n",
       "      <td>1.368347</td>\n",
       "      <td>1.030134</td>\n",
       "    </tr>\n",
       "    <tr>\n",
       "      <th>2</th>\n",
       "      <td>-0.956293</td>\n",
       "      <td>-0.475686</td>\n",
       "      <td>-0.260408</td>\n",
       "      <td>-0.278029</td>\n",
       "      <td>-0.699376</td>\n",
       "      <td>-0.463099</td>\n",
       "      <td>-1.233622</td>\n",
       "      <td>-0.184473</td>\n",
       "      <td>-0.484161</td>\n",
       "      <td>-0.575903</td>\n",
       "    </tr>\n",
       "    <tr>\n",
       "      <th>3</th>\n",
       "      <td>1.258678</td>\n",
       "      <td>-0.475686</td>\n",
       "      <td>-0.260408</td>\n",
       "      <td>-0.278029</td>\n",
       "      <td>1.175353</td>\n",
       "      <td>2.561227</td>\n",
       "      <td>0.763735</td>\n",
       "      <td>2.860295</td>\n",
       "      <td>1.368347</td>\n",
       "      <td>0.912953</td>\n",
       "    </tr>\n",
       "    <tr>\n",
       "      <th>4</th>\n",
       "      <td>-0.956293</td>\n",
       "      <td>-0.475686</td>\n",
       "      <td>-0.260408</td>\n",
       "      <td>-0.278029</td>\n",
       "      <td>-0.699376</td>\n",
       "      <td>-0.471430</td>\n",
       "      <td>-1.233622</td>\n",
       "      <td>-0.187474</td>\n",
       "      <td>-0.710854</td>\n",
       "      <td>-0.575903</td>\n",
       "    </tr>\n",
       "    <tr>\n",
       "      <th>...</th>\n",
       "      <td>...</td>\n",
       "      <td>...</td>\n",
       "      <td>...</td>\n",
       "      <td>...</td>\n",
       "      <td>...</td>\n",
       "      <td>...</td>\n",
       "      <td>...</td>\n",
       "      <td>...</td>\n",
       "      <td>...</td>\n",
       "      <td>...</td>\n",
       "    </tr>\n",
       "    <tr>\n",
       "      <th>1694045</th>\n",
       "      <td>1.258678</td>\n",
       "      <td>-0.475686</td>\n",
       "      <td>-0.260408</td>\n",
       "      <td>-0.278029</td>\n",
       "      <td>1.175353</td>\n",
       "      <td>0.632490</td>\n",
       "      <td>0.763735</td>\n",
       "      <td>0.268716</td>\n",
       "      <td>1.368347</td>\n",
       "      <td>1.030134</td>\n",
       "    </tr>\n",
       "    <tr>\n",
       "      <th>1694046</th>\n",
       "      <td>0.549887</td>\n",
       "      <td>2.102050</td>\n",
       "      <td>3.117531</td>\n",
       "      <td>3.618184</td>\n",
       "      <td>1.175353</td>\n",
       "      <td>-0.438104</td>\n",
       "      <td>0.763735</td>\n",
       "      <td>-0.220488</td>\n",
       "      <td>1.350637</td>\n",
       "      <td>1.043444</td>\n",
       "    </tr>\n",
       "    <tr>\n",
       "      <th>1694047</th>\n",
       "      <td>-1.133491</td>\n",
       "      <td>-0.475686</td>\n",
       "      <td>-0.260408</td>\n",
       "      <td>-0.278029</td>\n",
       "      <td>-0.699376</td>\n",
       "      <td>-0.421441</td>\n",
       "      <td>1.378307</td>\n",
       "      <td>-0.169467</td>\n",
       "      <td>-0.786418</td>\n",
       "      <td>-0.575903</td>\n",
       "    </tr>\n",
       "    <tr>\n",
       "      <th>1694048</th>\n",
       "      <td>-1.133491</td>\n",
       "      <td>-0.475686</td>\n",
       "      <td>-0.260408</td>\n",
       "      <td>-0.278029</td>\n",
       "      <td>-0.699376</td>\n",
       "      <td>-0.421441</td>\n",
       "      <td>1.378307</td>\n",
       "      <td>-0.169467</td>\n",
       "      <td>-0.786418</td>\n",
       "      <td>-0.575903</td>\n",
       "    </tr>\n",
       "    <tr>\n",
       "      <th>1694049</th>\n",
       "      <td>1.258678</td>\n",
       "      <td>-0.475686</td>\n",
       "      <td>-0.260408</td>\n",
       "      <td>-0.278029</td>\n",
       "      <td>1.175353</td>\n",
       "      <td>1.557284</td>\n",
       "      <td>0.302807</td>\n",
       "      <td>0.090892</td>\n",
       "      <td>1.368347</td>\n",
       "      <td>3.058477</td>\n",
       "    </tr>\n",
       "  </tbody>\n",
       "</table>\n",
       "<p>1694050 rows × 10 columns</p>\n",
       "</div>"
      ],
      "text/plain": [
       "         TCP_FLAGS  FLOW_DURATION_MILLISECONDS  DURATION_IN  DURATION_OUT  \\\n",
       "0         1.258678                    2.102229     1.228176      1.438947   \n",
       "1         0.549887                    2.102331    -0.260408      0.184234   \n",
       "2        -0.956293                   -0.475686    -0.260408     -0.278029   \n",
       "3         1.258678                   -0.475686    -0.260408     -0.278029   \n",
       "4        -0.956293                   -0.475686    -0.260408     -0.278029   \n",
       "...            ...                         ...          ...           ...   \n",
       "1694045   1.258678                   -0.475686    -0.260408     -0.278029   \n",
       "1694046   0.549887                    2.102050     3.117531      3.618184   \n",
       "1694047  -1.133491                   -0.475686    -0.260408     -0.278029   \n",
       "1694048  -1.133491                   -0.475686    -0.260408     -0.278029   \n",
       "1694049   1.258678                   -0.475686    -0.260408     -0.278029   \n",
       "\n",
       "          MIN_TTL  LONGEST_FLOW_PKT  MIN_IP_PKT_LEN  \\\n",
       "0        1.175353          2.561227        0.302807   \n",
       "1        1.175353         -0.438104        0.763735   \n",
       "2       -0.699376         -0.463099       -1.233622   \n",
       "3        1.175353          2.561227        0.763735   \n",
       "4       -0.699376         -0.471430       -1.233622   \n",
       "...           ...               ...             ...   \n",
       "1694045  1.175353          0.632490        0.763735   \n",
       "1694046  1.175353         -0.438104        0.763735   \n",
       "1694047 -0.699376         -0.421441        1.378307   \n",
       "1694048 -0.699376         -0.421441        1.378307   \n",
       "1694049  1.175353          1.557284        0.302807   \n",
       "\n",
       "         SRC_TO_DST_AVG_THROUGHPUT  TCP_WIN_MAX_IN  TCP_WIN_MAX_OUT  \n",
       "0                        -0.218987        1.368347         3.058477  \n",
       "1                        -0.136453        1.368347         1.030134  \n",
       "2                        -0.184473       -0.484161        -0.575903  \n",
       "3                         2.860295        1.368347         0.912953  \n",
       "4                        -0.187474       -0.710854        -0.575903  \n",
       "...                            ...             ...              ...  \n",
       "1694045                   0.268716        1.368347         1.030134  \n",
       "1694046                  -0.220488        1.350637         1.043444  \n",
       "1694047                  -0.169467       -0.786418        -0.575903  \n",
       "1694048                  -0.169467       -0.786418        -0.575903  \n",
       "1694049                   0.090892        1.368347         3.058477  \n",
       "\n",
       "[1694050 rows x 10 columns]"
      ]
     },
     "execution_count": 43,
     "metadata": {},
     "output_type": "execute_result"
    }
   ],
   "source": [
    "X_A_40"
   ]
  },
  {
   "cell_type": "code",
   "execution_count": 44,
   "metadata": {},
   "outputs": [
    {
     "data": {
      "text/html": [
       "<div>\n",
       "<style scoped>\n",
       "    .dataframe tbody tr th:only-of-type {\n",
       "        vertical-align: middle;\n",
       "    }\n",
       "\n",
       "    .dataframe tbody tr th {\n",
       "        vertical-align: top;\n",
       "    }\n",
       "\n",
       "    .dataframe thead th {\n",
       "        text-align: right;\n",
       "    }\n",
       "</style>\n",
       "<table border=\"1\" class=\"dataframe\">\n",
       "  <thead>\n",
       "    <tr style=\"text-align: right;\">\n",
       "      <th></th>\n",
       "      <th>IN_BYTES</th>\n",
       "      <th>IN_PKTS</th>\n",
       "      <th>OUT_BYTES</th>\n",
       "      <th>OUT_PKTS</th>\n",
       "      <th>TCP_FLAGS</th>\n",
       "      <th>FLOW_DURATION_MILLISECONDS</th>\n",
       "      <th>DURATION_IN</th>\n",
       "      <th>DURATION_OUT</th>\n",
       "      <th>MIN_TTL</th>\n",
       "      <th>LONGEST_FLOW_PKT</th>\n",
       "      <th>...</th>\n",
       "      <th>PROTOCOL_44</th>\n",
       "      <th>PROTOCOL_58</th>\n",
       "      <th>L7_PROTO_0</th>\n",
       "      <th>L7_PROTO_1</th>\n",
       "      <th>L7_PROTO_5</th>\n",
       "      <th>L7_PROTO_7</th>\n",
       "      <th>L7_PROTO_91</th>\n",
       "      <th>L7_PROTO_92</th>\n",
       "      <th>L7_PROTO_131</th>\n",
       "      <th>L7_PROTO_999</th>\n",
       "    </tr>\n",
       "  </thead>\n",
       "  <tbody>\n",
       "    <tr>\n",
       "      <th>0</th>\n",
       "      <td>-0.000524</td>\n",
       "      <td>0.003801</td>\n",
       "      <td>0.017058</td>\n",
       "      <td>0.010514</td>\n",
       "      <td>1.258678</td>\n",
       "      <td>2.102229</td>\n",
       "      <td>1.228176</td>\n",
       "      <td>1.438947</td>\n",
       "      <td>1.175353</td>\n",
       "      <td>2.561227</td>\n",
       "      <td>...</td>\n",
       "      <td>0</td>\n",
       "      <td>0</td>\n",
       "      <td>0</td>\n",
       "      <td>0</td>\n",
       "      <td>0</td>\n",
       "      <td>1</td>\n",
       "      <td>0</td>\n",
       "      <td>0</td>\n",
       "      <td>0</td>\n",
       "      <td>0</td>\n",
       "    </tr>\n",
       "    <tr>\n",
       "      <th>1</th>\n",
       "      <td>-0.007779</td>\n",
       "      <td>-0.006603</td>\n",
       "      <td>-0.008012</td>\n",
       "      <td>-0.003335</td>\n",
       "      <td>0.549887</td>\n",
       "      <td>2.102331</td>\n",
       "      <td>-0.260408</td>\n",
       "      <td>0.184234</td>\n",
       "      <td>1.175353</td>\n",
       "      <td>-0.438104</td>\n",
       "      <td>...</td>\n",
       "      <td>0</td>\n",
       "      <td>0</td>\n",
       "      <td>0</td>\n",
       "      <td>0</td>\n",
       "      <td>0</td>\n",
       "      <td>0</td>\n",
       "      <td>1</td>\n",
       "      <td>0</td>\n",
       "      <td>0</td>\n",
       "      <td>0</td>\n",
       "    </tr>\n",
       "    <tr>\n",
       "      <th>2</th>\n",
       "      <td>-0.008624</td>\n",
       "      <td>-0.007903</td>\n",
       "      <td>-0.009335</td>\n",
       "      <td>-0.007951</td>\n",
       "      <td>-0.956293</td>\n",
       "      <td>-0.475686</td>\n",
       "      <td>-0.260408</td>\n",
       "      <td>-0.278029</td>\n",
       "      <td>-0.699376</td>\n",
       "      <td>-0.463099</td>\n",
       "      <td>...</td>\n",
       "      <td>0</td>\n",
       "      <td>0</td>\n",
       "      <td>1</td>\n",
       "      <td>0</td>\n",
       "      <td>0</td>\n",
       "      <td>0</td>\n",
       "      <td>0</td>\n",
       "      <td>0</td>\n",
       "      <td>0</td>\n",
       "      <td>0</td>\n",
       "    </tr>\n",
       "    <tr>\n",
       "      <th>3</th>\n",
       "      <td>0.044998</td>\n",
       "      <td>0.001200</td>\n",
       "      <td>0.015853</td>\n",
       "      <td>0.008206</td>\n",
       "      <td>1.258678</td>\n",
       "      <td>-0.475686</td>\n",
       "      <td>-0.260408</td>\n",
       "      <td>-0.278029</td>\n",
       "      <td>1.175353</td>\n",
       "      <td>2.561227</td>\n",
       "      <td>...</td>\n",
       "      <td>0</td>\n",
       "      <td>0</td>\n",
       "      <td>0</td>\n",
       "      <td>0</td>\n",
       "      <td>0</td>\n",
       "      <td>1</td>\n",
       "      <td>0</td>\n",
       "      <td>0</td>\n",
       "      <td>0</td>\n",
       "      <td>0</td>\n",
       "    </tr>\n",
       "    <tr>\n",
       "      <th>4</th>\n",
       "      <td>-0.008677</td>\n",
       "      <td>-0.007903</td>\n",
       "      <td>-0.009335</td>\n",
       "      <td>-0.007951</td>\n",
       "      <td>-0.956293</td>\n",
       "      <td>-0.475686</td>\n",
       "      <td>-0.260408</td>\n",
       "      <td>-0.278029</td>\n",
       "      <td>-0.699376</td>\n",
       "      <td>-0.471430</td>\n",
       "      <td>...</td>\n",
       "      <td>0</td>\n",
       "      <td>0</td>\n",
       "      <td>1</td>\n",
       "      <td>0</td>\n",
       "      <td>0</td>\n",
       "      <td>0</td>\n",
       "      <td>0</td>\n",
       "      <td>0</td>\n",
       "      <td>0</td>\n",
       "      <td>0</td>\n",
       "    </tr>\n",
       "    <tr>\n",
       "      <th>...</th>\n",
       "      <td>...</td>\n",
       "      <td>...</td>\n",
       "      <td>...</td>\n",
       "      <td>...</td>\n",
       "      <td>...</td>\n",
       "      <td>...</td>\n",
       "      <td>...</td>\n",
       "      <td>...</td>\n",
       "      <td>...</td>\n",
       "      <td>...</td>\n",
       "      <td>...</td>\n",
       "      <td>...</td>\n",
       "      <td>...</td>\n",
       "      <td>...</td>\n",
       "      <td>...</td>\n",
       "      <td>...</td>\n",
       "      <td>...</td>\n",
       "      <td>...</td>\n",
       "      <td>...</td>\n",
       "      <td>...</td>\n",
       "      <td>...</td>\n",
       "    </tr>\n",
       "    <tr>\n",
       "      <th>1694045</th>\n",
       "      <td>-0.000643</td>\n",
       "      <td>-0.001401</td>\n",
       "      <td>-0.000616</td>\n",
       "      <td>0.001282</td>\n",
       "      <td>1.258678</td>\n",
       "      <td>-0.475686</td>\n",
       "      <td>-0.260408</td>\n",
       "      <td>-0.278029</td>\n",
       "      <td>1.175353</td>\n",
       "      <td>0.632490</td>\n",
       "      <td>...</td>\n",
       "      <td>0</td>\n",
       "      <td>0</td>\n",
       "      <td>0</td>\n",
       "      <td>0</td>\n",
       "      <td>0</td>\n",
       "      <td>1</td>\n",
       "      <td>0</td>\n",
       "      <td>0</td>\n",
       "      <td>0</td>\n",
       "      <td>0</td>\n",
       "    </tr>\n",
       "    <tr>\n",
       "      <th>1694046</th>\n",
       "      <td>-0.007091</td>\n",
       "      <td>-0.005302</td>\n",
       "      <td>-0.006783</td>\n",
       "      <td>0.001282</td>\n",
       "      <td>0.549887</td>\n",
       "      <td>2.102050</td>\n",
       "      <td>3.117531</td>\n",
       "      <td>3.618184</td>\n",
       "      <td>1.175353</td>\n",
       "      <td>-0.438104</td>\n",
       "      <td>...</td>\n",
       "      <td>0</td>\n",
       "      <td>0</td>\n",
       "      <td>0</td>\n",
       "      <td>0</td>\n",
       "      <td>0</td>\n",
       "      <td>0</td>\n",
       "      <td>1</td>\n",
       "      <td>0</td>\n",
       "      <td>0</td>\n",
       "      <td>0</td>\n",
       "    </tr>\n",
       "    <tr>\n",
       "      <th>1694047</th>\n",
       "      <td>-0.008360</td>\n",
       "      <td>-0.007903</td>\n",
       "      <td>-0.008532</td>\n",
       "      <td>-0.005643</td>\n",
       "      <td>-1.133491</td>\n",
       "      <td>-0.475686</td>\n",
       "      <td>-0.260408</td>\n",
       "      <td>-0.278029</td>\n",
       "      <td>-0.699376</td>\n",
       "      <td>-0.421441</td>\n",
       "      <td>...</td>\n",
       "      <td>0</td>\n",
       "      <td>0</td>\n",
       "      <td>1</td>\n",
       "      <td>0</td>\n",
       "      <td>0</td>\n",
       "      <td>0</td>\n",
       "      <td>0</td>\n",
       "      <td>0</td>\n",
       "      <td>0</td>\n",
       "      <td>0</td>\n",
       "    </tr>\n",
       "    <tr>\n",
       "      <th>1694048</th>\n",
       "      <td>-0.008360</td>\n",
       "      <td>-0.007903</td>\n",
       "      <td>-0.008532</td>\n",
       "      <td>-0.005643</td>\n",
       "      <td>-1.133491</td>\n",
       "      <td>-0.475686</td>\n",
       "      <td>-0.260408</td>\n",
       "      <td>-0.278029</td>\n",
       "      <td>-0.699376</td>\n",
       "      <td>-0.421441</td>\n",
       "      <td>...</td>\n",
       "      <td>0</td>\n",
       "      <td>0</td>\n",
       "      <td>1</td>\n",
       "      <td>0</td>\n",
       "      <td>0</td>\n",
       "      <td>0</td>\n",
       "      <td>0</td>\n",
       "      <td>0</td>\n",
       "      <td>0</td>\n",
       "      <td>0</td>\n",
       "    </tr>\n",
       "    <tr>\n",
       "      <th>1694049</th>\n",
       "      <td>-0.003775</td>\n",
       "      <td>-0.001401</td>\n",
       "      <td>0.004251</td>\n",
       "      <td>0.001282</td>\n",
       "      <td>1.258678</td>\n",
       "      <td>-0.475686</td>\n",
       "      <td>-0.260408</td>\n",
       "      <td>-0.278029</td>\n",
       "      <td>1.175353</td>\n",
       "      <td>1.557284</td>\n",
       "      <td>...</td>\n",
       "      <td>0</td>\n",
       "      <td>0</td>\n",
       "      <td>0</td>\n",
       "      <td>0</td>\n",
       "      <td>0</td>\n",
       "      <td>1</td>\n",
       "      <td>0</td>\n",
       "      <td>0</td>\n",
       "      <td>0</td>\n",
       "      <td>0</td>\n",
       "    </tr>\n",
       "  </tbody>\n",
       "</table>\n",
       "<p>1694050 rows × 61 columns</p>\n",
       "</div>"
      ],
      "text/plain": [
       "         IN_BYTES   IN_PKTS  OUT_BYTES  OUT_PKTS  TCP_FLAGS  \\\n",
       "0       -0.000524  0.003801   0.017058  0.010514   1.258678   \n",
       "1       -0.007779 -0.006603  -0.008012 -0.003335   0.549887   \n",
       "2       -0.008624 -0.007903  -0.009335 -0.007951  -0.956293   \n",
       "3        0.044998  0.001200   0.015853  0.008206   1.258678   \n",
       "4       -0.008677 -0.007903  -0.009335 -0.007951  -0.956293   \n",
       "...           ...       ...        ...       ...        ...   \n",
       "1694045 -0.000643 -0.001401  -0.000616  0.001282   1.258678   \n",
       "1694046 -0.007091 -0.005302  -0.006783  0.001282   0.549887   \n",
       "1694047 -0.008360 -0.007903  -0.008532 -0.005643  -1.133491   \n",
       "1694048 -0.008360 -0.007903  -0.008532 -0.005643  -1.133491   \n",
       "1694049 -0.003775 -0.001401   0.004251  0.001282   1.258678   \n",
       "\n",
       "         FLOW_DURATION_MILLISECONDS  DURATION_IN  DURATION_OUT   MIN_TTL  \\\n",
       "0                          2.102229     1.228176      1.438947  1.175353   \n",
       "1                          2.102331    -0.260408      0.184234  1.175353   \n",
       "2                         -0.475686    -0.260408     -0.278029 -0.699376   \n",
       "3                         -0.475686    -0.260408     -0.278029  1.175353   \n",
       "4                         -0.475686    -0.260408     -0.278029 -0.699376   \n",
       "...                             ...          ...           ...       ...   \n",
       "1694045                   -0.475686    -0.260408     -0.278029  1.175353   \n",
       "1694046                    2.102050     3.117531      3.618184  1.175353   \n",
       "1694047                   -0.475686    -0.260408     -0.278029 -0.699376   \n",
       "1694048                   -0.475686    -0.260408     -0.278029 -0.699376   \n",
       "1694049                   -0.475686    -0.260408     -0.278029  1.175353   \n",
       "\n",
       "         LONGEST_FLOW_PKT  ...  PROTOCOL_44  PROTOCOL_58  L7_PROTO_0  \\\n",
       "0                2.561227  ...            0            0           0   \n",
       "1               -0.438104  ...            0            0           0   \n",
       "2               -0.463099  ...            0            0           1   \n",
       "3                2.561227  ...            0            0           0   \n",
       "4               -0.471430  ...            0            0           1   \n",
       "...                   ...  ...          ...          ...         ...   \n",
       "1694045          0.632490  ...            0            0           0   \n",
       "1694046         -0.438104  ...            0            0           0   \n",
       "1694047         -0.421441  ...            0            0           1   \n",
       "1694048         -0.421441  ...            0            0           1   \n",
       "1694049          1.557284  ...            0            0           0   \n",
       "\n",
       "         L7_PROTO_1  L7_PROTO_5  L7_PROTO_7  L7_PROTO_91  L7_PROTO_92  \\\n",
       "0                 0           0           1            0            0   \n",
       "1                 0           0           0            1            0   \n",
       "2                 0           0           0            0            0   \n",
       "3                 0           0           1            0            0   \n",
       "4                 0           0           0            0            0   \n",
       "...             ...         ...         ...          ...          ...   \n",
       "1694045           0           0           1            0            0   \n",
       "1694046           0           0           0            1            0   \n",
       "1694047           0           0           0            0            0   \n",
       "1694048           0           0           0            0            0   \n",
       "1694049           0           0           1            0            0   \n",
       "\n",
       "         L7_PROTO_131  L7_PROTO_999  \n",
       "0                   0             0  \n",
       "1                   0             0  \n",
       "2                   0             0  \n",
       "3                   0             0  \n",
       "4                   0             0  \n",
       "...               ...           ...  \n",
       "1694045             0             0  \n",
       "1694046             0             0  \n",
       "1694047             0             0  \n",
       "1694048             0             0  \n",
       "1694049             0             0  \n",
       "\n",
       "[1694050 rows x 61 columns]"
      ]
     },
     "execution_count": 44,
     "metadata": {},
     "output_type": "execute_result"
    }
   ],
   "source": [
    "X"
   ]
  },
  {
   "cell_type": "code",
   "execution_count": null,
   "metadata": {},
   "outputs": [],
   "source": []
  },
  {
   "cell_type": "markdown",
   "metadata": {},
   "source": [
    "## mRMR"
   ]
  },
  {
   "cell_type": "code",
   "execution_count": 45,
   "metadata": {
    "pycharm": {
     "is_executing": true
    },
    "scrolled": true
   },
   "outputs": [
    {
     "name": "stderr",
     "output_type": "stream",
     "text": [
      "100%|████████████████████████████████████████████████████████████████████████████████████| 2/2 [00:00<00:00,  2.92it/s]\n",
      "100%|████████████████████████████████████████████████████████████████████████████████████| 4/4 [00:01<00:00,  2.26it/s]\n",
      "100%|████████████████████████████████████████████████████████████████████████████████████| 6/6 [00:06<00:00,  1.04s/it]\n"
     ]
    }
   ],
   "source": [
    "from mrmr import mrmr_classif\n",
    "selected_features_20 = mrmr_classif(X=X_cat, y=y_b, K=2)\n",
    "selected_features_40 = mrmr_classif(X=X_cat, y=y_b, K=4)\n",
    "selected_features_60 = mrmr_classif(X=X_cat, y=y_b, K=6)"
   ]
  },
  {
   "cell_type": "code",
   "execution_count": null,
   "metadata": {},
   "outputs": [],
   "source": []
  },
  {
   "cell_type": "code",
   "execution_count": 46,
   "metadata": {
    "pycharm": {
     "is_executing": true
    }
   },
   "outputs": [],
   "source": [
    "X_mrmr_60 = X_cat[selected_features_60]\n",
    "X_mrmr_40 = X_cat[selected_features_40]\n",
    "X_mrmr_20 = X_cat[selected_features_20]\n",
    "\n",
    "list_dummy_20 = list(set( list(X_mrmr_20.columns)).intersection(dummy_feature))\n",
    "list_dummy_40 = list(set( list(X_mrmr_40.columns)).intersection(dummy_feature))\n",
    "list_dummy_60 = list(set( list(X_mrmr_60.columns)).intersection(dummy_feature))\n",
    "\n",
    "X_mrmr_20 = pd.get_dummies(X_mrmr_20, columns=list_dummy_20)\n",
    "X_mrmr_40 = pd.get_dummies(X_mrmr_40, columns=list_dummy_40)\n",
    "X_mrmr_60 = pd.get_dummies(X_mrmr_60, columns=list_dummy_60)"
   ]
  },
  {
   "cell_type": "code",
   "execution_count": null,
   "metadata": {},
   "outputs": [],
   "source": []
  },
  {
   "cell_type": "code",
   "execution_count": 47,
   "metadata": {
    "pycharm": {
     "is_executing": true
    }
   },
   "outputs": [
    {
     "data": {
      "text/html": [
       "<div>\n",
       "<style scoped>\n",
       "    .dataframe tbody tr th:only-of-type {\n",
       "        vertical-align: middle;\n",
       "    }\n",
       "\n",
       "    .dataframe tbody tr th {\n",
       "        vertical-align: top;\n",
       "    }\n",
       "\n",
       "    .dataframe thead th {\n",
       "        text-align: right;\n",
       "    }\n",
       "</style>\n",
       "<table border=\"1\" class=\"dataframe\">\n",
       "  <thead>\n",
       "    <tr style=\"text-align: right;\">\n",
       "      <th></th>\n",
       "      <th>IN_BYTES</th>\n",
       "      <th>IN_PKTS</th>\n",
       "      <th>OUT_BYTES</th>\n",
       "      <th>OUT_PKTS</th>\n",
       "      <th>TCP_FLAGS</th>\n",
       "      <th>FLOW_DURATION_MILLISECONDS</th>\n",
       "      <th>DURATION_IN</th>\n",
       "      <th>DURATION_OUT</th>\n",
       "      <th>MIN_TTL</th>\n",
       "      <th>LONGEST_FLOW_PKT</th>\n",
       "      <th>...</th>\n",
       "      <th>PROTOCOL_44</th>\n",
       "      <th>PROTOCOL_58</th>\n",
       "      <th>L7_PROTO_0</th>\n",
       "      <th>L7_PROTO_1</th>\n",
       "      <th>L7_PROTO_5</th>\n",
       "      <th>L7_PROTO_7</th>\n",
       "      <th>L7_PROTO_91</th>\n",
       "      <th>L7_PROTO_92</th>\n",
       "      <th>L7_PROTO_131</th>\n",
       "      <th>L7_PROTO_999</th>\n",
       "    </tr>\n",
       "  </thead>\n",
       "  <tbody>\n",
       "    <tr>\n",
       "      <th>0</th>\n",
       "      <td>-0.000524</td>\n",
       "      <td>0.003801</td>\n",
       "      <td>0.017058</td>\n",
       "      <td>0.010514</td>\n",
       "      <td>1.258678</td>\n",
       "      <td>2.102229</td>\n",
       "      <td>1.228176</td>\n",
       "      <td>1.438947</td>\n",
       "      <td>1.175353</td>\n",
       "      <td>2.561227</td>\n",
       "      <td>...</td>\n",
       "      <td>0</td>\n",
       "      <td>0</td>\n",
       "      <td>0</td>\n",
       "      <td>0</td>\n",
       "      <td>0</td>\n",
       "      <td>1</td>\n",
       "      <td>0</td>\n",
       "      <td>0</td>\n",
       "      <td>0</td>\n",
       "      <td>0</td>\n",
       "    </tr>\n",
       "    <tr>\n",
       "      <th>1</th>\n",
       "      <td>-0.007779</td>\n",
       "      <td>-0.006603</td>\n",
       "      <td>-0.008012</td>\n",
       "      <td>-0.003335</td>\n",
       "      <td>0.549887</td>\n",
       "      <td>2.102331</td>\n",
       "      <td>-0.260408</td>\n",
       "      <td>0.184234</td>\n",
       "      <td>1.175353</td>\n",
       "      <td>-0.438104</td>\n",
       "      <td>...</td>\n",
       "      <td>0</td>\n",
       "      <td>0</td>\n",
       "      <td>0</td>\n",
       "      <td>0</td>\n",
       "      <td>0</td>\n",
       "      <td>0</td>\n",
       "      <td>1</td>\n",
       "      <td>0</td>\n",
       "      <td>0</td>\n",
       "      <td>0</td>\n",
       "    </tr>\n",
       "    <tr>\n",
       "      <th>2</th>\n",
       "      <td>-0.008624</td>\n",
       "      <td>-0.007903</td>\n",
       "      <td>-0.009335</td>\n",
       "      <td>-0.007951</td>\n",
       "      <td>-0.956293</td>\n",
       "      <td>-0.475686</td>\n",
       "      <td>-0.260408</td>\n",
       "      <td>-0.278029</td>\n",
       "      <td>-0.699376</td>\n",
       "      <td>-0.463099</td>\n",
       "      <td>...</td>\n",
       "      <td>0</td>\n",
       "      <td>0</td>\n",
       "      <td>1</td>\n",
       "      <td>0</td>\n",
       "      <td>0</td>\n",
       "      <td>0</td>\n",
       "      <td>0</td>\n",
       "      <td>0</td>\n",
       "      <td>0</td>\n",
       "      <td>0</td>\n",
       "    </tr>\n",
       "    <tr>\n",
       "      <th>3</th>\n",
       "      <td>0.044998</td>\n",
       "      <td>0.001200</td>\n",
       "      <td>0.015853</td>\n",
       "      <td>0.008206</td>\n",
       "      <td>1.258678</td>\n",
       "      <td>-0.475686</td>\n",
       "      <td>-0.260408</td>\n",
       "      <td>-0.278029</td>\n",
       "      <td>1.175353</td>\n",
       "      <td>2.561227</td>\n",
       "      <td>...</td>\n",
       "      <td>0</td>\n",
       "      <td>0</td>\n",
       "      <td>0</td>\n",
       "      <td>0</td>\n",
       "      <td>0</td>\n",
       "      <td>1</td>\n",
       "      <td>0</td>\n",
       "      <td>0</td>\n",
       "      <td>0</td>\n",
       "      <td>0</td>\n",
       "    </tr>\n",
       "  </tbody>\n",
       "</table>\n",
       "<p>4 rows × 61 columns</p>\n",
       "</div>"
      ],
      "text/plain": [
       "   IN_BYTES   IN_PKTS  OUT_BYTES  OUT_PKTS  TCP_FLAGS  \\\n",
       "0 -0.000524  0.003801   0.017058  0.010514   1.258678   \n",
       "1 -0.007779 -0.006603  -0.008012 -0.003335   0.549887   \n",
       "2 -0.008624 -0.007903  -0.009335 -0.007951  -0.956293   \n",
       "3  0.044998  0.001200   0.015853  0.008206   1.258678   \n",
       "\n",
       "   FLOW_DURATION_MILLISECONDS  DURATION_IN  DURATION_OUT   MIN_TTL  \\\n",
       "0                    2.102229     1.228176      1.438947  1.175353   \n",
       "1                    2.102331    -0.260408      0.184234  1.175353   \n",
       "2                   -0.475686    -0.260408     -0.278029 -0.699376   \n",
       "3                   -0.475686    -0.260408     -0.278029  1.175353   \n",
       "\n",
       "   LONGEST_FLOW_PKT  ...  PROTOCOL_44  PROTOCOL_58  L7_PROTO_0  L7_PROTO_1  \\\n",
       "0          2.561227  ...            0            0           0           0   \n",
       "1         -0.438104  ...            0            0           0           0   \n",
       "2         -0.463099  ...            0            0           1           0   \n",
       "3          2.561227  ...            0            0           0           0   \n",
       "\n",
       "   L7_PROTO_5  L7_PROTO_7  L7_PROTO_91  L7_PROTO_92  L7_PROTO_131  \\\n",
       "0           0           1            0            0             0   \n",
       "1           0           0            1            0             0   \n",
       "2           0           0            0            0             0   \n",
       "3           0           1            0            0             0   \n",
       "\n",
       "   L7_PROTO_999  \n",
       "0             0  \n",
       "1             0  \n",
       "2             0  \n",
       "3             0  \n",
       "\n",
       "[4 rows x 61 columns]"
      ]
     },
     "execution_count": 47,
     "metadata": {},
     "output_type": "execute_result"
    }
   ],
   "source": [
    "X.head(4)"
   ]
  },
  {
   "cell_type": "markdown",
   "metadata": {},
   "source": [
    "### Decision Tree"
   ]
  },
  {
   "cell_type": "code",
   "execution_count": 48,
   "metadata": {
    "pycharm": {
     "is_executing": true
    }
   },
   "outputs": [],
   "source": [
    "import json\n",
    "class NumpyEncoder(json.JSONEncoder):\n",
    "    def default(self, obj):\n",
    "        if isinstance(obj, np.ndarray):\n",
    "            return obj.tolist()\n",
    "        return json.JSONEncoder.default(self, obj)\n"
   ]
  },
  {
   "cell_type": "code",
   "execution_count": null,
   "metadata": {
    "pycharm": {
     "is_executing": true
    }
   },
   "outputs": [],
   "source": []
  },
  {
   "cell_type": "markdown",
   "metadata": {},
   "source": [
    "## Function to save the performences in json file because the training required many days to be finished"
   ]
  },
  {
   "cell_type": "code",
   "execution_count": 52,
   "metadata": {
    "pycharm": {
     "is_executing": true
    }
   },
   "outputs": [],
   "source": [
    "from sklearn import tree\n",
    "from sklearn.model_selection import KFold\n",
    "import json\n",
    "from sklearn.model_selection import GridSearchCV\n",
    "from sklearn.metrics import make_scorer,cohen_kappa_score,matthews_corrcoef\n",
    "\n",
    "\n",
    "def my_grid_result_df(clf,hyperparams,data_name,algo_name,X,y):\n",
    "    \n",
    "    scoring = {\"Accuracy\": \"accuracy\", \"F1-Score\":'f1' ,\"Recall\": 'recall',\n",
    "               \"Precision\":\"precision\",\"MCC\":make_scorer(matthews_corrcoef), \"Kappa\":make_scorer(cohen_kappa_score)}\n",
    "    cv_inner = KFold(n_splits=5, shuffle=True, random_state=1)\n",
    "    search = GridSearchCV(clf, hyperparams, scoring=scoring, n_jobs=1, cv=cv_inner, refit=\"MCC\")\n",
    "    grid_result = search.fit(X, y)\n",
    "\n",
    "    json_dump = json.dumps(grid_result.cv_results_,cls=NumpyEncoder)\n",
    "    # Serializing json\n",
    "\n",
    "    # Writing to sample.json\n",
    "    with open(f\"./result_ton_bin/{algo_name}__{data_name}.json\", \"w\") as outfile:\n",
    "        outfile.write(json_dump)\n"
   ]
  },
  {
   "cell_type": "code",
   "execution_count": 53,
   "metadata": {},
   "outputs": [
    {
     "data": {
      "text/plain": [
       "(1694050, 5)"
      ]
     },
     "execution_count": 53,
     "metadata": {},
     "output_type": "execute_result"
    }
   ],
   "source": [
    "X_A_20.shape"
   ]
  },
  {
   "cell_type": "code",
   "execution_count": 54,
   "metadata": {},
   "outputs": [
    {
     "data": {
      "text/html": [
       "<div>\n",
       "<style scoped>\n",
       "    .dataframe tbody tr th:only-of-type {\n",
       "        vertical-align: middle;\n",
       "    }\n",
       "\n",
       "    .dataframe tbody tr th {\n",
       "        vertical-align: top;\n",
       "    }\n",
       "\n",
       "    .dataframe thead th {\n",
       "        text-align: right;\n",
       "    }\n",
       "</style>\n",
       "<table border=\"1\" class=\"dataframe\">\n",
       "  <thead>\n",
       "    <tr style=\"text-align: right;\">\n",
       "      <th></th>\n",
       "      <th>MIN_TTL</th>\n",
       "      <th>LONGEST_FLOW_PKT</th>\n",
       "      <th>MIN_IP_PKT_LEN</th>\n",
       "      <th>TCP_WIN_MAX_IN</th>\n",
       "      <th>TCP_WIN_MAX_OUT</th>\n",
       "      <th>DNS_QUERY_TYPE</th>\n",
       "      <th>L7_PROTO_0</th>\n",
       "      <th>L7_PROTO_1</th>\n",
       "      <th>L7_PROTO_5</th>\n",
       "      <th>L7_PROTO_7</th>\n",
       "      <th>L7_PROTO_91</th>\n",
       "      <th>L7_PROTO_92</th>\n",
       "      <th>L7_PROTO_131</th>\n",
       "      <th>L7_PROTO_999</th>\n",
       "    </tr>\n",
       "  </thead>\n",
       "  <tbody>\n",
       "    <tr>\n",
       "      <th>0</th>\n",
       "      <td>1.175353</td>\n",
       "      <td>2.561227</td>\n",
       "      <td>0.302807</td>\n",
       "      <td>1.368347</td>\n",
       "      <td>3.058477</td>\n",
       "      <td>0</td>\n",
       "      <td>0</td>\n",
       "      <td>0</td>\n",
       "      <td>0</td>\n",
       "      <td>1</td>\n",
       "      <td>0</td>\n",
       "      <td>0</td>\n",
       "      <td>0</td>\n",
       "      <td>0</td>\n",
       "    </tr>\n",
       "    <tr>\n",
       "      <th>1</th>\n",
       "      <td>1.175353</td>\n",
       "      <td>-0.438104</td>\n",
       "      <td>0.763735</td>\n",
       "      <td>1.368347</td>\n",
       "      <td>1.030134</td>\n",
       "      <td>0</td>\n",
       "      <td>0</td>\n",
       "      <td>0</td>\n",
       "      <td>0</td>\n",
       "      <td>0</td>\n",
       "      <td>1</td>\n",
       "      <td>0</td>\n",
       "      <td>0</td>\n",
       "      <td>0</td>\n",
       "    </tr>\n",
       "  </tbody>\n",
       "</table>\n",
       "</div>"
      ],
      "text/plain": [
       "    MIN_TTL  LONGEST_FLOW_PKT  MIN_IP_PKT_LEN  TCP_WIN_MAX_IN  \\\n",
       "0  1.175353          2.561227        0.302807        1.368347   \n",
       "1  1.175353         -0.438104        0.763735        1.368347   \n",
       "\n",
       "   TCP_WIN_MAX_OUT  DNS_QUERY_TYPE  L7_PROTO_0  L7_PROTO_1  L7_PROTO_5  \\\n",
       "0         3.058477               0           0           0           0   \n",
       "1         1.030134               0           0           0           0   \n",
       "\n",
       "   L7_PROTO_7  L7_PROTO_91  L7_PROTO_92  L7_PROTO_131  L7_PROTO_999  \n",
       "0           1            0            0             0             0  \n",
       "1           0            1            0             0             0  "
      ]
     },
     "execution_count": 54,
     "metadata": {},
     "output_type": "execute_result"
    }
   ],
   "source": [
    "X_A_chi2_20 = pd.concat([X_A_20,X_chi2_20],axis=1)\n",
    "X_A_chi2_20.head(2)"
   ]
  },
  {
   "cell_type": "code",
   "execution_count": 55,
   "metadata": {},
   "outputs": [],
   "source": [
    "X_chi2_60 = X_chi2_60.astype(int)\n",
    "X_chi2_40 = X_chi2_40.astype(int)\n",
    "X_chi2_20 = X_chi2_20.astype(int)\n",
    "\n",
    "\n",
    "\n",
    "X_mrmr_60 = X_mrmr_60.astype(int)\n",
    "X_mrmr_40 = X_mrmr_40.astype(int)\n",
    "X_mrmr_20 = X_mrmr_20.astype(int)\n",
    "\n",
    "X_cat = X_cat.astype(int)"
   ]
  },
  {
   "cell_type": "code",
   "execution_count": 56,
   "metadata": {},
   "outputs": [
    {
     "data": {
      "text/html": [
       "<div>\n",
       "<style scoped>\n",
       "    .dataframe tbody tr th:only-of-type {\n",
       "        vertical-align: middle;\n",
       "    }\n",
       "\n",
       "    .dataframe tbody tr th {\n",
       "        vertical-align: top;\n",
       "    }\n",
       "\n",
       "    .dataframe thead th {\n",
       "        text-align: right;\n",
       "    }\n",
       "</style>\n",
       "<table border=\"1\" class=\"dataframe\">\n",
       "  <thead>\n",
       "    <tr style=\"text-align: right;\">\n",
       "      <th></th>\n",
       "      <th>PROTOCOL</th>\n",
       "      <th>L7_PROTO</th>\n",
       "      <th>DNS_QUERY_TYPE</th>\n",
       "      <th>ICMP_TYPE</th>\n",
       "      <th>ICMP_IPV4_TYPE</th>\n",
       "      <th>DNS_TTL_ANSWER</th>\n",
       "      <th>L4_SRC_PORT_C</th>\n",
       "      <th>L4_DST_PORT_C</th>\n",
       "      <th>IPV4_DST_ADDR_CLASSE</th>\n",
       "      <th>IPV4_SRC_ADDR_CLASSE</th>\n",
       "    </tr>\n",
       "  </thead>\n",
       "  <tbody>\n",
       "    <tr>\n",
       "      <th>0</th>\n",
       "      <td>6</td>\n",
       "      <td>7</td>\n",
       "      <td>0</td>\n",
       "      <td>0</td>\n",
       "      <td>0</td>\n",
       "      <td>0</td>\n",
       "      <td>2</td>\n",
       "      <td>0</td>\n",
       "      <td>3</td>\n",
       "      <td>3</td>\n",
       "    </tr>\n",
       "    <tr>\n",
       "      <th>1</th>\n",
       "      <td>6</td>\n",
       "      <td>91</td>\n",
       "      <td>0</td>\n",
       "      <td>0</td>\n",
       "      <td>0</td>\n",
       "      <td>0</td>\n",
       "      <td>1</td>\n",
       "      <td>0</td>\n",
       "      <td>3</td>\n",
       "      <td>3</td>\n",
       "    </tr>\n",
       "    <tr>\n",
       "      <th>2</th>\n",
       "      <td>6</td>\n",
       "      <td>0</td>\n",
       "      <td>0</td>\n",
       "      <td>0</td>\n",
       "      <td>0</td>\n",
       "      <td>0</td>\n",
       "      <td>1</td>\n",
       "      <td>1</td>\n",
       "      <td>3</td>\n",
       "      <td>3</td>\n",
       "    </tr>\n",
       "    <tr>\n",
       "      <th>3</th>\n",
       "      <td>6</td>\n",
       "      <td>7</td>\n",
       "      <td>0</td>\n",
       "      <td>0</td>\n",
       "      <td>0</td>\n",
       "      <td>0</td>\n",
       "      <td>2</td>\n",
       "      <td>0</td>\n",
       "      <td>4</td>\n",
       "      <td>3</td>\n",
       "    </tr>\n",
       "    <tr>\n",
       "      <th>4</th>\n",
       "      <td>6</td>\n",
       "      <td>0</td>\n",
       "      <td>0</td>\n",
       "      <td>0</td>\n",
       "      <td>0</td>\n",
       "      <td>0</td>\n",
       "      <td>1</td>\n",
       "      <td>1</td>\n",
       "      <td>3</td>\n",
       "      <td>3</td>\n",
       "    </tr>\n",
       "    <tr>\n",
       "      <th>...</th>\n",
       "      <td>...</td>\n",
       "      <td>...</td>\n",
       "      <td>...</td>\n",
       "      <td>...</td>\n",
       "      <td>...</td>\n",
       "      <td>...</td>\n",
       "      <td>...</td>\n",
       "      <td>...</td>\n",
       "      <td>...</td>\n",
       "      <td>...</td>\n",
       "    </tr>\n",
       "    <tr>\n",
       "      <th>1694045</th>\n",
       "      <td>6</td>\n",
       "      <td>7</td>\n",
       "      <td>0</td>\n",
       "      <td>0</td>\n",
       "      <td>0</td>\n",
       "      <td>0</td>\n",
       "      <td>1</td>\n",
       "      <td>0</td>\n",
       "      <td>3</td>\n",
       "      <td>3</td>\n",
       "    </tr>\n",
       "    <tr>\n",
       "      <th>1694046</th>\n",
       "      <td>6</td>\n",
       "      <td>91</td>\n",
       "      <td>0</td>\n",
       "      <td>0</td>\n",
       "      <td>0</td>\n",
       "      <td>0</td>\n",
       "      <td>0</td>\n",
       "      <td>1</td>\n",
       "      <td>3</td>\n",
       "      <td>3</td>\n",
       "    </tr>\n",
       "    <tr>\n",
       "      <th>1694047</th>\n",
       "      <td>17</td>\n",
       "      <td>0</td>\n",
       "      <td>999</td>\n",
       "      <td>0</td>\n",
       "      <td>0</td>\n",
       "      <td>0</td>\n",
       "      <td>1</td>\n",
       "      <td>0</td>\n",
       "      <td>3</td>\n",
       "      <td>3</td>\n",
       "    </tr>\n",
       "    <tr>\n",
       "      <th>1694048</th>\n",
       "      <td>17</td>\n",
       "      <td>0</td>\n",
       "      <td>999</td>\n",
       "      <td>0</td>\n",
       "      <td>0</td>\n",
       "      <td>0</td>\n",
       "      <td>1</td>\n",
       "      <td>0</td>\n",
       "      <td>3</td>\n",
       "      <td>3</td>\n",
       "    </tr>\n",
       "    <tr>\n",
       "      <th>1694049</th>\n",
       "      <td>6</td>\n",
       "      <td>7</td>\n",
       "      <td>0</td>\n",
       "      <td>0</td>\n",
       "      <td>0</td>\n",
       "      <td>0</td>\n",
       "      <td>2</td>\n",
       "      <td>0</td>\n",
       "      <td>3</td>\n",
       "      <td>3</td>\n",
       "    </tr>\n",
       "  </tbody>\n",
       "</table>\n",
       "<p>1694050 rows × 10 columns</p>\n",
       "</div>"
      ],
      "text/plain": [
       "         PROTOCOL  L7_PROTO  DNS_QUERY_TYPE  ICMP_TYPE  ICMP_IPV4_TYPE  \\\n",
       "0               6         7               0          0               0   \n",
       "1               6        91               0          0               0   \n",
       "2               6         0               0          0               0   \n",
       "3               6         7               0          0               0   \n",
       "4               6         0               0          0               0   \n",
       "...           ...       ...             ...        ...             ...   \n",
       "1694045         6         7               0          0               0   \n",
       "1694046         6        91               0          0               0   \n",
       "1694047        17         0             999          0               0   \n",
       "1694048        17         0             999          0               0   \n",
       "1694049         6         7               0          0               0   \n",
       "\n",
       "         DNS_TTL_ANSWER  L4_SRC_PORT_C  L4_DST_PORT_C  IPV4_DST_ADDR_CLASSE  \\\n",
       "0                     0              2              0                     3   \n",
       "1                     0              1              0                     3   \n",
       "2                     0              1              1                     3   \n",
       "3                     0              2              0                     4   \n",
       "4                     0              1              1                     3   \n",
       "...                 ...            ...            ...                   ...   \n",
       "1694045               0              1              0                     3   \n",
       "1694046               0              0              1                     3   \n",
       "1694047               0              1              0                     3   \n",
       "1694048               0              1              0                     3   \n",
       "1694049               0              2              0                     3   \n",
       "\n",
       "         IPV4_SRC_ADDR_CLASSE  \n",
       "0                           3  \n",
       "1                           3  \n",
       "2                           3  \n",
       "3                           3  \n",
       "4                           3  \n",
       "...                       ...  \n",
       "1694045                     3  \n",
       "1694046                     3  \n",
       "1694047                     3  \n",
       "1694048                     3  \n",
       "1694049                     3  \n",
       "\n",
       "[1694050 rows x 10 columns]"
      ]
     },
     "execution_count": 56,
     "metadata": {},
     "output_type": "execute_result"
    }
   ],
   "source": [
    "X_cat"
   ]
  },
  {
   "cell_type": "raw",
   "metadata": {},
   "source": [
    "del ton_iot_copy\n",
    "del ton_iot\n",
    "del X_train\n",
    "del y_train\n"
   ]
  },
  {
   "cell_type": "code",
   "execution_count": 57,
   "metadata": {},
   "outputs": [],
   "source": [
    "X_A_chi2_20 = pd.concat([X_A_20,X_chi2_20],axis=1)\n",
    "X_A_chi2_40 = pd.concat([X_A_40,X_chi2_40],axis=1)\n",
    "X_A_chi2_60 = pd.concat([X_A_60,X_chi2_60],axis=1)\n",
    "\n",
    "\n",
    "X_A_mRMR_20 = pd.concat([X_A_20,X_mrmr_20],axis=1)\n",
    "X_A_mRMR_40 = pd.concat([X_A_40,X_mrmr_40],axis=1)\n",
    "X_A_mRMR_60 = pd.concat([X_A_60,X_mrmr_60],axis=1)\n"
   ]
  },
  {
   "cell_type": "code",
   "execution_count": null,
   "metadata": {},
   "outputs": [],
   "source": []
  },
  {
   "cell_type": "raw",
   "metadata": {},
   "source": [
    "\n",
    "X_A_chi2_20.to_csv('X_A_chi2_20.csv',index=False)\n",
    "X_A_chi2_40.to_csv('X_A_chi2_40.csv',index=False)\n",
    "X_A_chi2_60.to_csv('X_A_chi2_60.csv',index=False)\n",
    "# =================================================#\n",
    "\n",
    "X_A_mRMR_20.to_csv('X_A_mRMR_20.csv',index=False)\n",
    "X_A_mRMR_40.to_csv('X_A_mRMR_40.csv',index=False)\n",
    "X_A_mRMR_60.to_csv('X_A_mRMR_60.csv',index=False)\n",
    "\n",
    "# =================================================#\n",
    "\n",
    "X.to_csv('X.csv',index=False)\n"
   ]
  },
  {
   "cell_type": "raw",
   "metadata": {},
   "source": [
    "y_b.to_csv('y_b.csv',index=False)\n"
   ]
  },
  {
   "cell_type": "markdown",
   "metadata": {},
   "source": [
    "# Insert the new code for import here"
   ]
  },
  {
   "cell_type": "code",
   "execution_count": null,
   "metadata": {},
   "outputs": [],
   "source": []
  },
  {
   "cell_type": "code",
   "execution_count": 58,
   "metadata": {
    "pycharm": {
     "is_executing": true
    }
   },
   "outputs": [],
   "source": [
    "datasets = {\"X_A_chi2_20\":X_A_chi2_20,\n",
    "\"X_A_chi2_40\":X_A_chi2_40,\n",
    "\"X_A_chi2_60\":X_A_chi2_60,\n",
    "\n",
    "\"X_A_mRMR_20\":X_A_mRMR_20,\n",
    "\"X_A_mRMR_40\":X_A_mRMR_40,\n",
    "\"X_A_mRMR_60\":X_A_mRMR_60,\n",
    "            \n",
    "           \"X\":X}"
   ]
  },
  {
   "cell_type": "code",
   "execution_count": 78,
   "metadata": {},
   "outputs": [
    {
     "data": {
      "text/plain": [
       "(5, 61)"
      ]
     },
     "execution_count": 78,
     "metadata": {},
     "output_type": "execute_result"
    }
   ],
   "source": [
    "X.head(5).shape"
   ]
  },
  {
   "cell_type": "code",
   "execution_count": 73,
   "metadata": {},
   "outputs": [],
   "source": [
    "del X_A_chi2_20,\n",
    "del X_A_chi2_40,\n",
    "del X_A_chi2_60,\n",
    "\n",
    "del X_A_mRMR_20,\n",
    "del X_A_mRMR_40,\n",
    "del X_A_mRMR_60\n",
    "            \n",
    "del X"
   ]
  },
  {
   "cell_type": "code",
   "execution_count": 82,
   "metadata": {},
   "outputs": [
    {
     "data": {
      "text/plain": [
       "dict_keys(['X_A_chi2_20', 'X_A_chi2_40', 'X_A_chi2_60', 'X_A_mRMR_20', 'X_A_mRMR_40', 'X_A_mRMR_60', 'X'])"
      ]
     },
     "execution_count": 82,
     "metadata": {},
     "output_type": "execute_result"
    }
   ],
   "source": [
    "datasets.keys()"
   ]
  },
  {
   "cell_type": "code",
   "execution_count": null,
   "metadata": {},
   "outputs": [],
   "source": []
  },
  {
   "cell_type": "code",
   "execution_count": null,
   "metadata": {},
   "outputs": [],
   "source": []
  },
  {
   "cell_type": "code",
   "execution_count": 106,
   "metadata": {
    "pycharm": {
     "is_executing": true
    }
   },
   "outputs": [],
   "source": [
    "import datetime\n",
    "def create_all_result(clf,algo_name,hyperparams,datasets,y):\n",
    "    for k,v in datasets.items():\n",
    "        now = datetime.datetime.now()\n",
    "        print(f'======== process======= dataset : {k} \\t time is {now}')\n",
    "        my_grid_result_df(clf,hyperparams,k,algo_name,v,y)\n",
    "        now = datetime.datetime.now()\n",
    "        print(f'======== Done  ======== dataset : {k} \\t time is {now}')\n",
    "        print('\\n')\n"
   ]
  },
  {
   "cell_type": "markdown",
   "metadata": {},
   "source": [
    "# Decision Tree"
   ]
  },
  {
   "cell_type": "code",
   "execution_count": 136,
   "metadata": {},
   "outputs": [
    {
     "name": "stdout",
     "output_type": "stream",
     "text": [
      "======== process======= dataset : X_A_chi2_20 \t time is 2024-04-28 16:40:55.242722\n",
      "======== Done  ======== dataset : X_A_chi2_20 \t time is 2024-04-28 16:41:24.309162\n",
      "\n",
      "\n",
      "======== process======= dataset : X_A_chi2_40 \t time is 2024-04-28 16:41:24.309162\n",
      "======== Done  ======== dataset : X_A_chi2_40 \t time is 2024-04-28 16:42:26.149346\n",
      "\n",
      "\n",
      "======== process======= dataset : X_A_chi2_60 \t time is 2024-04-28 16:42:26.150375\n",
      "======== Done  ======== dataset : X_A_chi2_60 \t time is 2024-04-28 16:44:07.373133\n",
      "\n",
      "\n",
      "======== process======= dataset : X_A_mRMR_20 \t time is 2024-04-28 16:44:07.374084\n",
      "======== Done  ======== dataset : X_A_mRMR_20 \t time is 2024-04-28 16:44:30.772800\n",
      "\n",
      "\n",
      "======== process======= dataset : X_A_mRMR_40 \t time is 2024-04-28 16:44:30.772800\n",
      "======== Done  ======== dataset : X_A_mRMR_40 \t time is 2024-04-28 16:45:27.174899\n",
      "\n",
      "\n",
      "======== process======= dataset : X_A_mRMR_60 \t time is 2024-04-28 16:45:27.175364\n",
      "======== Done  ======== dataset : X_A_mRMR_60 \t time is 2024-04-28 16:47:17.940869\n",
      "\n",
      "\n",
      "======== process======= dataset : X \t time is 2024-04-28 16:47:17.941869\n",
      "======== Done  ======== dataset : X \t time is 2024-04-28 16:50:33.241703\n",
      "\n",
      "\n"
     ]
    }
   ],
   "source": [
    "clf = tree.DecisionTreeClassifier(ccp_alpha=0.01)\n",
    "hyperparams = {}\n",
    "create_all_result(clf,'DecisionTreeClassifier',hyperparams,datasets,y_b)"
   ]
  },
  {
   "cell_type": "code",
   "execution_count": null,
   "metadata": {},
   "outputs": [],
   "source": []
  },
  {
   "cell_type": "code",
   "execution_count": 88,
   "metadata": {},
   "outputs": [
    {
     "data": {
      "text/plain": [
       "<module 'sklearn.metrics' from 'C:\\\\Users\\\\abder\\\\anaconda3\\\\Lib\\\\site-packages\\\\sklearn\\\\metrics\\\\__init__.py'>"
      ]
     },
     "execution_count": 88,
     "metadata": {},
     "output_type": "execute_result"
    }
   ],
   "source": [
    "import sklearn\n",
    "sklearn.metrics"
   ]
  },
  {
   "cell_type": "markdown",
   "metadata": {},
   "source": [
    "### Random Forest"
   ]
  },
  {
   "cell_type": "code",
   "execution_count": 93,
   "metadata": {},
   "outputs": [
    {
     "data": {
      "text/plain": [
       "dict_keys(['X_A_chi2_20', 'X_A_chi2_40', 'X_A_chi2_60', 'X_A_mRMR_20', 'X_A_mRMR_40', 'X_A_mRMR_60', 'X'])"
      ]
     },
     "execution_count": 93,
     "metadata": {},
     "output_type": "execute_result"
    }
   ],
   "source": [
    "datasets.keys()"
   ]
  },
  {
   "cell_type": "code",
   "execution_count": 94,
   "metadata": {},
   "outputs": [],
   "source": [
    "datasets_tmp = {\n",
    "\"X_A_mRMR_60\": datasets[\"X_A_mRMR_60\"],\n",
    "            \n",
    "           \"X\":datasets[\"X\"]}"
   ]
  },
  {
   "cell_type": "code",
   "execution_count": 95,
   "metadata": {},
   "outputs": [
    {
     "name": "stdout",
     "output_type": "stream",
     "text": [
      "======================= RandomForestClassifier =====================\n",
      "======== process======= dataset : X_A_mRMR_60 \t time is 2024-04-21 00:25:59.593558\n",
      "======== Done  ======== dataset : X_A_mRMR_60 \t time is 2024-04-21 01:30:14.505723\n",
      "\n",
      "\n",
      "======== process======= dataset : X \t time is 2024-04-21 01:30:14.539959\n",
      "======== Done  ======== dataset : X \t time is 2024-04-21 02:41:11.992139\n",
      "\n",
      "\n"
     ]
    }
   ],
   "source": [
    "from sklearn.ensemble import RandomForestClassifier\n",
    "\n",
    "hyperparams = {'n_estimators':[5, 20, 40, 70, 100]}\n",
    "\n",
    "print('======================= RandomForestClassifier =====================')\n",
    "clf = RandomForestClassifier(random_state=0)\n",
    "create_all_result(clf,'RandomForestClassifier',hyperparams,datasets_tmp,y_b)"
   ]
  },
  {
   "cell_type": "markdown",
   "metadata": {},
   "source": [
    "### Xgboost\n"
   ]
  },
  {
   "cell_type": "raw",
   "metadata": {},
   "source": [
    "======================= XGBClassifier =====================\n",
    "======== process======= dataset : X_A_chi2_20 \t time is 2024-04-19 21:43:51.095890"
   ]
  },
  {
   "cell_type": "code",
   "execution_count": 62,
   "metadata": {},
   "outputs": [],
   "source": []
  },
  {
   "cell_type": "code",
   "execution_count": 103,
   "metadata": {},
   "outputs": [
    {
     "name": "stdout",
     "output_type": "stream",
     "text": [
      "======================= XGBClassifier =====================\n",
      "======== process======= dataset : X_A_chi2_20 \t time is 2024-04-21 22:41:07.923031\n",
      "======== Done  ======== dataset : X_A_chi2_20 \t time is 2024-04-21 22:43:32.244913\n",
      "\n",
      "\n",
      "======== process======= dataset : X_A_chi2_40 \t time is 2024-04-21 22:43:32.260272\n",
      "======== Done  ======== dataset : X_A_chi2_40 \t time is 2024-04-21 22:46:54.941462\n",
      "\n",
      "\n",
      "======== process======= dataset : X_A_chi2_60 \t time is 2024-04-21 22:46:54.953002\n",
      "======== Done  ======== dataset : X_A_chi2_60 \t time is 2024-04-21 22:50:42.864266\n",
      "\n",
      "\n",
      "======== process======= dataset : X_A_mRMR_20 \t time is 2024-04-21 22:50:42.882376\n",
      "======== Done  ======== dataset : X_A_mRMR_20 \t time is 2024-04-21 22:52:59.190320\n",
      "\n",
      "\n",
      "======== process======= dataset : X_A_mRMR_40 \t time is 2024-04-21 22:52:59.191320\n",
      "======== Done  ======== dataset : X_A_mRMR_40 \t time is 2024-04-21 22:56:21.998871\n",
      "\n",
      "\n",
      "======== process======= dataset : X_A_mRMR_60 \t time is 2024-04-21 22:56:22.007860\n",
      "======== Done  ======== dataset : X_A_mRMR_60 \t time is 2024-04-21 23:00:32.896713\n",
      "\n",
      "\n",
      "======== process======= dataset : X \t time is 2024-04-21 23:00:32.916796\n",
      "======== Done  ======== dataset : X \t time is 2024-04-21 23:05:34.667435\n",
      "\n",
      "\n"
     ]
    }
   ],
   "source": [
    "from xgboost import  XGBClassifier\n",
    "\n",
    "hyperparams = {'n_estimators':[5, 20, 40, 70, 100]}\n",
    "\n",
    "clf = XGBClassifier(random_state=0)\n",
    "\n",
    "print('======================= XGBClassifier =====================')\n",
    "\n",
    "create_all_result(clf,'XGBClassifier',hyperparams,datasets,y_b)\n"
   ]
  },
  {
   "cell_type": "code",
   "execution_count": null,
   "metadata": {},
   "outputs": [
    {
     "name": "stdout",
     "output_type": "stream",
     "text": [
      "hiiii\n"
     ]
    }
   ],
   "source": []
  },
  {
   "cell_type": "markdown",
   "metadata": {},
   "source": [
    "## Create function to convert ML models to TinyML"
   ]
  },
  {
   "cell_type": "code",
   "execution_count": 108,
   "metadata": {},
   "outputs": [],
   "source": [
    "from micromlgen import port\n",
    "\n",
    "def create_folder(path):\n",
    "    path_temp = Path(path)\n",
    "    path_temp.mkdir(parents=True)\n",
    "    \n",
    "import sys\n",
    "def save_my_model(path,name_file,extension,contenent):\n",
    "    orig_stdout = sys.stdout\n",
    "    f = open(path+'/'+name_file+'.'+extension , 'w')\n",
    "    sys.stdout = f\n",
    "    print(contenent)\n",
    "    sys.stdout = orig_stdout\n",
    "    f.close()"
   ]
  },
  {
   "cell_type": "code",
   "execution_count": 80,
   "metadata": {},
   "outputs": [
    {
     "ename": "KeyboardInterrupt",
     "evalue": "",
     "output_type": "error",
     "traceback": [
      "\u001b[1;31m---------------------------------------------------------------------------\u001b[0m",
      "\u001b[1;31mKeyboardInterrupt\u001b[0m                         Traceback (most recent call last)",
      "Cell \u001b[1;32mIn[80], line 10\u001b[0m\n\u001b[0;32m      8\u001b[0m \u001b[38;5;28;01mfor\u001b[39;00m  n_estimators \u001b[38;5;129;01min\u001b[39;00m [\u001b[38;5;241m5\u001b[39m, \u001b[38;5;241m20\u001b[39m, \u001b[38;5;241m40\u001b[39m, \u001b[38;5;241m70\u001b[39m, \u001b[38;5;241m100\u001b[39m] :\n\u001b[0;32m      9\u001b[0m     clf \u001b[38;5;241m=\u001b[39m RandomForestClassifier(random_state\u001b[38;5;241m=\u001b[39m\u001b[38;5;241m0\u001b[39m, n_estimators \u001b[38;5;241m=\u001b[39m n_estimators)\n\u001b[1;32m---> 10\u001b[0m     clf\u001b[38;5;241m.\u001b[39mfit(data,y_b)\n\u001b[0;32m     11\u001b[0m     contenent \u001b[38;5;241m=\u001b[39m port(clf)\n\u001b[0;32m     12\u001b[0m     k \u001b[38;5;241m=\u001b[39m k\u001b[38;5;241m.\u001b[39mreplace(\u001b[38;5;124m\"\u001b[39m\u001b[38;5;124mX_\u001b[39m\u001b[38;5;124m\"\u001b[39m, \u001b[38;5;124m\"\u001b[39m\u001b[38;5;124m\"\u001b[39m)\n",
      "File \u001b[1;32m~\\anaconda3\\Lib\\site-packages\\sklearn\\base.py:1151\u001b[0m, in \u001b[0;36m_fit_context.<locals>.decorator.<locals>.wrapper\u001b[1;34m(estimator, *args, **kwargs)\u001b[0m\n\u001b[0;32m   1144\u001b[0m     estimator\u001b[38;5;241m.\u001b[39m_validate_params()\n\u001b[0;32m   1146\u001b[0m \u001b[38;5;28;01mwith\u001b[39;00m config_context(\n\u001b[0;32m   1147\u001b[0m     skip_parameter_validation\u001b[38;5;241m=\u001b[39m(\n\u001b[0;32m   1148\u001b[0m         prefer_skip_nested_validation \u001b[38;5;129;01mor\u001b[39;00m global_skip_validation\n\u001b[0;32m   1149\u001b[0m     )\n\u001b[0;32m   1150\u001b[0m ):\n\u001b[1;32m-> 1151\u001b[0m     \u001b[38;5;28;01mreturn\u001b[39;00m fit_method(estimator, \u001b[38;5;241m*\u001b[39margs, \u001b[38;5;241m*\u001b[39m\u001b[38;5;241m*\u001b[39mkwargs)\n",
      "File \u001b[1;32m~\\anaconda3\\Lib\\site-packages\\sklearn\\ensemble\\_forest.py:456\u001b[0m, in \u001b[0;36mBaseForest.fit\u001b[1;34m(self, X, y, sample_weight)\u001b[0m\n\u001b[0;32m    445\u001b[0m trees \u001b[38;5;241m=\u001b[39m [\n\u001b[0;32m    446\u001b[0m     \u001b[38;5;28mself\u001b[39m\u001b[38;5;241m.\u001b[39m_make_estimator(append\u001b[38;5;241m=\u001b[39m\u001b[38;5;28;01mFalse\u001b[39;00m, random_state\u001b[38;5;241m=\u001b[39mrandom_state)\n\u001b[0;32m    447\u001b[0m     \u001b[38;5;28;01mfor\u001b[39;00m i \u001b[38;5;129;01min\u001b[39;00m \u001b[38;5;28mrange\u001b[39m(n_more_estimators)\n\u001b[0;32m    448\u001b[0m ]\n\u001b[0;32m    450\u001b[0m \u001b[38;5;66;03m# Parallel loop: we prefer the threading backend as the Cython code\u001b[39;00m\n\u001b[0;32m    451\u001b[0m \u001b[38;5;66;03m# for fitting the trees is internally releasing the Python GIL\u001b[39;00m\n\u001b[0;32m    452\u001b[0m \u001b[38;5;66;03m# making threading more efficient than multiprocessing in\u001b[39;00m\n\u001b[0;32m    453\u001b[0m \u001b[38;5;66;03m# that case. However, for joblib 0.12+ we respect any\u001b[39;00m\n\u001b[0;32m    454\u001b[0m \u001b[38;5;66;03m# parallel_backend contexts set at a higher level,\u001b[39;00m\n\u001b[0;32m    455\u001b[0m \u001b[38;5;66;03m# since correctness does not rely on using threads.\u001b[39;00m\n\u001b[1;32m--> 456\u001b[0m trees \u001b[38;5;241m=\u001b[39m Parallel(\n\u001b[0;32m    457\u001b[0m     n_jobs\u001b[38;5;241m=\u001b[39m\u001b[38;5;28mself\u001b[39m\u001b[38;5;241m.\u001b[39mn_jobs,\n\u001b[0;32m    458\u001b[0m     verbose\u001b[38;5;241m=\u001b[39m\u001b[38;5;28mself\u001b[39m\u001b[38;5;241m.\u001b[39mverbose,\n\u001b[0;32m    459\u001b[0m     prefer\u001b[38;5;241m=\u001b[39m\u001b[38;5;124m\"\u001b[39m\u001b[38;5;124mthreads\u001b[39m\u001b[38;5;124m\"\u001b[39m,\n\u001b[0;32m    460\u001b[0m )(\n\u001b[0;32m    461\u001b[0m     delayed(_parallel_build_trees)(\n\u001b[0;32m    462\u001b[0m         t,\n\u001b[0;32m    463\u001b[0m         \u001b[38;5;28mself\u001b[39m\u001b[38;5;241m.\u001b[39mbootstrap,\n\u001b[0;32m    464\u001b[0m         X,\n\u001b[0;32m    465\u001b[0m         y,\n\u001b[0;32m    466\u001b[0m         sample_weight,\n\u001b[0;32m    467\u001b[0m         i,\n\u001b[0;32m    468\u001b[0m         \u001b[38;5;28mlen\u001b[39m(trees),\n\u001b[0;32m    469\u001b[0m         verbose\u001b[38;5;241m=\u001b[39m\u001b[38;5;28mself\u001b[39m\u001b[38;5;241m.\u001b[39mverbose,\n\u001b[0;32m    470\u001b[0m         class_weight\u001b[38;5;241m=\u001b[39m\u001b[38;5;28mself\u001b[39m\u001b[38;5;241m.\u001b[39mclass_weight,\n\u001b[0;32m    471\u001b[0m         n_samples_bootstrap\u001b[38;5;241m=\u001b[39mn_samples_bootstrap,\n\u001b[0;32m    472\u001b[0m     )\n\u001b[0;32m    473\u001b[0m     \u001b[38;5;28;01mfor\u001b[39;00m i, t \u001b[38;5;129;01min\u001b[39;00m \u001b[38;5;28menumerate\u001b[39m(trees)\n\u001b[0;32m    474\u001b[0m )\n\u001b[0;32m    476\u001b[0m \u001b[38;5;66;03m# Collect newly grown trees\u001b[39;00m\n\u001b[0;32m    477\u001b[0m \u001b[38;5;28mself\u001b[39m\u001b[38;5;241m.\u001b[39mestimators_\u001b[38;5;241m.\u001b[39mextend(trees)\n",
      "File \u001b[1;32m~\\anaconda3\\Lib\\site-packages\\sklearn\\utils\\parallel.py:65\u001b[0m, in \u001b[0;36mParallel.__call__\u001b[1;34m(self, iterable)\u001b[0m\n\u001b[0;32m     60\u001b[0m config \u001b[38;5;241m=\u001b[39m get_config()\n\u001b[0;32m     61\u001b[0m iterable_with_config \u001b[38;5;241m=\u001b[39m (\n\u001b[0;32m     62\u001b[0m     (_with_config(delayed_func, config), args, kwargs)\n\u001b[0;32m     63\u001b[0m     \u001b[38;5;28;01mfor\u001b[39;00m delayed_func, args, kwargs \u001b[38;5;129;01min\u001b[39;00m iterable\n\u001b[0;32m     64\u001b[0m )\n\u001b[1;32m---> 65\u001b[0m \u001b[38;5;28;01mreturn\u001b[39;00m \u001b[38;5;28msuper\u001b[39m()\u001b[38;5;241m.\u001b[39m\u001b[38;5;21m__call__\u001b[39m(iterable_with_config)\n",
      "File \u001b[1;32m~\\anaconda3\\Lib\\site-packages\\joblib\\parallel.py:1088\u001b[0m, in \u001b[0;36mParallel.__call__\u001b[1;34m(self, iterable)\u001b[0m\n\u001b[0;32m   1085\u001b[0m \u001b[38;5;28;01mif\u001b[39;00m \u001b[38;5;28mself\u001b[39m\u001b[38;5;241m.\u001b[39mdispatch_one_batch(iterator):\n\u001b[0;32m   1086\u001b[0m     \u001b[38;5;28mself\u001b[39m\u001b[38;5;241m.\u001b[39m_iterating \u001b[38;5;241m=\u001b[39m \u001b[38;5;28mself\u001b[39m\u001b[38;5;241m.\u001b[39m_original_iterator \u001b[38;5;129;01mis\u001b[39;00m \u001b[38;5;129;01mnot\u001b[39;00m \u001b[38;5;28;01mNone\u001b[39;00m\n\u001b[1;32m-> 1088\u001b[0m \u001b[38;5;28;01mwhile\u001b[39;00m \u001b[38;5;28mself\u001b[39m\u001b[38;5;241m.\u001b[39mdispatch_one_batch(iterator):\n\u001b[0;32m   1089\u001b[0m     \u001b[38;5;28;01mpass\u001b[39;00m\n\u001b[0;32m   1091\u001b[0m \u001b[38;5;28;01mif\u001b[39;00m pre_dispatch \u001b[38;5;241m==\u001b[39m \u001b[38;5;124m\"\u001b[39m\u001b[38;5;124mall\u001b[39m\u001b[38;5;124m\"\u001b[39m \u001b[38;5;129;01mor\u001b[39;00m n_jobs \u001b[38;5;241m==\u001b[39m \u001b[38;5;241m1\u001b[39m:\n\u001b[0;32m   1092\u001b[0m     \u001b[38;5;66;03m# The iterable was consumed all at once by the above for loop.\u001b[39;00m\n\u001b[0;32m   1093\u001b[0m     \u001b[38;5;66;03m# No need to wait for async callbacks to trigger to\u001b[39;00m\n\u001b[0;32m   1094\u001b[0m     \u001b[38;5;66;03m# consumption.\u001b[39;00m\n",
      "File \u001b[1;32m~\\anaconda3\\Lib\\site-packages\\joblib\\parallel.py:901\u001b[0m, in \u001b[0;36mParallel.dispatch_one_batch\u001b[1;34m(self, iterator)\u001b[0m\n\u001b[0;32m    899\u001b[0m     \u001b[38;5;28;01mreturn\u001b[39;00m \u001b[38;5;28;01mFalse\u001b[39;00m\n\u001b[0;32m    900\u001b[0m \u001b[38;5;28;01melse\u001b[39;00m:\n\u001b[1;32m--> 901\u001b[0m     \u001b[38;5;28mself\u001b[39m\u001b[38;5;241m.\u001b[39m_dispatch(tasks)\n\u001b[0;32m    902\u001b[0m     \u001b[38;5;28;01mreturn\u001b[39;00m \u001b[38;5;28;01mTrue\u001b[39;00m\n",
      "File \u001b[1;32m~\\anaconda3\\Lib\\site-packages\\joblib\\parallel.py:819\u001b[0m, in \u001b[0;36mParallel._dispatch\u001b[1;34m(self, batch)\u001b[0m\n\u001b[0;32m    817\u001b[0m \u001b[38;5;28;01mwith\u001b[39;00m \u001b[38;5;28mself\u001b[39m\u001b[38;5;241m.\u001b[39m_lock:\n\u001b[0;32m    818\u001b[0m     job_idx \u001b[38;5;241m=\u001b[39m \u001b[38;5;28mlen\u001b[39m(\u001b[38;5;28mself\u001b[39m\u001b[38;5;241m.\u001b[39m_jobs)\n\u001b[1;32m--> 819\u001b[0m     job \u001b[38;5;241m=\u001b[39m \u001b[38;5;28mself\u001b[39m\u001b[38;5;241m.\u001b[39m_backend\u001b[38;5;241m.\u001b[39mapply_async(batch, callback\u001b[38;5;241m=\u001b[39mcb)\n\u001b[0;32m    820\u001b[0m     \u001b[38;5;66;03m# A job can complete so quickly than its callback is\u001b[39;00m\n\u001b[0;32m    821\u001b[0m     \u001b[38;5;66;03m# called before we get here, causing self._jobs to\u001b[39;00m\n\u001b[0;32m    822\u001b[0m     \u001b[38;5;66;03m# grow. To ensure correct results ordering, .insert is\u001b[39;00m\n\u001b[0;32m    823\u001b[0m     \u001b[38;5;66;03m# used (rather than .append) in the following line\u001b[39;00m\n\u001b[0;32m    824\u001b[0m     \u001b[38;5;28mself\u001b[39m\u001b[38;5;241m.\u001b[39m_jobs\u001b[38;5;241m.\u001b[39minsert(job_idx, job)\n",
      "File \u001b[1;32m~\\anaconda3\\Lib\\site-packages\\joblib\\_parallel_backends.py:208\u001b[0m, in \u001b[0;36mSequentialBackend.apply_async\u001b[1;34m(self, func, callback)\u001b[0m\n\u001b[0;32m    206\u001b[0m \u001b[38;5;28;01mdef\u001b[39;00m \u001b[38;5;21mapply_async\u001b[39m(\u001b[38;5;28mself\u001b[39m, func, callback\u001b[38;5;241m=\u001b[39m\u001b[38;5;28;01mNone\u001b[39;00m):\n\u001b[0;32m    207\u001b[0m \u001b[38;5;250m    \u001b[39m\u001b[38;5;124;03m\"\"\"Schedule a func to be run\"\"\"\u001b[39;00m\n\u001b[1;32m--> 208\u001b[0m     result \u001b[38;5;241m=\u001b[39m ImmediateResult(func)\n\u001b[0;32m    209\u001b[0m     \u001b[38;5;28;01mif\u001b[39;00m callback:\n\u001b[0;32m    210\u001b[0m         callback(result)\n",
      "File \u001b[1;32m~\\anaconda3\\Lib\\site-packages\\joblib\\_parallel_backends.py:597\u001b[0m, in \u001b[0;36mImmediateResult.__init__\u001b[1;34m(self, batch)\u001b[0m\n\u001b[0;32m    594\u001b[0m \u001b[38;5;28;01mdef\u001b[39;00m \u001b[38;5;21m__init__\u001b[39m(\u001b[38;5;28mself\u001b[39m, batch):\n\u001b[0;32m    595\u001b[0m     \u001b[38;5;66;03m# Don't delay the application, to avoid keeping the input\u001b[39;00m\n\u001b[0;32m    596\u001b[0m     \u001b[38;5;66;03m# arguments in memory\u001b[39;00m\n\u001b[1;32m--> 597\u001b[0m     \u001b[38;5;28mself\u001b[39m\u001b[38;5;241m.\u001b[39mresults \u001b[38;5;241m=\u001b[39m batch()\n",
      "File \u001b[1;32m~\\anaconda3\\Lib\\site-packages\\joblib\\parallel.py:288\u001b[0m, in \u001b[0;36mBatchedCalls.__call__\u001b[1;34m(self)\u001b[0m\n\u001b[0;32m    284\u001b[0m \u001b[38;5;28;01mdef\u001b[39;00m \u001b[38;5;21m__call__\u001b[39m(\u001b[38;5;28mself\u001b[39m):\n\u001b[0;32m    285\u001b[0m     \u001b[38;5;66;03m# Set the default nested backend to self._backend but do not set the\u001b[39;00m\n\u001b[0;32m    286\u001b[0m     \u001b[38;5;66;03m# change the default number of processes to -1\u001b[39;00m\n\u001b[0;32m    287\u001b[0m     \u001b[38;5;28;01mwith\u001b[39;00m parallel_backend(\u001b[38;5;28mself\u001b[39m\u001b[38;5;241m.\u001b[39m_backend, n_jobs\u001b[38;5;241m=\u001b[39m\u001b[38;5;28mself\u001b[39m\u001b[38;5;241m.\u001b[39m_n_jobs):\n\u001b[1;32m--> 288\u001b[0m         \u001b[38;5;28;01mreturn\u001b[39;00m [func(\u001b[38;5;241m*\u001b[39margs, \u001b[38;5;241m*\u001b[39m\u001b[38;5;241m*\u001b[39mkwargs)\n\u001b[0;32m    289\u001b[0m                 \u001b[38;5;28;01mfor\u001b[39;00m func, args, kwargs \u001b[38;5;129;01min\u001b[39;00m \u001b[38;5;28mself\u001b[39m\u001b[38;5;241m.\u001b[39mitems]\n",
      "File \u001b[1;32m~\\anaconda3\\Lib\\site-packages\\joblib\\parallel.py:288\u001b[0m, in \u001b[0;36m<listcomp>\u001b[1;34m(.0)\u001b[0m\n\u001b[0;32m    284\u001b[0m \u001b[38;5;28;01mdef\u001b[39;00m \u001b[38;5;21m__call__\u001b[39m(\u001b[38;5;28mself\u001b[39m):\n\u001b[0;32m    285\u001b[0m     \u001b[38;5;66;03m# Set the default nested backend to self._backend but do not set the\u001b[39;00m\n\u001b[0;32m    286\u001b[0m     \u001b[38;5;66;03m# change the default number of processes to -1\u001b[39;00m\n\u001b[0;32m    287\u001b[0m     \u001b[38;5;28;01mwith\u001b[39;00m parallel_backend(\u001b[38;5;28mself\u001b[39m\u001b[38;5;241m.\u001b[39m_backend, n_jobs\u001b[38;5;241m=\u001b[39m\u001b[38;5;28mself\u001b[39m\u001b[38;5;241m.\u001b[39m_n_jobs):\n\u001b[1;32m--> 288\u001b[0m         \u001b[38;5;28;01mreturn\u001b[39;00m [func(\u001b[38;5;241m*\u001b[39margs, \u001b[38;5;241m*\u001b[39m\u001b[38;5;241m*\u001b[39mkwargs)\n\u001b[0;32m    289\u001b[0m                 \u001b[38;5;28;01mfor\u001b[39;00m func, args, kwargs \u001b[38;5;129;01min\u001b[39;00m \u001b[38;5;28mself\u001b[39m\u001b[38;5;241m.\u001b[39mitems]\n",
      "File \u001b[1;32m~\\anaconda3\\Lib\\site-packages\\sklearn\\utils\\parallel.py:127\u001b[0m, in \u001b[0;36m_FuncWrapper.__call__\u001b[1;34m(self, *args, **kwargs)\u001b[0m\n\u001b[0;32m    125\u001b[0m     config \u001b[38;5;241m=\u001b[39m {}\n\u001b[0;32m    126\u001b[0m \u001b[38;5;28;01mwith\u001b[39;00m config_context(\u001b[38;5;241m*\u001b[39m\u001b[38;5;241m*\u001b[39mconfig):\n\u001b[1;32m--> 127\u001b[0m     \u001b[38;5;28;01mreturn\u001b[39;00m \u001b[38;5;28mself\u001b[39m\u001b[38;5;241m.\u001b[39mfunction(\u001b[38;5;241m*\u001b[39margs, \u001b[38;5;241m*\u001b[39m\u001b[38;5;241m*\u001b[39mkwargs)\n",
      "File \u001b[1;32m~\\anaconda3\\Lib\\site-packages\\sklearn\\ensemble\\_forest.py:188\u001b[0m, in \u001b[0;36m_parallel_build_trees\u001b[1;34m(tree, bootstrap, X, y, sample_weight, tree_idx, n_trees, verbose, class_weight, n_samples_bootstrap)\u001b[0m\n\u001b[0;32m    185\u001b[0m     \u001b[38;5;28;01melif\u001b[39;00m class_weight \u001b[38;5;241m==\u001b[39m \u001b[38;5;124m\"\u001b[39m\u001b[38;5;124mbalanced_subsample\u001b[39m\u001b[38;5;124m\"\u001b[39m:\n\u001b[0;32m    186\u001b[0m         curr_sample_weight \u001b[38;5;241m*\u001b[39m\u001b[38;5;241m=\u001b[39m compute_sample_weight(\u001b[38;5;124m\"\u001b[39m\u001b[38;5;124mbalanced\u001b[39m\u001b[38;5;124m\"\u001b[39m, y, indices\u001b[38;5;241m=\u001b[39mindices)\n\u001b[1;32m--> 188\u001b[0m     tree\u001b[38;5;241m.\u001b[39mfit(X, y, sample_weight\u001b[38;5;241m=\u001b[39mcurr_sample_weight, check_input\u001b[38;5;241m=\u001b[39m\u001b[38;5;28;01mFalse\u001b[39;00m)\n\u001b[0;32m    189\u001b[0m \u001b[38;5;28;01melse\u001b[39;00m:\n\u001b[0;32m    190\u001b[0m     tree\u001b[38;5;241m.\u001b[39mfit(X, y, sample_weight\u001b[38;5;241m=\u001b[39msample_weight, check_input\u001b[38;5;241m=\u001b[39m\u001b[38;5;28;01mFalse\u001b[39;00m)\n",
      "File \u001b[1;32m~\\anaconda3\\Lib\\site-packages\\sklearn\\base.py:1151\u001b[0m, in \u001b[0;36m_fit_context.<locals>.decorator.<locals>.wrapper\u001b[1;34m(estimator, *args, **kwargs)\u001b[0m\n\u001b[0;32m   1144\u001b[0m     estimator\u001b[38;5;241m.\u001b[39m_validate_params()\n\u001b[0;32m   1146\u001b[0m \u001b[38;5;28;01mwith\u001b[39;00m config_context(\n\u001b[0;32m   1147\u001b[0m     skip_parameter_validation\u001b[38;5;241m=\u001b[39m(\n\u001b[0;32m   1148\u001b[0m         prefer_skip_nested_validation \u001b[38;5;129;01mor\u001b[39;00m global_skip_validation\n\u001b[0;32m   1149\u001b[0m     )\n\u001b[0;32m   1150\u001b[0m ):\n\u001b[1;32m-> 1151\u001b[0m     \u001b[38;5;28;01mreturn\u001b[39;00m fit_method(estimator, \u001b[38;5;241m*\u001b[39margs, \u001b[38;5;241m*\u001b[39m\u001b[38;5;241m*\u001b[39mkwargs)\n",
      "File \u001b[1;32m~\\anaconda3\\Lib\\site-packages\\sklearn\\tree\\_classes.py:959\u001b[0m, in \u001b[0;36mDecisionTreeClassifier.fit\u001b[1;34m(self, X, y, sample_weight, check_input)\u001b[0m\n\u001b[0;32m    928\u001b[0m \u001b[38;5;129m@_fit_context\u001b[39m(prefer_skip_nested_validation\u001b[38;5;241m=\u001b[39m\u001b[38;5;28;01mTrue\u001b[39;00m)\n\u001b[0;32m    929\u001b[0m \u001b[38;5;28;01mdef\u001b[39;00m \u001b[38;5;21mfit\u001b[39m(\u001b[38;5;28mself\u001b[39m, X, y, sample_weight\u001b[38;5;241m=\u001b[39m\u001b[38;5;28;01mNone\u001b[39;00m, check_input\u001b[38;5;241m=\u001b[39m\u001b[38;5;28;01mTrue\u001b[39;00m):\n\u001b[0;32m    930\u001b[0m \u001b[38;5;250m    \u001b[39m\u001b[38;5;124;03m\"\"\"Build a decision tree classifier from the training set (X, y).\u001b[39;00m\n\u001b[0;32m    931\u001b[0m \n\u001b[0;32m    932\u001b[0m \u001b[38;5;124;03m    Parameters\u001b[39;00m\n\u001b[1;32m   (...)\u001b[0m\n\u001b[0;32m    956\u001b[0m \u001b[38;5;124;03m        Fitted estimator.\u001b[39;00m\n\u001b[0;32m    957\u001b[0m \u001b[38;5;124;03m    \"\"\"\u001b[39;00m\n\u001b[1;32m--> 959\u001b[0m     \u001b[38;5;28msuper\u001b[39m()\u001b[38;5;241m.\u001b[39m_fit(\n\u001b[0;32m    960\u001b[0m         X,\n\u001b[0;32m    961\u001b[0m         y,\n\u001b[0;32m    962\u001b[0m         sample_weight\u001b[38;5;241m=\u001b[39msample_weight,\n\u001b[0;32m    963\u001b[0m         check_input\u001b[38;5;241m=\u001b[39mcheck_input,\n\u001b[0;32m    964\u001b[0m     )\n\u001b[0;32m    965\u001b[0m     \u001b[38;5;28;01mreturn\u001b[39;00m \u001b[38;5;28mself\u001b[39m\n",
      "File \u001b[1;32m~\\anaconda3\\Lib\\site-packages\\sklearn\\tree\\_classes.py:443\u001b[0m, in \u001b[0;36mBaseDecisionTree._fit\u001b[1;34m(self, X, y, sample_weight, check_input, missing_values_in_feature_mask)\u001b[0m\n\u001b[0;32m    432\u001b[0m \u001b[38;5;28;01melse\u001b[39;00m:\n\u001b[0;32m    433\u001b[0m     builder \u001b[38;5;241m=\u001b[39m BestFirstTreeBuilder(\n\u001b[0;32m    434\u001b[0m         splitter,\n\u001b[0;32m    435\u001b[0m         min_samples_split,\n\u001b[1;32m   (...)\u001b[0m\n\u001b[0;32m    440\u001b[0m         \u001b[38;5;28mself\u001b[39m\u001b[38;5;241m.\u001b[39mmin_impurity_decrease,\n\u001b[0;32m    441\u001b[0m     )\n\u001b[1;32m--> 443\u001b[0m builder\u001b[38;5;241m.\u001b[39mbuild(\u001b[38;5;28mself\u001b[39m\u001b[38;5;241m.\u001b[39mtree_, X, y, sample_weight, missing_values_in_feature_mask)\n\u001b[0;32m    445\u001b[0m \u001b[38;5;28;01mif\u001b[39;00m \u001b[38;5;28mself\u001b[39m\u001b[38;5;241m.\u001b[39mn_outputs_ \u001b[38;5;241m==\u001b[39m \u001b[38;5;241m1\u001b[39m \u001b[38;5;129;01mand\u001b[39;00m is_classifier(\u001b[38;5;28mself\u001b[39m):\n\u001b[0;32m    446\u001b[0m     \u001b[38;5;28mself\u001b[39m\u001b[38;5;241m.\u001b[39mn_classes_ \u001b[38;5;241m=\u001b[39m \u001b[38;5;28mself\u001b[39m\u001b[38;5;241m.\u001b[39mn_classes_[\u001b[38;5;241m0\u001b[39m]\n",
      "\u001b[1;31mKeyboardInterrupt\u001b[0m: "
     ]
    }
   ],
   "source": [
    "from sklearn.ensemble import RandomForestClassifier\n",
    "import os \n",
    "from pathlib import Path\n",
    "\n",
    "\n",
    "file_names = []\n",
    "for k, data in datasets.items():\n",
    "    for  n_estimators in [5, 20, 40, 70, 100] :\n",
    "        clf = RandomForestClassifier(random_state=0, n_estimators = n_estimators)\n",
    "        clf.fit(data,y_b)\n",
    "        contenent = port(clf)\n",
    "        k = k.replace(\"X_\", \"\")\n",
    "        file_name= k + \"_RF\"+\"_\"+str(n_estimators)\n",
    "        file_names.append(file_name)\n",
    "        if not os.path.exists('tinyml_result_ton/RF/'+file_name):\n",
    "            create_folder('tinyml_result_ton/RF/'+file_name)\n",
    "        save_my_model(\"tinyml_result_ton/RF/\"+file_name,file_name,'h',contenent)\n",
    "        "
   ]
  },
  {
   "cell_type": "code",
   "execution_count": null,
   "metadata": {},
   "outputs": [],
   "source": [
    "from sklearn.ensemble import RandomForestClassifier\n",
    "from xgboost import  XGBClassifier\n",
    "\n",
    "import os \n",
    "from pathlib import Path\n",
    "\n",
    "y = y_b.copy()\n",
    "y = y.to_numpy()\n",
    "y[-1] = y.max() + 1\n",
    "\n",
    "file_names = []\n",
    "for k, data in datasets.items():\n",
    "    for  n_estimators in [5, 20, 40, 70, 100] :\n",
    "        clf = XGBClassifier(random_state=0, n_estimators = n_estimators)\n",
    "        clf.fit(data,y)\n",
    "        contenent = port(clf, tmp_file='./model.json')\n",
    "        k = k.replace(\"X_\", \"\")\n",
    "        file_name= k + \"_XGB\"+\"_\"+str(n_estimators)\n",
    "        file_names.append(file_name)\n",
    "        if not os.path.exists('tinyml_result_ton/XGB/'+file_name):\n",
    "            create_folder('tinyml_result_ton/XGB/'+file_name)\n",
    "        save_my_model(\"tinyml_result_ton/XGB/\"+file_name,file_name,'h',contenent)\n"
   ]
  },
  {
   "cell_type": "code",
   "execution_count": 138,
   "metadata": {},
   "outputs": [],
   "source": [
    "from sklearn.ensemble import RandomForestClassifier\n",
    "from xgboost import  XGBClassifier\n",
    "from sklearn import tree \n",
    "\n",
    "\n",
    "import os \n",
    "from pathlib import Path\n",
    "\n",
    "file_names = []\n",
    "for k, data in datasets.items():\n",
    "        clf = tree.DecisionTreeClassifier(ccp_alpha=0.01)\n",
    "        clf.fit(data,y_b)\n",
    "        contenent = port(clf)\n",
    "        k = k.replace(\"X_\", \"\")\n",
    "        file_name= k + \"_DT\"\n",
    "        file_names.append(file_name)\n",
    "        if not os.path.exists('tinyml_result_ton/DT_with_ccp/'+file_name):\n",
    "            create_folder('tinyml_result_ton/DT_with_ccp/'+file_name)\n",
    "        save_my_model(\"tinyml_result_ton/DT_with_ccp/\"+file_name,file_name,'h',contenent)"
   ]
  },
  {
   "cell_type": "markdown",
   "metadata": {},
   "source": [
    "### Pruning using of the impurty of Descision Tree"
   ]
  },
  {
   "cell_type": "markdown",
   "metadata": {},
   "source": [
    "#### X_A_chi2_20"
   ]
  },
  {
   "cell_type": "code",
   "execution_count": 127,
   "metadata": {},
   "outputs": [],
   "source": [
    "X_train, X_test, y_train, y_test = train_test_split(datasets['X_A_chi2_20'], y_b,test_size=0.2,  random_state=0)\n",
    "\n",
    "clf = tree.DecisionTreeClassifier(random_state=0)\n",
    "path = clf.cost_complexity_pruning_path(X_train, y_train)\n",
    "ccp_alphas, impurities = path.ccp_alphas, path.impurities"
   ]
  },
  {
   "cell_type": "code",
   "execution_count": 128,
   "metadata": {},
   "outputs": [
    {
     "data": {
      "text/plain": [
       "Text(0.5, 1.0, 'Total Impurity vs effective alpha for training set')"
      ]
     },
     "execution_count": 128,
     "metadata": {},
     "output_type": "execute_result"
    },
    {
     "data": {
      "image/png": "[encoded data removed]",
      "text/plain": [
       "<Figure size 640x480 with 1 Axes>"
      ]
     },
     "metadata": {},
     "output_type": "display_data"
    }
   ],
   "source": [
    "import matplotlib.pyplot as plt\n",
    "\n",
    "fig, ax = plt.subplots()\n",
    "ax.plot(ccp_alphas[:-1], impurities[:-1], marker=\"o\", drawstyle=\"steps-post\")\n",
    "ax.set_xlabel(\"effective alpha\")\n",
    "ax.set_ylabel(\"total impurity of leaves\")\n",
    "ax.set_title(\"Total Impurity vs effective alpha for training set\")"
   ]
  },
  {
   "cell_type": "code",
   "execution_count": 130,
   "metadata": {},
   "outputs": [
    {
     "name": "stdout",
     "output_type": "stream",
     "text": [
      "[0.0010618663916845718, 0.0011327969902744884, 0.0012027144924619234, 0.0013817931387553554, 0.0017265895971851444, 0.0017840205617367286, 0.0018824232673147912, 0.002045323139489065, 0.00216476617121641, 0.004144318535765088, 0.004714801699214897, 0.00516160037434267, 0.005163943470951445, 0.011883252448083869, 0.014463785239770217, 0.01483104681808739, 0.02040856154149242, 0.054972351364731206, 0.20280392360890692]\n"
     ]
    }
   ],
   "source": [
    "filtered_ccp_alphas = [value for value in ccp_alphas if value > 0.001]\n",
    "\n",
    "print(filtered_ccp_alphas)"
   ]
  },
  {
   "cell_type": "code",
   "execution_count": null,
   "metadata": {},
   "outputs": [],
   "source": []
  },
  {
   "cell_type": "code",
   "execution_count": 131,
   "metadata": {},
   "outputs": [
    {
     "name": "stdout",
     "output_type": "stream",
     "text": [
      "Number of nodes in the last tree is: 1 with ccp_alpha: 0.20280392360890692\n"
     ]
    }
   ],
   "source": [
    "clfs = []\n",
    "for ccp_alpha in filtered_ccp_alphas:\n",
    "    clf = tree.DecisionTreeClassifier(random_state=0, ccp_alpha=abs(ccp_alpha))\n",
    "    clf.fit(X_train, y_train)\n",
    "    clfs.append(clf)\n",
    "print(\n",
    "    \"Number of nodes in the last tree is: {} with ccp_alpha: {}\".format(\n",
    "        clfs[-1].tree_.node_count, filtered_ccp_alphas[-1]\n",
    "    )\n",
    ")"
   ]
  },
  {
   "cell_type": "code",
   "execution_count": 132,
   "metadata": {},
   "outputs": [
    {
     "data": {
      "image/png": "[encoded data removed]",
      "text/plain": [
       "<Figure size 640x480 with 2 Axes>"
      ]
     },
     "metadata": {},
     "output_type": "display_data"
    }
   ],
   "source": [
    "clfs = clfs[:-1]\n",
    "ccp_alphas = filtered_ccp_alphas[:-1]\n",
    "\n",
    "node_counts = [clf.tree_.node_count for clf in clfs]\n",
    "depth = [clf.tree_.max_depth for clf in clfs]\n",
    "fig, ax = plt.subplots(2, 1)\n",
    "ax[0].plot(ccp_alphas, node_counts, marker=\"o\", drawstyle=\"steps-post\")\n",
    "ax[0].set_xlabel(\"alpha\")\n",
    "ax[0].set_ylabel(\"number of nodes\")\n",
    "ax[0].set_title(\"Number of nodes vs alpha\")\n",
    "ax[1].plot(ccp_alphas, depth, marker=\"o\", drawstyle=\"steps-post\")\n",
    "ax[1].set_xlabel(\"alpha\")\n",
    "ax[1].set_ylabel(\"depth of tree\")\n",
    "ax[1].set_title(\"Depth vs alpha\")\n",
    "fig.tight_layout()"
   ]
  },
  {
   "cell_type": "code",
   "execution_count": 133,
   "metadata": {},
   "outputs": [],
   "source": [
    "y_test_preds = [clf.predict(X_test) for clf in clfs]\n"
   ]
  },
  {
   "cell_type": "code",
   "execution_count": 134,
   "metadata": {},
   "outputs": [
    {
     "data": {
      "text/plain": [
       "array([1, 0, 0, ..., 0, 1, 0], dtype=int64)"
      ]
     },
     "execution_count": 134,
     "metadata": {},
     "output_type": "execute_result"
    }
   ],
   "source": [
    "y_train['Label'].values"
   ]
  },
  {
   "cell_type": "code",
   "execution_count": null,
   "metadata": {},
   "outputs": [],
   "source": []
  },
  {
   "cell_type": "code",
   "execution_count": 135,
   "metadata": {},
   "outputs": [
    {
     "data": {
      "image/png": "[encoded data removed]",
      "text/plain": [
       "<Figure size 640x480 with 1 Axes>"
      ]
     },
     "metadata": {},
     "output_type": "display_data"
    }
   ],
   "source": [
    "y_train_preds = [clf.predict(X_train) for clf in clfs]\n",
    "y_test_preds = [clf.predict(X_test) for clf in clfs]\n",
    "\n",
    "# Calculate MCC for each classifier on the training data\n",
    "train_scores = [matthews_corrcoef(y_train['Label'].values, y_train_pred) for y_train_pred in  y_train_preds]\n",
    "test_scores = [matthews_corrcoef(y_test['Label'].values, y_test_pred) for y_test_pred in  y_test_preds]\n",
    "\n",
    "fig, ax = plt.subplots()\n",
    "ax.set_xlabel(\"alpha\")\n",
    "ax.set_ylabel(\"MCC\")\n",
    "ax.set_title(\"MCC vs alpha for training and testing sets\")\n",
    "ax.plot(ccp_alphas, train_scores, marker=\"o\", label=\"train\", drawstyle=\"steps-post\")\n",
    "ax.plot(ccp_alphas, test_scores, marker=\"o\", label=\"test\", drawstyle=\"steps-post\")\n",
    "ax.legend()\n",
    "plt.show()"
   ]
  },
  {
   "cell_type": "code",
   "execution_count": null,
   "metadata": {},
   "outputs": [],
   "source": []
  },
  {
   "cell_type": "markdown",
   "metadata": {},
   "source": [
    "### X_A_chi2_40"
   ]
  },
  {
   "cell_type": "code",
   "execution_count": 96,
   "metadata": {},
   "outputs": [],
   "source": [
    "X_train, X_test, y_train, y_test = train_test_split(datasets['X_A_chi2_40'], y_b,test_size=0.2,  random_state=0)\n",
    "\n",
    "clf = tree.DecisionTreeClassifier(random_state=0)\n",
    "path = clf.cost_complexity_pruning_path(X_train, y_train)\n",
    "ccp_alphas, impurities = path.ccp_alphas, path.impurities"
   ]
  },
  {
   "cell_type": "code",
   "execution_count": 98,
   "metadata": {},
   "outputs": [
    {
     "data": {
      "text/plain": [
       "Text(0.5, 1.0, 'Total Impurity vs effective alpha for training set')"
      ]
     },
     "execution_count": 98,
     "metadata": {},
     "output_type": "execute_result"
    },
    {
     "data": {
      "image/png": "[encoded data removed]",
      "text/plain": [
       "<Figure size 640x480 with 1 Axes>"
      ]
     },
     "metadata": {},
     "output_type": "display_data"
    }
   ],
   "source": [
    "import matplotlib.pyplot as plt\n",
    "\n",
    "fig, ax = plt.subplots()\n",
    "ax.plot(ccp_alphas[:-1], impurities[:-1], marker=\"o\", drawstyle=\"steps-post\")\n",
    "ax.set_xlabel(\"effective alpha\")\n",
    "ax.set_ylabel(\"total impurity of leaves\")\n",
    "ax.set_title(\"Total Impurity vs effective alpha for training set\")"
   ]
  },
  {
   "cell_type": "code",
   "execution_count": 99,
   "metadata": {},
   "outputs": [
    {
     "name": "stdout",
     "output_type": "stream",
     "text": [
      "[0.013103071906996402, 0.020408561541492405, 0.020753199359133973, 0.05497235136473119, 0.2028039236089071]\n"
     ]
    }
   ],
   "source": [
    "filtered_ccp_alphas = [value for value in ccp_alphas if value > 0.01]\n",
    "\n",
    "print(filtered_ccp_alphas)"
   ]
  },
  {
   "cell_type": "code",
   "execution_count": null,
   "metadata": {},
   "outputs": [],
   "source": []
  },
  {
   "cell_type": "code",
   "execution_count": 104,
   "metadata": {},
   "outputs": [
    {
     "name": "stdout",
     "output_type": "stream",
     "text": [
      "Number of nodes in the last tree is: 1 with ccp_alpha: 0.2028039236089071\n"
     ]
    }
   ],
   "source": [
    "clfs = []\n",
    "for ccp_alpha in filtered_ccp_alphas:\n",
    "    clf = tree.DecisionTreeClassifier(random_state=0, ccp_alpha=abs(ccp_alpha))\n",
    "    clf.fit(X_train, y_train)\n",
    "    clfs.append(clf)\n",
    "print(\n",
    "    \"Number of nodes in the last tree is: {} with ccp_alpha: {}\".format(\n",
    "        clfs[-1].tree_.node_count, filtered_ccp_alphas[-1]\n",
    "    )\n",
    ")"
   ]
  },
  {
   "cell_type": "code",
   "execution_count": 102,
   "metadata": {},
   "outputs": [
    {
     "ename": "ValueError",
     "evalue": "x and y must have same first dimension, but have shapes (4,) and (3,)",
     "output_type": "error",
     "traceback": [
      "\u001b[1;31m---------------------------------------------------------------------------\u001b[0m",
      "\u001b[1;31mValueError\u001b[0m                                Traceback (most recent call last)",
      "Cell \u001b[1;32mIn[102], line 7\u001b[0m\n\u001b[0;32m      5\u001b[0m depth \u001b[38;5;241m=\u001b[39m [clf\u001b[38;5;241m.\u001b[39mtree_\u001b[38;5;241m.\u001b[39mmax_depth \u001b[38;5;28;01mfor\u001b[39;00m clf \u001b[38;5;129;01min\u001b[39;00m clfs]\n\u001b[0;32m      6\u001b[0m fig, ax \u001b[38;5;241m=\u001b[39m plt\u001b[38;5;241m.\u001b[39msubplots(\u001b[38;5;241m2\u001b[39m, \u001b[38;5;241m1\u001b[39m)\n\u001b[1;32m----> 7\u001b[0m ax[\u001b[38;5;241m0\u001b[39m]\u001b[38;5;241m.\u001b[39mplot(ccp_alphas, node_counts, marker\u001b[38;5;241m=\u001b[39m\u001b[38;5;124m\"\u001b[39m\u001b[38;5;124mo\u001b[39m\u001b[38;5;124m\"\u001b[39m, drawstyle\u001b[38;5;241m=\u001b[39m\u001b[38;5;124m\"\u001b[39m\u001b[38;5;124msteps-post\u001b[39m\u001b[38;5;124m\"\u001b[39m)\n\u001b[0;32m      8\u001b[0m ax[\u001b[38;5;241m0\u001b[39m]\u001b[38;5;241m.\u001b[39mset_xlabel(\u001b[38;5;124m\"\u001b[39m\u001b[38;5;124malpha\u001b[39m\u001b[38;5;124m\"\u001b[39m)\n\u001b[0;32m      9\u001b[0m ax[\u001b[38;5;241m0\u001b[39m]\u001b[38;5;241m.\u001b[39mset_ylabel(\u001b[38;5;124m\"\u001b[39m\u001b[38;5;124mnumber of nodes\u001b[39m\u001b[38;5;124m\"\u001b[39m)\n",
      "File \u001b[1;32m~\\anaconda3\\Lib\\site-packages\\matplotlib\\axes\\_axes.py:1688\u001b[0m, in \u001b[0;36mAxes.plot\u001b[1;34m(self, scalex, scaley, data, *args, **kwargs)\u001b[0m\n\u001b[0;32m   1445\u001b[0m \u001b[38;5;250m\u001b[39m\u001b[38;5;124;03m\"\"\"\u001b[39;00m\n\u001b[0;32m   1446\u001b[0m \u001b[38;5;124;03mPlot y versus x as lines and/or markers.\u001b[39;00m\n\u001b[0;32m   1447\u001b[0m \n\u001b[1;32m   (...)\u001b[0m\n\u001b[0;32m   1685\u001b[0m \u001b[38;5;124;03m(``'green'``) or hex strings (``'#008000'``).\u001b[39;00m\n\u001b[0;32m   1686\u001b[0m \u001b[38;5;124;03m\"\"\"\u001b[39;00m\n\u001b[0;32m   1687\u001b[0m kwargs \u001b[38;5;241m=\u001b[39m cbook\u001b[38;5;241m.\u001b[39mnormalize_kwargs(kwargs, mlines\u001b[38;5;241m.\u001b[39mLine2D)\n\u001b[1;32m-> 1688\u001b[0m lines \u001b[38;5;241m=\u001b[39m [\u001b[38;5;241m*\u001b[39m\u001b[38;5;28mself\u001b[39m\u001b[38;5;241m.\u001b[39m_get_lines(\u001b[38;5;241m*\u001b[39margs, data\u001b[38;5;241m=\u001b[39mdata, \u001b[38;5;241m*\u001b[39m\u001b[38;5;241m*\u001b[39mkwargs)]\n\u001b[0;32m   1689\u001b[0m \u001b[38;5;28;01mfor\u001b[39;00m line \u001b[38;5;129;01min\u001b[39;00m lines:\n\u001b[0;32m   1690\u001b[0m     \u001b[38;5;28mself\u001b[39m\u001b[38;5;241m.\u001b[39madd_line(line)\n",
      "File \u001b[1;32m~\\anaconda3\\Lib\\site-packages\\matplotlib\\axes\\_base.py:311\u001b[0m, in \u001b[0;36m_process_plot_var_args.__call__\u001b[1;34m(self, data, *args, **kwargs)\u001b[0m\n\u001b[0;32m    309\u001b[0m     this \u001b[38;5;241m+\u001b[39m\u001b[38;5;241m=\u001b[39m args[\u001b[38;5;241m0\u001b[39m],\n\u001b[0;32m    310\u001b[0m     args \u001b[38;5;241m=\u001b[39m args[\u001b[38;5;241m1\u001b[39m:]\n\u001b[1;32m--> 311\u001b[0m \u001b[38;5;28;01myield from\u001b[39;00m \u001b[38;5;28mself\u001b[39m\u001b[38;5;241m.\u001b[39m_plot_args(\n\u001b[0;32m    312\u001b[0m     this, kwargs, ambiguous_fmt_datakey\u001b[38;5;241m=\u001b[39mambiguous_fmt_datakey)\n",
      "File \u001b[1;32m~\\anaconda3\\Lib\\site-packages\\matplotlib\\axes\\_base.py:504\u001b[0m, in \u001b[0;36m_process_plot_var_args._plot_args\u001b[1;34m(self, tup, kwargs, return_kwargs, ambiguous_fmt_datakey)\u001b[0m\n\u001b[0;32m    501\u001b[0m     \u001b[38;5;28mself\u001b[39m\u001b[38;5;241m.\u001b[39maxes\u001b[38;5;241m.\u001b[39myaxis\u001b[38;5;241m.\u001b[39mupdate_units(y)\n\u001b[0;32m    503\u001b[0m \u001b[38;5;28;01mif\u001b[39;00m x\u001b[38;5;241m.\u001b[39mshape[\u001b[38;5;241m0\u001b[39m] \u001b[38;5;241m!=\u001b[39m y\u001b[38;5;241m.\u001b[39mshape[\u001b[38;5;241m0\u001b[39m]:\n\u001b[1;32m--> 504\u001b[0m     \u001b[38;5;28;01mraise\u001b[39;00m \u001b[38;5;167;01mValueError\u001b[39;00m(\u001b[38;5;124mf\u001b[39m\u001b[38;5;124m\"\u001b[39m\u001b[38;5;124mx and y must have same first dimension, but \u001b[39m\u001b[38;5;124m\"\u001b[39m\n\u001b[0;32m    505\u001b[0m                      \u001b[38;5;124mf\u001b[39m\u001b[38;5;124m\"\u001b[39m\u001b[38;5;124mhave shapes \u001b[39m\u001b[38;5;132;01m{\u001b[39;00mx\u001b[38;5;241m.\u001b[39mshape\u001b[38;5;132;01m}\u001b[39;00m\u001b[38;5;124m and \u001b[39m\u001b[38;5;132;01m{\u001b[39;00my\u001b[38;5;241m.\u001b[39mshape\u001b[38;5;132;01m}\u001b[39;00m\u001b[38;5;124m\"\u001b[39m)\n\u001b[0;32m    506\u001b[0m \u001b[38;5;28;01mif\u001b[39;00m x\u001b[38;5;241m.\u001b[39mndim \u001b[38;5;241m>\u001b[39m \u001b[38;5;241m2\u001b[39m \u001b[38;5;129;01mor\u001b[39;00m y\u001b[38;5;241m.\u001b[39mndim \u001b[38;5;241m>\u001b[39m \u001b[38;5;241m2\u001b[39m:\n\u001b[0;32m    507\u001b[0m     \u001b[38;5;28;01mraise\u001b[39;00m \u001b[38;5;167;01mValueError\u001b[39;00m(\u001b[38;5;124mf\u001b[39m\u001b[38;5;124m\"\u001b[39m\u001b[38;5;124mx and y can be no greater than 2D, but have \u001b[39m\u001b[38;5;124m\"\u001b[39m\n\u001b[0;32m    508\u001b[0m                      \u001b[38;5;124mf\u001b[39m\u001b[38;5;124m\"\u001b[39m\u001b[38;5;124mshapes \u001b[39m\u001b[38;5;132;01m{\u001b[39;00mx\u001b[38;5;241m.\u001b[39mshape\u001b[38;5;132;01m}\u001b[39;00m\u001b[38;5;124m and \u001b[39m\u001b[38;5;132;01m{\u001b[39;00my\u001b[38;5;241m.\u001b[39mshape\u001b[38;5;132;01m}\u001b[39;00m\u001b[38;5;124m\"\u001b[39m)\n",
      "\u001b[1;31mValueError\u001b[0m: x and y must have same first dimension, but have shapes (4,) and (3,)"
     ]
    },
    {
     "data": {
      "image/png": "[encoded data removed]",
      "text/plain": [
       "<Figure size 640x480 with 2 Axes>"
      ]
     },
     "metadata": {},
     "output_type": "display_data"
    }
   ],
   "source": [
    "clfs = clfs[:-1]\n",
    "ccp_alphas = filtered_ccp_alphas[:-1]\n",
    "\n",
    "node_counts = [clf.tree_.node_count for clf in clfs]\n",
    "depth = [clf.tree_.max_depth for clf in clfs]\n",
    "fig, ax = plt.subplots(2, 1)\n",
    "ax[0].plot(ccp_alphas, node_counts, marker=\"o\", drawstyle=\"steps-post\")\n",
    "ax[0].set_xlabel(\"alpha\")\n",
    "ax[0].set_ylabel(\"number of nodes\")\n",
    "ax[0].set_title(\"Number of nodes vs alpha\")\n",
    "ax[1].plot(ccp_alphas, depth, marker=\"o\", drawstyle=\"steps-post\")\n",
    "ax[1].set_xlabel(\"alpha\")\n",
    "ax[1].set_ylabel(\"depth of tree\")\n",
    "ax[1].set_title(\"Depth vs alpha\")\n",
    "fig.tight_layout()"
   ]
  },
  {
   "cell_type": "code",
   "execution_count": 103,
   "metadata": {},
   "outputs": [
    {
     "ename": "ValueError",
     "evalue": "x and y must have same first dimension, but have shapes (4,) and (3,)",
     "output_type": "error",
     "traceback": [
      "\u001b[1;31m---------------------------------------------------------------------------\u001b[0m",
      "\u001b[1;31mValueError\u001b[0m                                Traceback (most recent call last)",
      "Cell \u001b[1;32mIn[103], line 8\u001b[0m\n\u001b[0;32m      6\u001b[0m ax\u001b[38;5;241m.\u001b[39mset_ylabel(\u001b[38;5;124m\"\u001b[39m\u001b[38;5;124maccuracy\u001b[39m\u001b[38;5;124m\"\u001b[39m)\n\u001b[0;32m      7\u001b[0m ax\u001b[38;5;241m.\u001b[39mset_title(\u001b[38;5;124m\"\u001b[39m\u001b[38;5;124mAccuracy vs alpha for training and testing sets\u001b[39m\u001b[38;5;124m\"\u001b[39m)\n\u001b[1;32m----> 8\u001b[0m ax\u001b[38;5;241m.\u001b[39mplot(ccp_alphas, train_scores, marker\u001b[38;5;241m=\u001b[39m\u001b[38;5;124m\"\u001b[39m\u001b[38;5;124mo\u001b[39m\u001b[38;5;124m\"\u001b[39m, label\u001b[38;5;241m=\u001b[39m\u001b[38;5;124m\"\u001b[39m\u001b[38;5;124mtrain\u001b[39m\u001b[38;5;124m\"\u001b[39m, drawstyle\u001b[38;5;241m=\u001b[39m\u001b[38;5;124m\"\u001b[39m\u001b[38;5;124msteps-post\u001b[39m\u001b[38;5;124m\"\u001b[39m)\n\u001b[0;32m      9\u001b[0m ax\u001b[38;5;241m.\u001b[39mplot(ccp_alphas, test_scores, marker\u001b[38;5;241m=\u001b[39m\u001b[38;5;124m\"\u001b[39m\u001b[38;5;124mo\u001b[39m\u001b[38;5;124m\"\u001b[39m, label\u001b[38;5;241m=\u001b[39m\u001b[38;5;124m\"\u001b[39m\u001b[38;5;124mtest\u001b[39m\u001b[38;5;124m\"\u001b[39m, drawstyle\u001b[38;5;241m=\u001b[39m\u001b[38;5;124m\"\u001b[39m\u001b[38;5;124msteps-post\u001b[39m\u001b[38;5;124m\"\u001b[39m)\n\u001b[0;32m     10\u001b[0m ax\u001b[38;5;241m.\u001b[39mlegend()\n",
      "File \u001b[1;32m~\\anaconda3\\Lib\\site-packages\\matplotlib\\axes\\_axes.py:1688\u001b[0m, in \u001b[0;36mAxes.plot\u001b[1;34m(self, scalex, scaley, data, *args, **kwargs)\u001b[0m\n\u001b[0;32m   1445\u001b[0m \u001b[38;5;250m\u001b[39m\u001b[38;5;124;03m\"\"\"\u001b[39;00m\n\u001b[0;32m   1446\u001b[0m \u001b[38;5;124;03mPlot y versus x as lines and/or markers.\u001b[39;00m\n\u001b[0;32m   1447\u001b[0m \n\u001b[1;32m   (...)\u001b[0m\n\u001b[0;32m   1685\u001b[0m \u001b[38;5;124;03m(``'green'``) or hex strings (``'#008000'``).\u001b[39;00m\n\u001b[0;32m   1686\u001b[0m \u001b[38;5;124;03m\"\"\"\u001b[39;00m\n\u001b[0;32m   1687\u001b[0m kwargs \u001b[38;5;241m=\u001b[39m cbook\u001b[38;5;241m.\u001b[39mnormalize_kwargs(kwargs, mlines\u001b[38;5;241m.\u001b[39mLine2D)\n\u001b[1;32m-> 1688\u001b[0m lines \u001b[38;5;241m=\u001b[39m [\u001b[38;5;241m*\u001b[39m\u001b[38;5;28mself\u001b[39m\u001b[38;5;241m.\u001b[39m_get_lines(\u001b[38;5;241m*\u001b[39margs, data\u001b[38;5;241m=\u001b[39mdata, \u001b[38;5;241m*\u001b[39m\u001b[38;5;241m*\u001b[39mkwargs)]\n\u001b[0;32m   1689\u001b[0m \u001b[38;5;28;01mfor\u001b[39;00m line \u001b[38;5;129;01min\u001b[39;00m lines:\n\u001b[0;32m   1690\u001b[0m     \u001b[38;5;28mself\u001b[39m\u001b[38;5;241m.\u001b[39madd_line(line)\n",
      "File \u001b[1;32m~\\anaconda3\\Lib\\site-packages\\matplotlib\\axes\\_base.py:311\u001b[0m, in \u001b[0;36m_process_plot_var_args.__call__\u001b[1;34m(self, data, *args, **kwargs)\u001b[0m\n\u001b[0;32m    309\u001b[0m     this \u001b[38;5;241m+\u001b[39m\u001b[38;5;241m=\u001b[39m args[\u001b[38;5;241m0\u001b[39m],\n\u001b[0;32m    310\u001b[0m     args \u001b[38;5;241m=\u001b[39m args[\u001b[38;5;241m1\u001b[39m:]\n\u001b[1;32m--> 311\u001b[0m \u001b[38;5;28;01myield from\u001b[39;00m \u001b[38;5;28mself\u001b[39m\u001b[38;5;241m.\u001b[39m_plot_args(\n\u001b[0;32m    312\u001b[0m     this, kwargs, ambiguous_fmt_datakey\u001b[38;5;241m=\u001b[39mambiguous_fmt_datakey)\n",
      "File \u001b[1;32m~\\anaconda3\\Lib\\site-packages\\matplotlib\\axes\\_base.py:504\u001b[0m, in \u001b[0;36m_process_plot_var_args._plot_args\u001b[1;34m(self, tup, kwargs, return_kwargs, ambiguous_fmt_datakey)\u001b[0m\n\u001b[0;32m    501\u001b[0m     \u001b[38;5;28mself\u001b[39m\u001b[38;5;241m.\u001b[39maxes\u001b[38;5;241m.\u001b[39myaxis\u001b[38;5;241m.\u001b[39mupdate_units(y)\n\u001b[0;32m    503\u001b[0m \u001b[38;5;28;01mif\u001b[39;00m x\u001b[38;5;241m.\u001b[39mshape[\u001b[38;5;241m0\u001b[39m] \u001b[38;5;241m!=\u001b[39m y\u001b[38;5;241m.\u001b[39mshape[\u001b[38;5;241m0\u001b[39m]:\n\u001b[1;32m--> 504\u001b[0m     \u001b[38;5;28;01mraise\u001b[39;00m \u001b[38;5;167;01mValueError\u001b[39;00m(\u001b[38;5;124mf\u001b[39m\u001b[38;5;124m\"\u001b[39m\u001b[38;5;124mx and y must have same first dimension, but \u001b[39m\u001b[38;5;124m\"\u001b[39m\n\u001b[0;32m    505\u001b[0m                      \u001b[38;5;124mf\u001b[39m\u001b[38;5;124m\"\u001b[39m\u001b[38;5;124mhave shapes \u001b[39m\u001b[38;5;132;01m{\u001b[39;00mx\u001b[38;5;241m.\u001b[39mshape\u001b[38;5;132;01m}\u001b[39;00m\u001b[38;5;124m and \u001b[39m\u001b[38;5;132;01m{\u001b[39;00my\u001b[38;5;241m.\u001b[39mshape\u001b[38;5;132;01m}\u001b[39;00m\u001b[38;5;124m\"\u001b[39m)\n\u001b[0;32m    506\u001b[0m \u001b[38;5;28;01mif\u001b[39;00m x\u001b[38;5;241m.\u001b[39mndim \u001b[38;5;241m>\u001b[39m \u001b[38;5;241m2\u001b[39m \u001b[38;5;129;01mor\u001b[39;00m y\u001b[38;5;241m.\u001b[39mndim \u001b[38;5;241m>\u001b[39m \u001b[38;5;241m2\u001b[39m:\n\u001b[0;32m    507\u001b[0m     \u001b[38;5;28;01mraise\u001b[39;00m \u001b[38;5;167;01mValueError\u001b[39;00m(\u001b[38;5;124mf\u001b[39m\u001b[38;5;124m\"\u001b[39m\u001b[38;5;124mx and y can be no greater than 2D, but have \u001b[39m\u001b[38;5;124m\"\u001b[39m\n\u001b[0;32m    508\u001b[0m                      \u001b[38;5;124mf\u001b[39m\u001b[38;5;124m\"\u001b[39m\u001b[38;5;124mshapes \u001b[39m\u001b[38;5;132;01m{\u001b[39;00mx\u001b[38;5;241m.\u001b[39mshape\u001b[38;5;132;01m}\u001b[39;00m\u001b[38;5;124m and \u001b[39m\u001b[38;5;132;01m{\u001b[39;00my\u001b[38;5;241m.\u001b[39mshape\u001b[38;5;132;01m}\u001b[39;00m\u001b[38;5;124m\"\u001b[39m)\n",
      "\u001b[1;31mValueError\u001b[0m: x and y must have same first dimension, but have shapes (4,) and (3,)"
     ]
    },
    {
     "data": {
      "image/png": "[encoded data removed]",
      "text/plain": [
       "<Figure size 640x480 with 1 Axes>"
      ]
     },
     "metadata": {},
     "output_type": "display_data"
    }
   ],
   "source": [
    "train_scores = [clf.score(X_train, y_train) for clf in clfs]\n",
    "test_scores = [clf.score(X_test, y_test) for clf in clfs]\n",
    "\n",
    "fig, ax = plt.subplots()\n",
    "ax.set_xlabel(\"alpha\")\n",
    "ax.set_ylabel(\"accuracy\")\n",
    "ax.set_title(\"Accuracy vs alpha for training and testing sets\")\n",
    "ax.plot(ccp_alphas, train_scores, marker=\"o\", label=\"train\", drawstyle=\"steps-post\")\n",
    "ax.plot(ccp_alphas, test_scores, marker=\"o\", label=\"test\", drawstyle=\"steps-post\")\n",
    "ax.legend()\n",
    "plt.show()"
   ]
  }
 ],
 "metadata": {
  "kernelspec": {
   "display_name": "extended_fl",
   "language": "python",
   "name": "python3"
  },
  "language_info": {
   "codemirror_mode": {
    "name": "ipython",
    "version": 3
   },
   "file_extension": ".py",
   "mimetype": "text/x-python",
   "name": "python",
   "nbconvert_exporter": "python",
   "pygments_lexer": "ipython3",
   "version": "3.8.5"
  }
 },
 "nbformat": 4,
 "nbformat_minor": 1
}
