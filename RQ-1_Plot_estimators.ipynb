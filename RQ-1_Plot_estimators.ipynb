{
  "cells": [
    {
      "cell_type": "code",
      "execution_count": 63,
      "metadata": {
        "id": "6l5WxINys7r0"
      },
      "outputs": [],
      "source": [
        "from itertools import chain\n",
        "from pathlib import Path\n",
        "\n",
        "\n",
        "def convert(path):\n",
        "    f = open(path)\n",
        "    name_file = Path(f.name).stem\n",
        "\n",
        "    name_file = name_file.replace('DecisionTreeClassifier','DT').replace('XGBClassifier','XB').replace('RandomForestClassifier','RF').replace('X_','')\\\n",
        "        .replace('chi2','C').replace('mRMR','M').replace('X_','')\n",
        "\n",
        "    data_algo = name_file.split('__')\n",
        "    final_name = f'{data_algo[0]}_{data_algo[1]}'\n",
        "\n",
        "\n",
        "    data = json.load(f)\n",
        "\n",
        "    trainings = data['mean_fit_time']\n",
        "    mccs = data['mean_test_MCC']\n",
        "    kappass = data['mean_test_Kappa']\n",
        "    params = data['params']\n",
        "    zipSorted=sorted(zip(mccs,kappass,trainings, params),key = lambda t: t[0],reverse=True)\n",
        "    my_dict=params\n",
        "    my_data=[]\n",
        "    for mcc, kappa, training, param in zipSorted:\n",
        "        score={\"Algo\":final_name ,\"Training time\": training,'MCC':mcc , 'Kappa':kappa }\n",
        "        my_data_tmp =  dict(chain.from_iterable(d.items() for d in (score, param)))\n",
        "        my_data.append(my_data_tmp)\n",
        "    return final_name , pd.DataFrame(data=my_data)"
      ]
    },
    {
      "cell_type": "code",
      "execution_count": 64,
      "metadata": {},
      "outputs": [],
      "source": [
        "from os import listdir\n",
        "from os.path import isfile, join\n",
        "\n"
      ]
    },
    {
      "cell_type": "code",
      "execution_count": 65,
      "metadata": {},
      "outputs": [
        {
          "name": "stdout",
          "output_type": "stream",
          "text": [
            "C:\\Users\\abder\\OneDrive\\Documents\\phd\\implementation software\\Notebooks\\TinyML\n",
            "Directory changed to: C:\\Users\\abder\\OneDrive\\Documents\\phd\\implementation software\\Notebooks\\TinyML\n"
          ]
        }
      ],
      "source": [
        "import os\n",
        "\n",
        "current_directory = os.getcwd()\n",
        "print(current_directory)\n",
        "\n",
        "os.chdir(\"C:\\\\Users\\\\abder\\\\OneDrive\\\\Documents\\\\phd\\\\implementation software\\\\Notebooks\\\\TinyML\")\n",
        "print(\"Directory changed to:\", os.getcwd())"
      ]
    },
    {
      "cell_type": "code",
      "execution_count": 66,
      "metadata": {},
      "outputs": [],
      "source": [
        "mypath = \"result_bot_bin\"\n",
        "my_files = [f for f in listdir(mypath) if isfile(join(mypath, f))]"
      ]
    },
    {
      "cell_type": "code",
      "execution_count": 67,
      "metadata": {},
      "outputs": [
        {
          "data": {
            "text/plain": [
              "['RandomForestClassifier__X.json',\n",
              " 'RandomForestClassifier__X_A_chi2_20.json',\n",
              " 'RandomForestClassifier__X_A_chi2_40.json',\n",
              " 'RandomForestClassifier__X_A_chi2_60.json',\n",
              " 'RandomForestClassifier__X_A_mRMR_20.json',\n",
              " 'RandomForestClassifier__X_A_mRMR_40.json',\n",
              " 'RandomForestClassifier__X_A_mRMR_60.json',\n",
              " 'XGBClassifier__X.json',\n",
              " 'XGBClassifier__X_A_chi2_20.json',\n",
              " 'XGBClassifier__X_A_chi2_40.json',\n",
              " 'XGBClassifier__X_A_chi2_60.json',\n",
              " 'XGBClassifier__X_A_mRMR_20.json',\n",
              " 'XGBClassifier__X_A_mRMR_40.json',\n",
              " 'XGBClassifier__X_A_mRMR_60.json']"
            ]
          },
          "execution_count": 67,
          "metadata": {},
          "output_type": "execute_result"
        }
      ],
      "source": [
        "\n",
        "my_files"
      ]
    },
    {
      "cell_type": "code",
      "execution_count": 68,
      "metadata": {
        "id": "nKp6PfHx415s"
      },
      "outputs": [],
      "source": [
        "import json\n",
        "import pandas as pd\n",
        "\n",
        "my_result_mean = {}\n",
        "for f in my_files:\n",
        "  path_file = join(mypath, f)\n",
        "  k,v = convert(path_file)\n",
        "  my_result_mean[k] = v"
      ]
    },
    {
      "cell_type": "code",
      "execution_count": 69,
      "metadata": {},
      "outputs": [
        {
          "data": {
            "text/plain": [
              "dict_keys(['RF_X', 'RF_A_C_20', 'RF_A_C_40', 'RF_A_C_60', 'RF_A_M_20', 'RF_A_M_40', 'RF_A_M_60', 'XB_X', 'XB_A_C_20', 'XB_A_C_40', 'XB_A_C_60', 'XB_A_M_20', 'XB_A_M_40', 'XB_A_M_60'])"
            ]
          },
          "execution_count": 69,
          "metadata": {},
          "output_type": "execute_result"
        }
      ],
      "source": [
        "my_result_mean.keys()"
      ]
    },
    {
      "cell_type": "code",
      "execution_count": 70,
      "metadata": {},
      "outputs": [
        {
          "data": {
            "text/html": [
              "<div>\n",
              "<style scoped>\n",
              "    .dataframe tbody tr th:only-of-type {\n",
              "        vertical-align: middle;\n",
              "    }\n",
              "\n",
              "    .dataframe tbody tr th {\n",
              "        vertical-align: top;\n",
              "    }\n",
              "\n",
              "    .dataframe thead th {\n",
              "        text-align: right;\n",
              "    }\n",
              "</style>\n",
              "<table border=\"1\" class=\"dataframe\">\n",
              "  <thead>\n",
              "    <tr style=\"text-align: right;\">\n",
              "      <th></th>\n",
              "      <th>Algo</th>\n",
              "      <th>Training time</th>\n",
              "      <th>MCC</th>\n",
              "      <th>Kappa</th>\n",
              "      <th>n_estimators</th>\n",
              "    </tr>\n",
              "  </thead>\n",
              "  <tbody>\n",
              "    <tr>\n",
              "      <th>0</th>\n",
              "      <td>RF_A_C_20</td>\n",
              "      <td>152.751742</td>\n",
              "      <td>0.956171</td>\n",
              "      <td>0.956156</td>\n",
              "      <td>100</td>\n",
              "    </tr>\n",
              "    <tr>\n",
              "      <th>1</th>\n",
              "      <td>RF_A_C_20</td>\n",
              "      <td>108.496685</td>\n",
              "      <td>0.956021</td>\n",
              "      <td>0.956006</td>\n",
              "      <td>70</td>\n",
              "    </tr>\n",
              "    <tr>\n",
              "      <th>2</th>\n",
              "      <td>RF_A_C_20</td>\n",
              "      <td>62.080471</td>\n",
              "      <td>0.955987</td>\n",
              "      <td>0.955973</td>\n",
              "      <td>40</td>\n",
              "    </tr>\n",
              "    <tr>\n",
              "      <th>3</th>\n",
              "      <td>RF_A_C_20</td>\n",
              "      <td>31.786368</td>\n",
              "      <td>0.955549</td>\n",
              "      <td>0.955533</td>\n",
              "      <td>20</td>\n",
              "    </tr>\n",
              "    <tr>\n",
              "      <th>4</th>\n",
              "      <td>RF_A_C_20</td>\n",
              "      <td>8.515477</td>\n",
              "      <td>0.954288</td>\n",
              "      <td>0.954270</td>\n",
              "      <td>5</td>\n",
              "    </tr>\n",
              "  </tbody>\n",
              "</table>\n",
              "</div>"
            ],
            "text/plain": [
              "        Algo  Training time       MCC     Kappa  n_estimators\n",
              "0  RF_A_C_20     152.751742  0.956171  0.956156           100\n",
              "1  RF_A_C_20     108.496685  0.956021  0.956006            70\n",
              "2  RF_A_C_20      62.080471  0.955987  0.955973            40\n",
              "3  RF_A_C_20      31.786368  0.955549  0.955533            20\n",
              "4  RF_A_C_20       8.515477  0.954288  0.954270             5"
            ]
          },
          "execution_count": 70,
          "metadata": {},
          "output_type": "execute_result"
        }
      ],
      "source": [
        "my_result_mean[\"RF_A_C_20\"]"
      ]
    },
    {
      "cell_type": "code",
      "execution_count": 71,
      "metadata": {},
      "outputs": [],
      "source": [
        "values = []\n",
        "\n",
        "for k,v in my_result_mean.items():\n",
        "    values.append(v)\n",
        "    "
      ]
    },
    {
      "cell_type": "code",
      "execution_count": 72,
      "metadata": {},
      "outputs": [
        {
          "data": {
            "text/html": [
              "<div>\n",
              "<style scoped>\n",
              "    .dataframe tbody tr th:only-of-type {\n",
              "        vertical-align: middle;\n",
              "    }\n",
              "\n",
              "    .dataframe tbody tr th {\n",
              "        vertical-align: top;\n",
              "    }\n",
              "\n",
              "    .dataframe thead th {\n",
              "        text-align: right;\n",
              "    }\n",
              "</style>\n",
              "<table border=\"1\" class=\"dataframe\">\n",
              "  <thead>\n",
              "    <tr style=\"text-align: right;\">\n",
              "      <th></th>\n",
              "      <th>Algo</th>\n",
              "      <th>Training time</th>\n",
              "      <th>MCC</th>\n",
              "      <th>Kappa</th>\n",
              "      <th>n_estimators</th>\n",
              "    </tr>\n",
              "  </thead>\n",
              "  <tbody>\n",
              "    <tr>\n",
              "      <th>0</th>\n",
              "      <td>RF_X</td>\n",
              "      <td>224.682301</td>\n",
              "      <td>0.989139</td>\n",
              "      <td>0.989134</td>\n",
              "      <td>40</td>\n",
              "    </tr>\n",
              "    <tr>\n",
              "      <th>1</th>\n",
              "      <td>RF_X</td>\n",
              "      <td>565.808650</td>\n",
              "      <td>0.988915</td>\n",
              "      <td>0.988911</td>\n",
              "      <td>100</td>\n",
              "    </tr>\n",
              "    <tr>\n",
              "      <th>2</th>\n",
              "      <td>RF_X</td>\n",
              "      <td>114.133928</td>\n",
              "      <td>0.988852</td>\n",
              "      <td>0.988846</td>\n",
              "      <td>20</td>\n",
              "    </tr>\n",
              "    <tr>\n",
              "      <th>3</th>\n",
              "      <td>RF_X</td>\n",
              "      <td>381.368647</td>\n",
              "      <td>0.988844</td>\n",
              "      <td>0.988839</td>\n",
              "      <td>70</td>\n",
              "    </tr>\n",
              "    <tr>\n",
              "      <th>4</th>\n",
              "      <td>RF_X</td>\n",
              "      <td>30.703388</td>\n",
              "      <td>0.987884</td>\n",
              "      <td>0.987881</td>\n",
              "      <td>5</td>\n",
              "    </tr>\n",
              "  </tbody>\n",
              "</table>\n",
              "</div>"
            ],
            "text/plain": [
              "   Algo  Training time       MCC     Kappa  n_estimators\n",
              "0  RF_X     224.682301  0.989139  0.989134            40\n",
              "1  RF_X     565.808650  0.988915  0.988911           100\n",
              "2  RF_X     114.133928  0.988852  0.988846            20\n",
              "3  RF_X     381.368647  0.988844  0.988839            70\n",
              "4  RF_X      30.703388  0.987884  0.987881             5"
            ]
          },
          "execution_count": 72,
          "metadata": {},
          "output_type": "execute_result"
        }
      ],
      "source": [
        "values[0]"
      ]
    },
    {
      "cell_type": "code",
      "execution_count": 73,
      "metadata": {},
      "outputs": [],
      "source": [
        "concatenated_df = pd.concat(values, ignore_index=True)\n"
      ]
    },
    {
      "cell_type": "code",
      "execution_count": 74,
      "metadata": {},
      "outputs": [
        {
          "data": {
            "text/plain": [
              "array(['RF_X', 'RF_A_C_20', 'RF_A_C_40', 'RF_A_C_60', 'RF_A_M_20',\n",
              "       'RF_A_M_40', 'RF_A_M_60', 'XB_X', 'XB_A_C_20', 'XB_A_C_40',\n",
              "       'XB_A_C_60', 'XB_A_M_20', 'XB_A_M_40', 'XB_A_M_60'], dtype=object)"
            ]
          },
          "execution_count": 74,
          "metadata": {},
          "output_type": "execute_result"
        }
      ],
      "source": [
        "(concatenated_df.Algo.unique())"
      ]
    },
    {
      "cell_type": "code",
      "execution_count": 75,
      "metadata": {},
      "outputs": [
        {
          "data": {
            "text/plain": [
              "70"
            ]
          },
          "execution_count": 75,
          "metadata": {},
          "output_type": "execute_result"
        }
      ],
      "source": [
        "len(concatenated_df.Algo)"
      ]
    },
    {
      "cell_type": "code",
      "execution_count": 77,
      "metadata": {},
      "outputs": [
        {
          "data": {
            "text/html": [
              "<div>\n",
              "<style scoped>\n",
              "    .dataframe tbody tr th:only-of-type {\n",
              "        vertical-align: middle;\n",
              "    }\n",
              "\n",
              "    .dataframe tbody tr th {\n",
              "        vertical-align: top;\n",
              "    }\n",
              "\n",
              "    .dataframe thead th {\n",
              "        text-align: right;\n",
              "    }\n",
              "</style>\n",
              "<table border=\"1\" class=\"dataframe\">\n",
              "  <thead>\n",
              "    <tr style=\"text-align: right;\">\n",
              "      <th></th>\n",
              "      <th>Algo</th>\n",
              "      <th>Training time</th>\n",
              "      <th>MCC</th>\n",
              "      <th>Kappa</th>\n",
              "      <th>n_estimators</th>\n",
              "    </tr>\n",
              "  </thead>\n",
              "  <tbody>\n",
              "    <tr>\n",
              "      <th>0</th>\n",
              "      <td>XB_A_M_40</td>\n",
              "      <td>7.635590</td>\n",
              "      <td>0.962173</td>\n",
              "      <td>0.962133</td>\n",
              "      <td>5</td>\n",
              "    </tr>\n",
              "    <tr>\n",
              "      <th>1</th>\n",
              "      <td>XB_A_M_60</td>\n",
              "      <td>10.195389</td>\n",
              "      <td>0.963017</td>\n",
              "      <td>0.962983</td>\n",
              "      <td>5</td>\n",
              "    </tr>\n",
              "    <tr>\n",
              "      <th>2</th>\n",
              "      <td>XB_A_M_20</td>\n",
              "      <td>4.237985</td>\n",
              "      <td>0.913792</td>\n",
              "      <td>0.913326</td>\n",
              "      <td>5</td>\n",
              "    </tr>\n",
              "    <tr>\n",
              "      <th>3</th>\n",
              "      <td>XB_A_C_20</td>\n",
              "      <td>4.737343</td>\n",
              "      <td>0.937897</td>\n",
              "      <td>0.937810</td>\n",
              "      <td>5</td>\n",
              "    </tr>\n",
              "    <tr>\n",
              "      <th>4</th>\n",
              "      <td>XB_A_C_60</td>\n",
              "      <td>10.894635</td>\n",
              "      <td>0.960446</td>\n",
              "      <td>0.960428</td>\n",
              "      <td>5</td>\n",
              "    </tr>\n",
              "    <tr>\n",
              "      <th>5</th>\n",
              "      <td>XB_A_C_40</td>\n",
              "      <td>7.682289</td>\n",
              "      <td>0.958154</td>\n",
              "      <td>0.958154</td>\n",
              "      <td>5</td>\n",
              "    </tr>\n",
              "    <tr>\n",
              "      <th>6</th>\n",
              "      <td>XB_X</td>\n",
              "      <td>13.561415</td>\n",
              "      <td>0.961356</td>\n",
              "      <td>0.961306</td>\n",
              "      <td>5</td>\n",
              "    </tr>\n",
              "  </tbody>\n",
              "</table>\n",
              "</div>"
            ],
            "text/plain": [
              "        Algo  Training time       MCC     Kappa  n_estimators\n",
              "0  XB_A_M_40       7.635590  0.962173  0.962133             5\n",
              "1  XB_A_M_60      10.195389  0.963017  0.962983             5\n",
              "2  XB_A_M_20       4.237985  0.913792  0.913326             5\n",
              "3  XB_A_C_20       4.737343  0.937897  0.937810             5\n",
              "4  XB_A_C_60      10.894635  0.960446  0.960428             5\n",
              "5  XB_A_C_40       7.682289  0.958154  0.958154             5\n",
              "6       XB_X      13.561415  0.961356  0.961306             5"
            ]
          },
          "execution_count": 77,
          "metadata": {},
          "output_type": "execute_result"
        }
      ],
      "source": [
        "df_filtered = concatenated_df[(concatenated_df['Algo'].isin(['XB_A_M_40', 'XB_A_M_60', 'XB_A_M_20', 'XB_A_C_20', 'XB_A_C_60', 'XB_A_C_40', 'XB_X'])) & (concatenated_df['n_estimators'] == 5)]\n",
        "df_filtered = df_filtered.set_index('Algo').loc[['XB_A_M_40', 'XB_A_M_60', 'XB_A_M_20', 'XB_A_C_20', 'XB_A_C_60', 'XB_A_C_40', 'XB_X']].reset_index()\n",
        "df_filtered\n"
      ]
    },
    {
      "cell_type": "code",
      "execution_count": null,
      "metadata": {},
      "outputs": [],
      "source": [
        "\n"
      ]
    },
    {
      "cell_type": "code",
      "execution_count": 47,
      "metadata": {
        "id": "2VPD2f4Vsjxi"
      },
      "outputs": [],
      "source": [
        "def bourda_count(my_data_borda):\n",
        "  rank_points = my_data_borda[['MCC',  'Kappa']].values.argsort(axis=0).argsort(axis=0)\n",
        "\n",
        "  borda_counts = rank_points.sum(axis=1)\n",
        "\n",
        "  my_data_borda['Borda'] = borda_counts\n",
        "  sorted_scores = my_data_borda.sort_values(by=['Borda', 'MCC'], ascending=False)\n",
        "\n",
        "  return sorted_scores"
      ]
    },
    {
      "cell_type": "code",
      "execution_count": 148,
      "metadata": {
        "colab": {
          "base_uri": "https://localhost:8080/"
        },
        "id": "HXa8RV0yB8fN",
        "outputId": "48c4fce7-bea9-42cd-9286-6890209b591e"
      },
      "outputs": [
        {
          "data": {
            "text/plain": [
              "dict_keys(['RF_X', 'RF_A_C_20', 'RF_A_C_40', 'RF_A_C_60', 'RF_A_M_20', 'RF_A_M_40', 'RF_A_M_60', 'XB_X', 'XB_A_C_20', 'XB_A_C_40', 'XB_A_C_60', 'XB_A_M_20', 'XB_A_M_40', 'XB_A_M_60'])"
            ]
          },
          "execution_count": 148,
          "metadata": {},
          "output_type": "execute_result"
        }
      ],
      "source": [
        "my_result_mean.keys()"
      ]
    },
    {
      "cell_type": "code",
      "execution_count": null,
      "metadata": {},
      "outputs": [],
      "source": []
    },
    {
      "cell_type": "code",
      "execution_count": 149,
      "metadata": {
        "id": "oxD2ZYmKOjso"
      },
      "outputs": [
        {
          "data": {
            "text/html": [
              "<div>\n",
              "<style scoped>\n",
              "    .dataframe tbody tr th:only-of-type {\n",
              "        vertical-align: middle;\n",
              "    }\n",
              "\n",
              "    .dataframe tbody tr th {\n",
              "        vertical-align: top;\n",
              "    }\n",
              "\n",
              "    .dataframe thead th {\n",
              "        text-align: right;\n",
              "    }\n",
              "</style>\n",
              "<table border=\"1\" class=\"dataframe\">\n",
              "  <thead>\n",
              "    <tr style=\"text-align: right;\">\n",
              "      <th></th>\n",
              "      <th>Algo</th>\n",
              "      <th>MCC</th>\n",
              "      <th>Kappa</th>\n",
              "      <th>n_estimators</th>\n",
              "    </tr>\n",
              "  </thead>\n",
              "  <tbody>\n",
              "    <tr>\n",
              "      <th>4</th>\n",
              "      <td>XB_A_C_20</td>\n",
              "      <td>0.937897</td>\n",
              "      <td>0.937810</td>\n",
              "      <td>5</td>\n",
              "    </tr>\n",
              "    <tr>\n",
              "      <th>3</th>\n",
              "      <td>XB_A_C_20</td>\n",
              "      <td>0.953994</td>\n",
              "      <td>0.953960</td>\n",
              "      <td>20</td>\n",
              "    </tr>\n",
              "    <tr>\n",
              "      <th>2</th>\n",
              "      <td>XB_A_C_20</td>\n",
              "      <td>0.957115</td>\n",
              "      <td>0.957086</td>\n",
              "      <td>40</td>\n",
              "    </tr>\n",
              "    <tr>\n",
              "      <th>1</th>\n",
              "      <td>XB_A_C_20</td>\n",
              "      <td>0.958569</td>\n",
              "      <td>0.958550</td>\n",
              "      <td>70</td>\n",
              "    </tr>\n",
              "    <tr>\n",
              "      <th>0</th>\n",
              "      <td>XB_A_C_20</td>\n",
              "      <td>0.960046</td>\n",
              "      <td>0.960032</td>\n",
              "      <td>100</td>\n",
              "    </tr>\n",
              "  </tbody>\n",
              "</table>\n",
              "</div>"
            ],
            "text/plain": [
              "        Algo       MCC     Kappa  n_estimators\n",
              "4  XB_A_C_20  0.937897  0.937810             5\n",
              "3  XB_A_C_20  0.953994  0.953960            20\n",
              "2  XB_A_C_20  0.957115  0.957086            40\n",
              "1  XB_A_C_20  0.958569  0.958550            70\n",
              "0  XB_A_C_20  0.960046  0.960032           100"
            ]
          },
          "execution_count": 149,
          "metadata": {},
          "output_type": "execute_result"
        }
      ],
      "source": [
        "my_result_mean['XB_A_C_20'].sort_values('n_estimators')"
      ]
    },
    {
      "cell_type": "code",
      "execution_count": 150,
      "metadata": {},
      "outputs": [
        {
          "data": {
            "text/html": [
              "<div>\n",
              "<style scoped>\n",
              "    .dataframe tbody tr th:only-of-type {\n",
              "        vertical-align: middle;\n",
              "    }\n",
              "\n",
              "    .dataframe tbody tr th {\n",
              "        vertical-align: top;\n",
              "    }\n",
              "\n",
              "    .dataframe thead th {\n",
              "        text-align: right;\n",
              "    }\n",
              "</style>\n",
              "<table border=\"1\" class=\"dataframe\">\n",
              "  <thead>\n",
              "    <tr style=\"text-align: right;\">\n",
              "      <th></th>\n",
              "      <th>Algo</th>\n",
              "      <th>MCC</th>\n",
              "      <th>Kappa</th>\n",
              "      <th>n_estimators</th>\n",
              "    </tr>\n",
              "  </thead>\n",
              "  <tbody>\n",
              "    <tr>\n",
              "      <th>0</th>\n",
              "      <td>RF_A_C_20</td>\n",
              "      <td>0.956171</td>\n",
              "      <td>0.956156</td>\n",
              "      <td>100</td>\n",
              "    </tr>\n",
              "    <tr>\n",
              "      <th>1</th>\n",
              "      <td>RF_A_C_20</td>\n",
              "      <td>0.956021</td>\n",
              "      <td>0.956006</td>\n",
              "      <td>70</td>\n",
              "    </tr>\n",
              "    <tr>\n",
              "      <th>2</th>\n",
              "      <td>RF_A_C_20</td>\n",
              "      <td>0.955987</td>\n",
              "      <td>0.955973</td>\n",
              "      <td>40</td>\n",
              "    </tr>\n",
              "    <tr>\n",
              "      <th>3</th>\n",
              "      <td>RF_A_C_20</td>\n",
              "      <td>0.955549</td>\n",
              "      <td>0.955533</td>\n",
              "      <td>20</td>\n",
              "    </tr>\n",
              "    <tr>\n",
              "      <th>4</th>\n",
              "      <td>RF_A_C_20</td>\n",
              "      <td>0.954288</td>\n",
              "      <td>0.954270</td>\n",
              "      <td>5</td>\n",
              "    </tr>\n",
              "  </tbody>\n",
              "</table>\n",
              "</div>"
            ],
            "text/plain": [
              "        Algo       MCC     Kappa  n_estimators\n",
              "0  RF_A_C_20  0.956171  0.956156           100\n",
              "1  RF_A_C_20  0.956021  0.956006            70\n",
              "2  RF_A_C_20  0.955987  0.955973            40\n",
              "3  RF_A_C_20  0.955549  0.955533            20\n",
              "4  RF_A_C_20  0.954288  0.954270             5"
            ]
          },
          "execution_count": 150,
          "metadata": {},
          "output_type": "execute_result"
        }
      ],
      "source": [
        "my_result_mean['RF_A_C_20']"
      ]
    },
    {
      "cell_type": "code",
      "execution_count": 151,
      "metadata": {},
      "outputs": [
        {
          "data": {
            "text/plain": [
              "dict_keys(['RF_X', 'RF_A_C_20', 'RF_A_C_40', 'RF_A_C_60', 'RF_A_M_20', 'RF_A_M_40', 'RF_A_M_60', 'XB_X', 'XB_A_C_20', 'XB_A_C_40', 'XB_A_C_60', 'XB_A_M_20', 'XB_A_M_40', 'XB_A_M_60'])"
            ]
          },
          "execution_count": 151,
          "metadata": {},
          "output_type": "execute_result"
        }
      ],
      "source": [
        "my_result_mean.keys()"
      ]
    },
    {
      "cell_type": "code",
      "execution_count": 152,
      "metadata": {},
      "outputs": [],
      "source": [
        "# List of keys to keep\n",
        "keys_to_keep = ['RF_A_C_20','RF_A_M_20', 'RF_A_C_40','RF_A_M_40', 'RF_A_C_60',   'RF_A_M_60','RF_X']\n",
        "\n",
        "# New dictionary with selected keys and their values\n",
        "filtered_dict = {key: my_result_mean[key].sort_values('n_estimators') for key in keys_to_keep if key in my_result_mean}\n",
        "\n",
        "\n",
        "estimators_5 =[filtered_dict[key].MCC.values[filtered_dict[key].n_estimators==5] for key  in filtered_dict.keys()]\n",
        "estimators_20 =[filtered_dict[key].MCC.values[filtered_dict[key].n_estimators==20] for key  in filtered_dict.keys()]\n",
        "estimators_40 =[filtered_dict[key].MCC.values[filtered_dict[key].n_estimators==40] for key  in filtered_dict.keys()]\n",
        "estimators_70 =[filtered_dict[key].MCC.values[filtered_dict[key].n_estimators==70] for key  in filtered_dict.keys()]\n",
        "estimators_100 =[filtered_dict[key].MCC.values[filtered_dict[key].n_estimators==100] for key  in filtered_dict.keys()]\n",
        "\n",
        "estimators_5_values = [float(\"{:.3f}\".format(val[0])) for val in estimators_5]\n",
        "estimators_20_values = [float(\"{:.3f}\".format(val[0])) for val in estimators_20]\n",
        "estimators_40_values = [float(\"{:.3f}\".format(val[0])) for val in estimators_40]\n",
        "estimators_70_values = [float(\"{:.3f}\".format(val[0])) for val in estimators_70]\n",
        "estimators_100_values = [float(\"{:.3f}\".format(val[0])) for val in estimators_100]"
      ]
    },
    {
      "cell_type": "code",
      "execution_count": 153,
      "metadata": {},
      "outputs": [
        {
          "data": {
            "image/png": "[encoded data removed]",
            "text/plain": [
              "<Figure size 1000x600 with 1 Axes>"
            ]
          },
          "metadata": {},
          "output_type": "display_data"
        }
      ],
      "source": [
        "# data from https://allisonhorst.github.io/palmerpenguins/\n",
        "\n",
        "import matplotlib.pyplot as plt\n",
        "import numpy as np\n",
        "\n",
        "species = ('A_C_20_RF','A_M_20_RF', 'A_C_40_RF','A_M_40_RF', 'A_C_60_RF',   'A_M_60_RF','X_100_RF')\n",
        "penguin_means = {\n",
        "    '5': estimators_5_values,\n",
        "    '20': estimators_20_values,\n",
        "    '40': estimators_40_values,\n",
        "    '70': estimators_70_values,\n",
        "    '100': estimators_100_values\n",
        "}\n",
        "\n",
        "x = np.arange(len(species))  # the label locations\n",
        "width = 0.18  # the width of the bars\n",
        "multiplier = 0\n",
        "\n",
        "font = {'family': 'Times New Roman', 'weight': 'bold', 'size': 12.1}\n",
        "plt.rc('font', **font)\n",
        "\n",
        "fig, ax = plt.subplots(layout='constrained', figsize=(10, 6))\n",
        "\n",
        "\n",
        "\n",
        "for attribute, measurement in penguin_means.items():\n",
        "    offset = width * multiplier\n",
        "    rects = ax.bar(x + offset, measurement, width, label=attribute)\n",
        "    ax.bar_label(rects, padding=3, rotation=90)\n",
        "    multiplier += 1\n",
        "\n",
        "# Add some text for labels, title and custom x-axis tick labels, etc.\n",
        "font = {'family': 'Times New Roman', 'weight': 'bold', 'size': 16}\n",
        "\n",
        "ax.set_ylabel('MCC', fontdict=font)\n",
        "ax.set_title('MCC values of the RF estimators using NF-BoT-IoT-v2', fontdict=font)\n",
        "ax.set_xticks(x + width+0.17, species)\n",
        "ax.legend(loc='upper left', ncols=5, bbox_to_anchor=(0, 1.01))\n",
        "ax.set_ylim(0.88, 1)\n",
        "\n",
        "plt.show()"
      ]
    },
    {
      "cell_type": "code",
      "execution_count": null,
      "metadata": {},
      "outputs": [],
      "source": []
    },
    {
      "cell_type": "code",
      "execution_count": null,
      "metadata": {},
      "outputs": [],
      "source": []
    },
    {
      "cell_type": "code",
      "execution_count": 154,
      "metadata": {},
      "outputs": [],
      "source": [
        "# List of keys to keep\n",
        "keys_to_keep = ['XB_A_C_20','XB_A_M_20', 'XB_A_C_40','XB_A_M_40', 'XB_A_C_60',   'XB_A_M_60','XB_X']\n",
        "\n",
        "# New dictionary with selected keys and their values\n",
        "filtered_dict = {key: my_result_mean[key].sort_values('n_estimators') for key in keys_to_keep if key in my_result_mean}\n",
        "\n",
        "\n",
        "estimators_5 =[filtered_dict[key].MCC.values[filtered_dict[key].n_estimators==5] for key  in filtered_dict.keys()]\n",
        "estimators_20 =[filtered_dict[key].MCC.values[filtered_dict[key].n_estimators==20] for key  in filtered_dict.keys()]\n",
        "estimators_40 =[filtered_dict[key].MCC.values[filtered_dict[key].n_estimators==40] for key  in filtered_dict.keys()]\n",
        "estimators_70 =[filtered_dict[key].MCC.values[filtered_dict[key].n_estimators==70] for key  in filtered_dict.keys()]\n",
        "estimators_100 =[filtered_dict[key].MCC.values[filtered_dict[key].n_estimators==100] for key  in filtered_dict.keys()]\n",
        "\n",
        "estimators_5_values = [float(\"{:.3f}\".format(val[0])) for val in estimators_5]\n",
        "estimators_20_values = [float(\"{:.3f}\".format(val[0])) for val in estimators_20]\n",
        "estimators_40_values = [float(\"{:.3f}\".format(val[0])) for val in estimators_40]\n",
        "estimators_70_values = [float(\"{:.3f}\".format(val[0])) for val in estimators_70]\n",
        "estimators_100_values = [float(\"{:.3f}\".format(val[0])) for val in estimators_100]"
      ]
    },
    {
      "cell_type": "code",
      "execution_count": 155,
      "metadata": {},
      "outputs": [
        {
          "data": {
            "image/png": "[encoded data removed]",
            "text/plain": [
              "<Figure size 1000x600 with 1 Axes>"
            ]
          },
          "metadata": {},
          "output_type": "display_data"
        }
      ],
      "source": [
        "# data from https://allisonhorst.github.io/palmerpenguins/\n",
        "\n",
        "import matplotlib.pyplot as plt\n",
        "import numpy as np\n",
        "\n",
        "species = ('A_C_20_XGB','A_M_20_XGB', 'A_C_40_XGB','A_M_40_XGB', 'A_C_60_XGB',   'A_M_60_XGB','X_100_XGB')\n",
        "penguin_means = {\n",
        "    '5': estimators_5_values,\n",
        "    '20': estimators_20_values,\n",
        "    '40': estimators_40_values,\n",
        "    '70': estimators_70_values,\n",
        "    '100': estimators_100_values\n",
        "}\n",
        "\n",
        "x = np.arange(len(species))  # the label locations\n",
        "width = 0.18  # the width of the bars\n",
        "multiplier = 0\n",
        "\n",
        "font = {'family': 'Times New Roman', 'weight': 'bold', 'size': 12.1}\n",
        "plt.rc('font', **font)\n",
        "\n",
        "fig, ax = plt.subplots(layout='constrained', figsize=(10, 6))\n",
        "\n",
        "\n",
        "\n",
        "for attribute, measurement in penguin_means.items():\n",
        "    offset = width * multiplier\n",
        "    rects = ax.bar(x + offset, measurement, width, label=attribute)\n",
        "    ax.bar_label(rects, padding=3, rotation=90)\n",
        "    multiplier += 1\n",
        "\n",
        "# Add some text for labels, title and custom x-axis tick labels, etc.\n",
        "font = {'family': 'Times New Roman', 'weight': 'bold', 'size': 16}\n",
        "\n",
        "ax.set_ylabel('MCC', fontdict=font)\n",
        "ax.set_title('MCC values of the XGB estimators using NF-BoT-IoT-v2', fontdict=font)\n",
        "ax.set_xticks(x + width+0.17, species)\n",
        "ax.legend(loc='upper left', ncols=5, bbox_to_anchor=(0, 1.001))\n",
        "ax.set_ylim(0.88, 1)\n",
        "\n",
        "plt.show()"
      ]
    },
    {
      "cell_type": "code",
      "execution_count": null,
      "metadata": {},
      "outputs": [],
      "source": []
    },
    {
      "cell_type": "markdown",
      "metadata": {},
      "source": [
        "### Decision Tree"
      ]
    },
    {
      "cell_type": "code",
      "execution_count": 180,
      "metadata": {},
      "outputs": [],
      "source": [
        "from os import listdir\n",
        "from os.path import isfile, join\n",
        "\n",
        "mypath_DT = \"result_ton_bin/DT_with_ccp\"\n",
        "my_files_DT = [f for f in listdir(mypath_DT) if isfile(join(mypath_DT, f))]"
      ]
    },
    {
      "cell_type": "code",
      "execution_count": 181,
      "metadata": {},
      "outputs": [],
      "source": [
        "import json\n",
        "import pandas as pd\n",
        "\n",
        "my_result_mean_DT = {}\n",
        "for f in my_files_DT:\n",
        "  path_file = join(mypath_DT, f)\n",
        "  k,v = convert(path_file)\n",
        "  my_result_mean_DT[k] = v"
      ]
    },
    {
      "cell_type": "code",
      "execution_count": 182,
      "metadata": {},
      "outputs": [
        {
          "data": {
            "text/plain": [
              "dict_keys(['DT_X', 'DT_A_C_20', 'DT_A_C_40', 'DT_A_C_60', 'DT_A_M_20', 'DT_A_M_40', 'DT_A_M_60'])"
            ]
          },
          "execution_count": 182,
          "metadata": {},
          "output_type": "execute_result"
        }
      ],
      "source": [
        "my_result_mean_DT.keys()"
      ]
    },
    {
      "cell_type": "code",
      "execution_count": 183,
      "metadata": {},
      "outputs": [
        {
          "data": {
            "text/html": [
              "<div>\n",
              "<style scoped>\n",
              "    .dataframe tbody tr th:only-of-type {\n",
              "        vertical-align: middle;\n",
              "    }\n",
              "\n",
              "    .dataframe tbody tr th {\n",
              "        vertical-align: top;\n",
              "    }\n",
              "\n",
              "    .dataframe thead th {\n",
              "        text-align: right;\n",
              "    }\n",
              "</style>\n",
              "<table border=\"1\" class=\"dataframe\">\n",
              "  <thead>\n",
              "    <tr style=\"text-align: right;\">\n",
              "      <th></th>\n",
              "      <th>Algo</th>\n",
              "      <th>MCC</th>\n",
              "      <th>Kappa</th>\n",
              "    </tr>\n",
              "  </thead>\n",
              "  <tbody>\n",
              "    <tr>\n",
              "      <th>0</th>\n",
              "      <td>DT_A_C_20</td>\n",
              "      <td>0.877715</td>\n",
              "      <td>0.877542</td>\n",
              "    </tr>\n",
              "    <tr>\n",
              "      <th>0</th>\n",
              "      <td>DT_A_M_20</td>\n",
              "      <td>0.833671</td>\n",
              "      <td>0.833048</td>\n",
              "    </tr>\n",
              "    <tr>\n",
              "      <th>0</th>\n",
              "      <td>DT_A_C_40</td>\n",
              "      <td>0.894394</td>\n",
              "      <td>0.890977</td>\n",
              "    </tr>\n",
              "    <tr>\n",
              "      <th>0</th>\n",
              "      <td>DT_A_M_40</td>\n",
              "      <td>0.908071</td>\n",
              "      <td>0.905667</td>\n",
              "    </tr>\n",
              "    <tr>\n",
              "      <th>0</th>\n",
              "      <td>DT_A_C_60</td>\n",
              "      <td>0.896553</td>\n",
              "      <td>0.893303</td>\n",
              "    </tr>\n",
              "    <tr>\n",
              "      <th>0</th>\n",
              "      <td>DT_A_M_60</td>\n",
              "      <td>0.909629</td>\n",
              "      <td>0.907176</td>\n",
              "    </tr>\n",
              "    <tr>\n",
              "      <th>0</th>\n",
              "      <td>DT_X</td>\n",
              "      <td>0.889366</td>\n",
              "      <td>0.884168</td>\n",
              "    </tr>\n",
              "  </tbody>\n",
              "</table>\n",
              "</div>"
            ],
            "text/plain": [
              "        Algo       MCC     Kappa\n",
              "0  DT_A_C_20  0.877715  0.877542\n",
              "0  DT_A_M_20  0.833671  0.833048\n",
              "0  DT_A_C_40  0.894394  0.890977\n",
              "0  DT_A_M_40  0.908071  0.905667\n",
              "0  DT_A_C_60  0.896553  0.893303\n",
              "0  DT_A_M_60  0.909629  0.907176\n",
              "0       DT_X  0.889366  0.884168"
            ]
          },
          "execution_count": 183,
          "metadata": {},
          "output_type": "execute_result"
        }
      ],
      "source": [
        "my_list = ['DT_A_C_20', 'DT_A_M_20', 'DT_A_C_40', 'DT_A_M_40', 'DT_A_C_60', 'DT_A_M_60', 'DT_X']\n",
        "\n",
        "dfs = []\n",
        "for k in my_list:\n",
        "    dfs.append(my_result_mean_DT[k])\n",
        "\n",
        "results_DT = pd.concat(dfs)\n",
        "\n",
        "results_DT"
      ]
    },
    {
      "cell_type": "code",
      "execution_count": 179,
      "metadata": {},
      "outputs": [
        {
          "data": {
            "text/html": [
              "<div>\n",
              "<style scoped>\n",
              "    .dataframe tbody tr th:only-of-type {\n",
              "        vertical-align: middle;\n",
              "    }\n",
              "\n",
              "    .dataframe tbody tr th {\n",
              "        vertical-align: top;\n",
              "    }\n",
              "\n",
              "    .dataframe thead th {\n",
              "        text-align: right;\n",
              "    }\n",
              "</style>\n",
              "<table border=\"1\" class=\"dataframe\">\n",
              "  <thead>\n",
              "    <tr style=\"text-align: right;\">\n",
              "      <th></th>\n",
              "      <th>Algo</th>\n",
              "      <th>MCC</th>\n",
              "      <th>Kappa</th>\n",
              "    </tr>\n",
              "  </thead>\n",
              "  <tbody>\n",
              "    <tr>\n",
              "      <th>0</th>\n",
              "      <td>DT_A_C_20</td>\n",
              "      <td>0.957357</td>\n",
              "      <td>0.957343</td>\n",
              "    </tr>\n",
              "    <tr>\n",
              "      <th>0</th>\n",
              "      <td>DT_A_M_20</td>\n",
              "      <td>0.930546</td>\n",
              "      <td>0.929832</td>\n",
              "    </tr>\n",
              "    <tr>\n",
              "      <th>0</th>\n",
              "      <td>DT_A_C_40</td>\n",
              "      <td>0.985176</td>\n",
              "      <td>0.985165</td>\n",
              "    </tr>\n",
              "    <tr>\n",
              "      <th>0</th>\n",
              "      <td>DT_A_M_40</td>\n",
              "      <td>0.984489</td>\n",
              "      <td>0.984477</td>\n",
              "    </tr>\n",
              "    <tr>\n",
              "      <th>0</th>\n",
              "      <td>DT_A_C_60</td>\n",
              "      <td>0.989609</td>\n",
              "      <td>0.989608</td>\n",
              "    </tr>\n",
              "    <tr>\n",
              "      <th>0</th>\n",
              "      <td>DT_A_M_60</td>\n",
              "      <td>0.990092</td>\n",
              "      <td>0.990090</td>\n",
              "    </tr>\n",
              "    <tr>\n",
              "      <th>0</th>\n",
              "      <td>DT_X</td>\n",
              "      <td>0.989608</td>\n",
              "      <td>0.989606</td>\n",
              "    </tr>\n",
              "  </tbody>\n",
              "</table>\n",
              "</div>"
            ],
            "text/plain": [
              "        Algo       MCC     Kappa\n",
              "0  DT_A_C_20  0.957357  0.957343\n",
              "0  DT_A_M_20  0.930546  0.929832\n",
              "0  DT_A_C_40  0.985176  0.985165\n",
              "0  DT_A_M_40  0.984489  0.984477\n",
              "0  DT_A_C_60  0.989609  0.989608\n",
              "0  DT_A_M_60  0.990092  0.990090\n",
              "0       DT_X  0.989608  0.989606"
            ]
          },
          "execution_count": 179,
          "metadata": {},
          "output_type": "execute_result"
        }
      ],
      "source": [
        "results_DT"
      ]
    },
    {
      "cell_type": "code",
      "execution_count": null,
      "metadata": {},
      "outputs": [],
      "source": []
    },
    {
      "cell_type": "code",
      "execution_count": null,
      "metadata": {},
      "outputs": [],
      "source": []
    },
    {
      "cell_type": "code",
      "execution_count": null,
      "metadata": {},
      "outputs": [],
      "source": []
    },
    {
      "cell_type": "code",
      "execution_count": null,
      "metadata": {},
      "outputs": [],
      "source": []
    },
    {
      "cell_type": "code",
      "execution_count": null,
      "metadata": {},
      "outputs": [],
      "source": []
    }
  ],
  "metadata": {
    "colab": {
      "provenance": []
    },
    "kernelspec": {
      "display_name": "Python 3 (ipykernel)",
      "language": "python",
      "name": "python3"
    },
    "language_info": {
      "codemirror_mode": {
        "name": "ipython",
        "version": 3
      },
      "file_extension": ".py",
      "mimetype": "text/x-python",
      "name": "python",
      "nbconvert_exporter": "python",
      "pygments_lexer": "ipython3",
      "version": "3.11.4"
    }
  },
  "nbformat": 4,
  "nbformat_minor": 0
}
